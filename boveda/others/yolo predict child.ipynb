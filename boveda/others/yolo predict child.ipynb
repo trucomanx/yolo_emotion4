{
 "cells": [
  {
   "cell_type": "code",
   "execution_count": 2,
   "metadata": {},
   "outputs": [],
   "source": [
    "import torch\n",
    "from ultralytics import YOLO, utils\n",
    "import matplotlib.pyplot as pl"
   ]
  },
  {
   "cell_type": "code",
   "execution_count": 3,
   "metadata": {},
   "outputs": [],
   "source": [
    "model = YOLO('./yolov8n-cls.pt')"
   ]
  },
  {
   "cell_type": "code",
   "execution_count": 4,
   "metadata": {},
   "outputs": [
    {
     "name": "stdout",
     "output_type": "stream",
     "text": [
      "New https://pypi.org/project/ultralytics/8.2.2 available 😃 Update with 'pip install -U ultralytics'\n",
      "Ultralytics YOLOv8.1.16 🚀 Python-3.11.5 torch-2.1.0 CUDA:0 (NVIDIA GeForce RTX 2080, 8192MiB)\n",
      "\u001b[34m\u001b[1mengine\\trainer: \u001b[0mtask=classify, mode=train, model=./yolov8n-cls.pt, data=D:/Dados/Weverson/Yolo Jhonson/ChildNotChild/CHILDADULTDATASET/fold_5, epochs=100, time=None, patience=100, batch=16, imgsz=224, save=True, save_period=-1, cache=False, device=None, workers=8, project=None, name=train, exist_ok=False, pretrained=True, optimizer=auto, verbose=True, seed=0, deterministic=True, single_cls=False, rect=False, cos_lr=False, close_mosaic=10, resume=False, amp=True, fraction=1.0, profile=False, freeze=None, multi_scale=False, overlap_mask=True, mask_ratio=4, dropout=0.0, val=True, split=val, save_json=False, save_hybrid=False, conf=None, iou=0.7, max_det=300, half=False, dnn=False, plots=True, source=None, vid_stride=1, stream_buffer=False, visualize=False, augment=False, agnostic_nms=False, classes=None, retina_masks=False, embed=None, show=False, save_frames=False, save_txt=False, save_conf=False, save_crop=False, show_labels=True, show_conf=True, show_boxes=True, line_width=None, format=torchscript, keras=False, optimize=False, int8=False, dynamic=False, simplify=False, opset=None, workspace=4, nms=False, lr0=0.01, lrf=0.01, momentum=0.937, weight_decay=0.0005, warmup_epochs=3.0, warmup_momentum=0.8, warmup_bias_lr=0.1, box=7.5, cls=0.5, dfl=1.5, pose=12.0, kobj=1.0, label_smoothing=0.0, nbs=64, hsv_h=0.015, hsv_s=0.7, hsv_v=0.4, degrees=0.0, translate=0.1, scale=0.5, shear=0.0, perspective=0.0, flipud=0.0, fliplr=0.5, mosaic=1.0, mixup=0.0, copy_paste=0.0, auto_augment=randaugment, erasing=0.4, crop_fraction=1.0, cfg=None, tracker=botsort.yaml, save_dir=runs\\classify\\train\n",
      "\u001b[34m\u001b[1mtrain:\u001b[0m D:\\Dados\\Weverson\\Yolo Jhonson\\ChildNotChild\\CHILDADULTDATASET\\fold_5\\train... found 509 images in 2 classes ✅ \n",
      "\u001b[34m\u001b[1mval:\u001b[0m D:\\Dados\\Weverson\\Yolo Jhonson\\ChildNotChild\\CHILDADULTDATASET\\fold_5\\val... found 128 images in 2 classes ✅ \n",
      "\u001b[34m\u001b[1mtest:\u001b[0m D:\\Dados\\Weverson\\Yolo Jhonson\\ChildNotChild\\CHILDADULTDATASET\\fold_5\\test... found 160 images in 2 classes ✅ \n",
      "Overriding model.yaml nc=1000 with nc=2\n",
      "\n",
      "                   from  n    params  module                                       arguments                     \n",
      "  0                  -1  1       464  ultralytics.nn.modules.conv.Conv             [3, 16, 3, 2]                 \n",
      "  1                  -1  1      4672  ultralytics.nn.modules.conv.Conv             [16, 32, 3, 2]                \n",
      "  2                  -1  1      7360  ultralytics.nn.modules.block.C2f             [32, 32, 1, True]             \n",
      "  3                  -1  1     18560  ultralytics.nn.modules.conv.Conv             [32, 64, 3, 2]                \n",
      "  4                  -1  2     49664  ultralytics.nn.modules.block.C2f             [64, 64, 2, True]             \n",
      "  5                  -1  1     73984  ultralytics.nn.modules.conv.Conv             [64, 128, 3, 2]               \n",
      "  6                  -1  2    197632  ultralytics.nn.modules.block.C2f             [128, 128, 2, True]           \n",
      "  7                  -1  1    295424  ultralytics.nn.modules.conv.Conv             [128, 256, 3, 2]              \n",
      "  8                  -1  1    460288  ultralytics.nn.modules.block.C2f             [256, 256, 1, True]           \n",
      "  9                  -1  1    332802  ultralytics.nn.modules.head.Classify         [256, 2]                      \n",
      "YOLOv8n-cls summary: 99 layers, 1440850 parameters, 1440850 gradients, 3.4 GFLOPs\n",
      "Transferred 156/158 items from pretrained weights\n",
      "\u001b[34m\u001b[1mTensorBoard: \u001b[0mStart with 'tensorboard --logdir runs\\classify\\train', view at http://localhost:6006/\n",
      "\u001b[34m\u001b[1mAMP: \u001b[0mrunning Automatic Mixed Precision (AMP) checks with YOLOv8n...\n",
      "\u001b[34m\u001b[1mAMP: \u001b[0mchecks passed ✅\n"
     ]
    },
    {
     "name": "stderr",
     "output_type": "stream",
     "text": [
      "\u001b[34m\u001b[1mtrain: \u001b[0mScanning D:\\Dados\\Weverson\\Yolo Jhonson\\ChildNotChild\\CHILDADULTDATASET\\fold_5\\train... 509 images, 0 corrupt: 100%|██████████| 509/509 [00:00<00:00, 2651.05it/s]"
     ]
    },
    {
     "name": "stdout",
     "output_type": "stream",
     "text": [
      "\u001b[34m\u001b[1mtrain: \u001b[0mNew cache created: D:\\Dados\\Weverson\\Yolo Jhonson\\ChildNotChild\\CHILDADULTDATASET\\fold_5\\train.cache\n"
     ]
    },
    {
     "name": "stderr",
     "output_type": "stream",
     "text": [
      "\n",
      "\u001b[34m\u001b[1mval: \u001b[0mScanning D:\\Dados\\Weverson\\Yolo Jhonson\\ChildNotChild\\CHILDADULTDATASET\\fold_5\\val... 128 images, 0 corrupt: 100%|██████████| 128/128 [00:00<00:00, 1802.77it/s]"
     ]
    },
    {
     "name": "stdout",
     "output_type": "stream",
     "text": [
      "\u001b[34m\u001b[1mval: \u001b[0mNew cache created: D:\\Dados\\Weverson\\Yolo Jhonson\\ChildNotChild\\CHILDADULTDATASET\\fold_5\\val.cache\n"
     ]
    },
    {
     "name": "stderr",
     "output_type": "stream",
     "text": [
      "\n"
     ]
    },
    {
     "name": "stdout",
     "output_type": "stream",
     "text": [
      "\u001b[34m\u001b[1moptimizer:\u001b[0m 'optimizer=auto' found, ignoring 'lr0=0.01' and 'momentum=0.937' and determining best 'optimizer', 'lr0' and 'momentum' automatically... \n",
      "\u001b[34m\u001b[1moptimizer:\u001b[0m AdamW(lr=0.000714, momentum=0.9) with parameter groups 26 weight(decay=0.0), 27 weight(decay=0.0005), 27 bias(decay=0.0)\n",
      "\u001b[34m\u001b[1mTensorBoard: \u001b[0mmodel graph visualization added ✅\n",
      "Image sizes 224 train, 224 val\n",
      "Using 8 dataloader workers\n",
      "Logging results to \u001b[1mruns\\classify\\train\u001b[0m\n",
      "Starting training for 100 epochs...\n",
      "\n",
      "      Epoch    GPU_mem       loss  Instances       Size\n"
     ]
    },
    {
     "name": "stderr",
     "output_type": "stream",
     "text": [
      "      1/100     0.394G     0.6574         13        224: 100%|██████████| 32/32 [00:02<00:00, 10.68it/s]\n",
      "               classes   top1_acc   top5_acc: 100%|██████████| 4/4 [00:04<00:00,  1.22s/it]"
     ]
    },
    {
     "name": "stdout",
     "output_type": "stream",
     "text": [
      "                   all      0.758          1\n"
     ]
    },
    {
     "name": "stderr",
     "output_type": "stream",
     "text": [
      "\n"
     ]
    },
    {
     "name": "stdout",
     "output_type": "stream",
     "text": [
      "\n",
      "      Epoch    GPU_mem       loss  Instances       Size\n"
     ]
    },
    {
     "name": "stderr",
     "output_type": "stream",
     "text": [
      "      2/100     0.394G     0.5174         13        224: 100%|██████████| 32/32 [00:01<00:00, 21.87it/s]\n",
      "               classes   top1_acc   top5_acc: 100%|██████████| 4/4 [00:00<00:00, 70.16it/s]"
     ]
    },
    {
     "name": "stdout",
     "output_type": "stream",
     "text": [
      "                   all      0.773          1\n"
     ]
    },
    {
     "name": "stderr",
     "output_type": "stream",
     "text": [
      "\n"
     ]
    },
    {
     "name": "stdout",
     "output_type": "stream",
     "text": [
      "\n",
      "      Epoch    GPU_mem       loss  Instances       Size\n"
     ]
    },
    {
     "name": "stderr",
     "output_type": "stream",
     "text": [
      "      3/100     0.394G     0.4211         13        224: 100%|██████████| 32/32 [00:01<00:00, 22.84it/s]\n",
      "               classes   top1_acc   top5_acc: 100%|██████████| 4/4 [00:00<00:00, 64.52it/s]"
     ]
    },
    {
     "name": "stdout",
     "output_type": "stream",
     "text": [
      "                   all      0.812          1\n"
     ]
    },
    {
     "name": "stderr",
     "output_type": "stream",
     "text": [
      "\n"
     ]
    },
    {
     "name": "stdout",
     "output_type": "stream",
     "text": [
      "\n",
      "      Epoch    GPU_mem       loss  Instances       Size\n"
     ]
    },
    {
     "name": "stderr",
     "output_type": "stream",
     "text": [
      "      4/100     0.394G     0.3132         13        224: 100%|██████████| 32/32 [00:01<00:00, 24.11it/s]\n",
      "               classes   top1_acc   top5_acc: 100%|██████████| 4/4 [00:00<00:00, 60.61it/s]"
     ]
    },
    {
     "name": "stdout",
     "output_type": "stream",
     "text": [
      "                   all       0.82          1\n"
     ]
    },
    {
     "name": "stderr",
     "output_type": "stream",
     "text": [
      "\n"
     ]
    },
    {
     "name": "stdout",
     "output_type": "stream",
     "text": [
      "\n",
      "      Epoch    GPU_mem       loss  Instances       Size\n"
     ]
    },
    {
     "name": "stderr",
     "output_type": "stream",
     "text": [
      "      5/100     0.394G     0.2942         13        224: 100%|██████████| 32/32 [00:01<00:00, 24.33it/s]\n",
      "               classes   top1_acc   top5_acc: 100%|██████████| 4/4 [00:00<00:00, 66.66it/s]"
     ]
    },
    {
     "name": "stdout",
     "output_type": "stream",
     "text": [
      "                   all      0.859          1\n"
     ]
    },
    {
     "name": "stderr",
     "output_type": "stream",
     "text": [
      "\n"
     ]
    },
    {
     "name": "stdout",
     "output_type": "stream",
     "text": [
      "\n",
      "      Epoch    GPU_mem       loss  Instances       Size\n"
     ]
    },
    {
     "name": "stderr",
     "output_type": "stream",
     "text": [
      "      6/100     0.394G     0.2068         13        224: 100%|██████████| 32/32 [00:01<00:00, 24.75it/s]\n",
      "               classes   top1_acc   top5_acc: 100%|██████████| 4/4 [00:00<00:00, 43.96it/s]"
     ]
    },
    {
     "name": "stdout",
     "output_type": "stream",
     "text": [
      "                   all      0.844          1\n"
     ]
    },
    {
     "name": "stderr",
     "output_type": "stream",
     "text": [
      "\n"
     ]
    },
    {
     "name": "stdout",
     "output_type": "stream",
     "text": [
      "\n",
      "      Epoch    GPU_mem       loss  Instances       Size\n"
     ]
    },
    {
     "name": "stderr",
     "output_type": "stream",
     "text": [
      "      7/100     0.394G     0.2153         13        224: 100%|██████████| 32/32 [00:01<00:00, 24.22it/s]\n",
      "               classes   top1_acc   top5_acc: 100%|██████████| 4/4 [00:00<00:00, 68.96it/s]"
     ]
    },
    {
     "name": "stdout",
     "output_type": "stream",
     "text": [
      "                   all      0.852          1\n"
     ]
    },
    {
     "name": "stderr",
     "output_type": "stream",
     "text": [
      "\n"
     ]
    },
    {
     "name": "stdout",
     "output_type": "stream",
     "text": [
      "\n",
      "      Epoch    GPU_mem       loss  Instances       Size\n"
     ]
    },
    {
     "name": "stderr",
     "output_type": "stream",
     "text": [
      "      8/100     0.394G     0.2103         13        224: 100%|██████████| 32/32 [00:01<00:00, 24.56it/s]\n",
      "               classes   top1_acc   top5_acc: 100%|██████████| 4/4 [00:00<00:00, 70.16it/s]"
     ]
    },
    {
     "name": "stdout",
     "output_type": "stream",
     "text": [
      "                   all      0.875          1\n"
     ]
    },
    {
     "name": "stderr",
     "output_type": "stream",
     "text": [
      "\n"
     ]
    },
    {
     "name": "stdout",
     "output_type": "stream",
     "text": [
      "\n",
      "      Epoch    GPU_mem       loss  Instances       Size\n"
     ]
    },
    {
     "name": "stderr",
     "output_type": "stream",
     "text": [
      "      9/100     0.394G     0.1926         13        224: 100%|██████████| 32/32 [00:01<00:00, 24.32it/s]\n",
      "               classes   top1_acc   top5_acc: 100%|██████████| 4/4 [00:00<00:00, 66.65it/s]"
     ]
    },
    {
     "name": "stdout",
     "output_type": "stream",
     "text": [
      "                   all      0.836          1\n"
     ]
    },
    {
     "name": "stderr",
     "output_type": "stream",
     "text": [
      "\n"
     ]
    },
    {
     "name": "stdout",
     "output_type": "stream",
     "text": [
      "\n",
      "      Epoch    GPU_mem       loss  Instances       Size\n"
     ]
    },
    {
     "name": "stderr",
     "output_type": "stream",
     "text": [
      "     10/100     0.394G     0.1681         13        224: 100%|██████████| 32/32 [00:01<00:00, 24.52it/s]\n",
      "               classes   top1_acc   top5_acc: 100%|██████████| 4/4 [00:00<00:00, 72.73it/s]"
     ]
    },
    {
     "name": "stdout",
     "output_type": "stream",
     "text": [
      "                   all      0.828          1\n"
     ]
    },
    {
     "name": "stderr",
     "output_type": "stream",
     "text": [
      "\n"
     ]
    },
    {
     "name": "stdout",
     "output_type": "stream",
     "text": [
      "\n",
      "      Epoch    GPU_mem       loss  Instances       Size\n"
     ]
    },
    {
     "name": "stderr",
     "output_type": "stream",
     "text": [
      "     11/100     0.394G     0.1484         13        224: 100%|██████████| 32/32 [00:01<00:00, 24.50it/s]\n",
      "               classes   top1_acc   top5_acc: 100%|██████████| 4/4 [00:00<00:00, 65.57it/s]"
     ]
    },
    {
     "name": "stdout",
     "output_type": "stream",
     "text": [
      "                   all      0.812          1\n"
     ]
    },
    {
     "name": "stderr",
     "output_type": "stream",
     "text": [
      "\n"
     ]
    },
    {
     "name": "stdout",
     "output_type": "stream",
     "text": [
      "\n",
      "      Epoch    GPU_mem       loss  Instances       Size\n"
     ]
    },
    {
     "name": "stderr",
     "output_type": "stream",
     "text": [
      "     12/100     0.394G     0.1136         13        224: 100%|██████████| 32/32 [00:01<00:00, 24.32it/s]\n",
      "               classes   top1_acc   top5_acc: 100%|██████████| 4/4 [00:00<00:00, 64.52it/s]"
     ]
    },
    {
     "name": "stdout",
     "output_type": "stream",
     "text": [
      "                   all      0.797          1\n"
     ]
    },
    {
     "name": "stderr",
     "output_type": "stream",
     "text": [
      "\n"
     ]
    },
    {
     "name": "stdout",
     "output_type": "stream",
     "text": [
      "\n",
      "      Epoch    GPU_mem       loss  Instances       Size\n"
     ]
    },
    {
     "name": "stderr",
     "output_type": "stream",
     "text": [
      "     13/100     0.394G    0.09895         13        224: 100%|██████████| 32/32 [00:01<00:00, 24.54it/s]\n",
      "               classes   top1_acc   top5_acc: 100%|██████████| 4/4 [00:00<00:00, 70.17it/s]"
     ]
    },
    {
     "name": "stdout",
     "output_type": "stream",
     "text": [
      "                   all      0.844          1\n"
     ]
    },
    {
     "name": "stderr",
     "output_type": "stream",
     "text": [
      "\n"
     ]
    },
    {
     "name": "stdout",
     "output_type": "stream",
     "text": [
      "\n",
      "      Epoch    GPU_mem       loss  Instances       Size\n"
     ]
    },
    {
     "name": "stderr",
     "output_type": "stream",
     "text": [
      "     14/100     0.394G    0.09971         13        224: 100%|██████████| 32/32 [00:01<00:00, 24.41it/s]\n",
      "               classes   top1_acc   top5_acc: 100%|██████████| 4/4 [00:00<00:00, 70.17it/s]"
     ]
    },
    {
     "name": "stdout",
     "output_type": "stream",
     "text": [
      "                   all      0.852          1\n"
     ]
    },
    {
     "name": "stderr",
     "output_type": "stream",
     "text": [
      "\n"
     ]
    },
    {
     "name": "stdout",
     "output_type": "stream",
     "text": [
      "\n",
      "      Epoch    GPU_mem       loss  Instances       Size\n"
     ]
    },
    {
     "name": "stderr",
     "output_type": "stream",
     "text": [
      "     15/100     0.394G    0.09892         13        224: 100%|██████████| 32/32 [00:01<00:00, 24.22it/s]\n",
      "               classes   top1_acc   top5_acc: 100%|██████████| 4/4 [00:00<00:00, 65.57it/s]"
     ]
    },
    {
     "name": "stdout",
     "output_type": "stream",
     "text": [
      "                   all      0.836          1\n"
     ]
    },
    {
     "name": "stderr",
     "output_type": "stream",
     "text": [
      "\n"
     ]
    },
    {
     "name": "stdout",
     "output_type": "stream",
     "text": [
      "\n",
      "      Epoch    GPU_mem       loss  Instances       Size\n"
     ]
    },
    {
     "name": "stderr",
     "output_type": "stream",
     "text": [
      "     16/100     0.394G    0.07828         13        224: 100%|██████████| 32/32 [00:01<00:00, 24.43it/s]\n",
      "               classes   top1_acc   top5_acc: 100%|██████████| 4/4 [00:00<00:00, 62.49it/s]"
     ]
    },
    {
     "name": "stdout",
     "output_type": "stream",
     "text": [
      "                   all      0.836          1\n"
     ]
    },
    {
     "name": "stderr",
     "output_type": "stream",
     "text": [
      "\n"
     ]
    },
    {
     "name": "stdout",
     "output_type": "stream",
     "text": [
      "\n",
      "      Epoch    GPU_mem       loss  Instances       Size\n"
     ]
    },
    {
     "name": "stderr",
     "output_type": "stream",
     "text": [
      "     17/100     0.394G    0.09898         13        224: 100%|██████████| 32/32 [00:01<00:00, 24.69it/s]\n",
      "               classes   top1_acc   top5_acc: 100%|██████████| 4/4 [00:00<00:00, 54.78it/s]"
     ]
    },
    {
     "name": "stdout",
     "output_type": "stream",
     "text": [
      "                   all      0.859          1\n"
     ]
    },
    {
     "name": "stderr",
     "output_type": "stream",
     "text": [
      "\n"
     ]
    },
    {
     "name": "stdout",
     "output_type": "stream",
     "text": [
      "\n",
      "      Epoch    GPU_mem       loss  Instances       Size\n"
     ]
    },
    {
     "name": "stderr",
     "output_type": "stream",
     "text": [
      "     18/100     0.394G     0.1282         13        224: 100%|██████████| 32/32 [00:01<00:00, 24.15it/s]\n",
      "               classes   top1_acc   top5_acc: 100%|██████████| 4/4 [00:00<00:00, 70.16it/s]"
     ]
    },
    {
     "name": "stdout",
     "output_type": "stream",
     "text": [
      "                   all       0.82          1\n"
     ]
    },
    {
     "name": "stderr",
     "output_type": "stream",
     "text": [
      "\n"
     ]
    },
    {
     "name": "stdout",
     "output_type": "stream",
     "text": [
      "\n",
      "      Epoch    GPU_mem       loss  Instances       Size\n"
     ]
    },
    {
     "name": "stderr",
     "output_type": "stream",
     "text": [
      "     19/100     0.394G    0.06217         13        224: 100%|██████████| 32/32 [00:01<00:00, 24.60it/s]\n",
      "               classes   top1_acc   top5_acc: 100%|██████████| 4/4 [00:00<00:00, 64.51it/s]"
     ]
    },
    {
     "name": "stdout",
     "output_type": "stream",
     "text": [
      "                   all      0.812          1\n"
     ]
    },
    {
     "name": "stderr",
     "output_type": "stream",
     "text": [
      "\n"
     ]
    },
    {
     "name": "stdout",
     "output_type": "stream",
     "text": [
      "\n",
      "      Epoch    GPU_mem       loss  Instances       Size\n"
     ]
    },
    {
     "name": "stderr",
     "output_type": "stream",
     "text": [
      "     20/100     0.394G     0.1382         13        224: 100%|██████████| 32/32 [00:01<00:00, 24.65it/s]\n",
      "               classes   top1_acc   top5_acc: 100%|██████████| 4/4 [00:00<00:00, 59.69it/s]\n"
     ]
    },
    {
     "name": "stdout",
     "output_type": "stream",
     "text": [
      "                   all      0.844          1\n",
      "\n",
      "      Epoch    GPU_mem       loss  Instances       Size\n"
     ]
    },
    {
     "name": "stderr",
     "output_type": "stream",
     "text": [
      "     21/100     0.394G     0.0883         13        224: 100%|██████████| 32/32 [00:01<00:00, 24.19it/s]\n",
      "               classes   top1_acc   top5_acc: 100%|██████████| 4/4 [00:00<00:00, 64.52it/s]"
     ]
    },
    {
     "name": "stdout",
     "output_type": "stream",
     "text": [
      "                   all      0.875          1\n"
     ]
    },
    {
     "name": "stderr",
     "output_type": "stream",
     "text": [
      "\n"
     ]
    },
    {
     "name": "stdout",
     "output_type": "stream",
     "text": [
      "\n",
      "      Epoch    GPU_mem       loss  Instances       Size\n"
     ]
    },
    {
     "name": "stderr",
     "output_type": "stream",
     "text": [
      "     22/100     0.394G     0.1221         13        224: 100%|██████████| 32/32 [00:01<00:00, 24.52it/s]\n",
      "               classes   top1_acc   top5_acc: 100%|██████████| 4/4 [00:00<00:00, 61.54it/s]"
     ]
    },
    {
     "name": "stdout",
     "output_type": "stream",
     "text": [
      "                   all      0.859          1\n"
     ]
    },
    {
     "name": "stderr",
     "output_type": "stream",
     "text": [
      "\n"
     ]
    },
    {
     "name": "stdout",
     "output_type": "stream",
     "text": [
      "\n",
      "      Epoch    GPU_mem       loss  Instances       Size\n"
     ]
    },
    {
     "name": "stderr",
     "output_type": "stream",
     "text": [
      "     23/100     0.394G     0.1162         13        224: 100%|██████████| 32/32 [00:01<00:00, 24.19it/s]\n",
      "               classes   top1_acc   top5_acc: 100%|██████████| 4/4 [00:00<00:00, 63.47it/s]"
     ]
    },
    {
     "name": "stdout",
     "output_type": "stream",
     "text": [
      "                   all      0.836          1\n"
     ]
    },
    {
     "name": "stderr",
     "output_type": "stream",
     "text": [
      "\n"
     ]
    },
    {
     "name": "stdout",
     "output_type": "stream",
     "text": [
      "\n",
      "      Epoch    GPU_mem       loss  Instances       Size\n"
     ]
    },
    {
     "name": "stderr",
     "output_type": "stream",
     "text": [
      "     24/100     0.394G    0.06224         13        224: 100%|██████████| 32/32 [00:01<00:00, 24.81it/s]\n",
      "               classes   top1_acc   top5_acc: 100%|██████████| 4/4 [00:00<00:00, 31.50it/s]"
     ]
    },
    {
     "name": "stdout",
     "output_type": "stream",
     "text": [
      "                   all      0.828          1\n"
     ]
    },
    {
     "name": "stderr",
     "output_type": "stream",
     "text": [
      "\n"
     ]
    },
    {
     "name": "stdout",
     "output_type": "stream",
     "text": [
      "\n",
      "      Epoch    GPU_mem       loss  Instances       Size\n"
     ]
    },
    {
     "name": "stderr",
     "output_type": "stream",
     "text": [
      "     25/100     0.394G    0.06964         13        224: 100%|██████████| 32/32 [00:01<00:00, 24.26it/s]\n",
      "               classes   top1_acc   top5_acc: 100%|██████████| 4/4 [00:00<00:00, 67.80it/s]"
     ]
    },
    {
     "name": "stdout",
     "output_type": "stream",
     "text": [
      "                   all      0.828          1\n"
     ]
    },
    {
     "name": "stderr",
     "output_type": "stream",
     "text": [
      "\n"
     ]
    },
    {
     "name": "stdout",
     "output_type": "stream",
     "text": [
      "\n",
      "      Epoch    GPU_mem       loss  Instances       Size\n"
     ]
    },
    {
     "name": "stderr",
     "output_type": "stream",
     "text": [
      "     26/100     0.394G    0.06346         13        224: 100%|██████████| 32/32 [00:01<00:00, 24.35it/s]\n",
      "               classes   top1_acc   top5_acc: 100%|██████████| 4/4 [00:00<00:00, 70.15it/s]"
     ]
    },
    {
     "name": "stdout",
     "output_type": "stream",
     "text": [
      "                   all       0.82          1\n"
     ]
    },
    {
     "name": "stderr",
     "output_type": "stream",
     "text": [
      "\n"
     ]
    },
    {
     "name": "stdout",
     "output_type": "stream",
     "text": [
      "\n",
      "      Epoch    GPU_mem       loss  Instances       Size\n"
     ]
    },
    {
     "name": "stderr",
     "output_type": "stream",
     "text": [
      "     27/100     0.394G    0.07475         13        224: 100%|██████████| 32/32 [00:01<00:00, 24.48it/s]\n",
      "               classes   top1_acc   top5_acc: 100%|██████████| 4/4 [00:00<00:00, 62.49it/s]\n"
     ]
    },
    {
     "name": "stdout",
     "output_type": "stream",
     "text": [
      "                   all      0.844          1\n",
      "\n",
      "      Epoch    GPU_mem       loss  Instances       Size\n"
     ]
    },
    {
     "name": "stderr",
     "output_type": "stream",
     "text": [
      "     28/100     0.394G    0.06538         13        224: 100%|██████████| 32/32 [00:01<00:00, 24.22it/s]\n",
      "               classes   top1_acc   top5_acc: 100%|██████████| 4/4 [00:00<00:00, 65.56it/s]"
     ]
    },
    {
     "name": "stdout",
     "output_type": "stream",
     "text": [
      "                   all      0.836          1\n"
     ]
    },
    {
     "name": "stderr",
     "output_type": "stream",
     "text": [
      "\n"
     ]
    },
    {
     "name": "stdout",
     "output_type": "stream",
     "text": [
      "\n",
      "      Epoch    GPU_mem       loss  Instances       Size\n"
     ]
    },
    {
     "name": "stderr",
     "output_type": "stream",
     "text": [
      "     29/100     0.394G     0.0717         13        224: 100%|██████████| 32/32 [00:01<00:00, 24.19it/s]\n",
      "               classes   top1_acc   top5_acc: 100%|██████████| 4/4 [00:00<00:00, 63.48it/s]"
     ]
    },
    {
     "name": "stdout",
     "output_type": "stream",
     "text": [
      "                   all      0.852          1\n"
     ]
    },
    {
     "name": "stderr",
     "output_type": "stream",
     "text": [
      "\n"
     ]
    },
    {
     "name": "stdout",
     "output_type": "stream",
     "text": [
      "\n",
      "      Epoch    GPU_mem       loss  Instances       Size\n"
     ]
    },
    {
     "name": "stderr",
     "output_type": "stream",
     "text": [
      "     30/100     0.394G     0.1106         13        224: 100%|██████████| 32/32 [00:01<00:00, 24.43it/s]\n",
      "               classes   top1_acc   top5_acc: 100%|██████████| 4/4 [00:00<00:00, 63.49it/s]"
     ]
    },
    {
     "name": "stdout",
     "output_type": "stream",
     "text": [
      "                   all      0.875          1\n"
     ]
    },
    {
     "name": "stderr",
     "output_type": "stream",
     "text": [
      "\n"
     ]
    },
    {
     "name": "stdout",
     "output_type": "stream",
     "text": [
      "\n",
      "      Epoch    GPU_mem       loss  Instances       Size\n"
     ]
    },
    {
     "name": "stderr",
     "output_type": "stream",
     "text": [
      "     31/100     0.394G    0.05404         13        224: 100%|██████████| 32/32 [00:01<00:00, 23.67it/s]\n",
      "               classes   top1_acc   top5_acc: 100%|██████████| 4/4 [00:00<00:00, 59.70it/s]\n"
     ]
    },
    {
     "name": "stdout",
     "output_type": "stream",
     "text": [
      "                   all      0.844          1\n",
      "\n",
      "      Epoch    GPU_mem       loss  Instances       Size\n"
     ]
    },
    {
     "name": "stderr",
     "output_type": "stream",
     "text": [
      "     32/100     0.394G    0.09779         13        224: 100%|██████████| 32/32 [00:01<00:00, 24.63it/s]\n",
      "               classes   top1_acc   top5_acc: 100%|██████████| 4/4 [00:00<00:00, 54.06it/s]"
     ]
    },
    {
     "name": "stdout",
     "output_type": "stream",
     "text": [
      "                   all      0.859          1\n"
     ]
    },
    {
     "name": "stderr",
     "output_type": "stream",
     "text": [
      "\n"
     ]
    },
    {
     "name": "stdout",
     "output_type": "stream",
     "text": [
      "\n",
      "      Epoch    GPU_mem       loss  Instances       Size\n"
     ]
    },
    {
     "name": "stderr",
     "output_type": "stream",
     "text": [
      "     33/100     0.394G    0.03657         13        224: 100%|██████████| 32/32 [00:01<00:00, 24.33it/s]\n",
      "               classes   top1_acc   top5_acc: 100%|██████████| 4/4 [00:00<00:00, 58.83it/s]"
     ]
    },
    {
     "name": "stdout",
     "output_type": "stream",
     "text": [
      "                   all      0.828          1\n"
     ]
    },
    {
     "name": "stderr",
     "output_type": "stream",
     "text": [
      "\n"
     ]
    },
    {
     "name": "stdout",
     "output_type": "stream",
     "text": [
      "\n",
      "      Epoch    GPU_mem       loss  Instances       Size\n"
     ]
    },
    {
     "name": "stderr",
     "output_type": "stream",
     "text": [
      "     34/100     0.394G    0.05763         13        224: 100%|██████████| 32/32 [00:01<00:00, 24.32it/s]\n",
      "               classes   top1_acc   top5_acc: 100%|██████████| 4/4 [00:00<00:00, 63.49it/s]"
     ]
    },
    {
     "name": "stdout",
     "output_type": "stream",
     "text": [
      "                   all      0.867          1\n"
     ]
    },
    {
     "name": "stderr",
     "output_type": "stream",
     "text": [
      "\n"
     ]
    },
    {
     "name": "stdout",
     "output_type": "stream",
     "text": [
      "\n",
      "      Epoch    GPU_mem       loss  Instances       Size\n"
     ]
    },
    {
     "name": "stderr",
     "output_type": "stream",
     "text": [
      "     35/100     0.394G    0.04897         13        224: 100%|██████████| 32/32 [00:01<00:00, 24.45it/s]\n",
      "               classes   top1_acc   top5_acc: 100%|██████████| 4/4 [00:00<00:00, 60.59it/s]"
     ]
    },
    {
     "name": "stdout",
     "output_type": "stream",
     "text": [
      "                   all      0.867          1\n"
     ]
    },
    {
     "name": "stderr",
     "output_type": "stream",
     "text": [
      "\n"
     ]
    },
    {
     "name": "stdout",
     "output_type": "stream",
     "text": [
      "\n",
      "      Epoch    GPU_mem       loss  Instances       Size\n"
     ]
    },
    {
     "name": "stderr",
     "output_type": "stream",
     "text": [
      "     36/100     0.394G    0.05588         13        224: 100%|██████████| 32/32 [00:01<00:00, 24.43it/s]\n",
      "               classes   top1_acc   top5_acc: 100%|██████████| 4/4 [00:00<00:00, 61.54it/s]"
     ]
    },
    {
     "name": "stdout",
     "output_type": "stream",
     "text": [
      "                   all      0.859          1\n"
     ]
    },
    {
     "name": "stderr",
     "output_type": "stream",
     "text": [
      "\n"
     ]
    },
    {
     "name": "stdout",
     "output_type": "stream",
     "text": [
      "\n",
      "      Epoch    GPU_mem       loss  Instances       Size\n"
     ]
    },
    {
     "name": "stderr",
     "output_type": "stream",
     "text": [
      "     37/100     0.394G    0.05408         13        224: 100%|██████████| 32/32 [00:01<00:00, 24.33it/s]\n",
      "               classes   top1_acc   top5_acc: 100%|██████████| 4/4 [00:00<00:00, 68.94it/s]"
     ]
    },
    {
     "name": "stdout",
     "output_type": "stream",
     "text": [
      "                   all      0.875          1\n"
     ]
    },
    {
     "name": "stderr",
     "output_type": "stream",
     "text": [
      "\n"
     ]
    },
    {
     "name": "stdout",
     "output_type": "stream",
     "text": [
      "\n",
      "      Epoch    GPU_mem       loss  Instances       Size\n"
     ]
    },
    {
     "name": "stderr",
     "output_type": "stream",
     "text": [
      "     38/100     0.394G    0.03658         13        224: 100%|██████████| 32/32 [00:01<00:00, 24.22it/s]\n",
      "               classes   top1_acc   top5_acc: 100%|██████████| 4/4 [00:00<00:00, 63.49it/s]"
     ]
    },
    {
     "name": "stdout",
     "output_type": "stream",
     "text": [
      "                   all      0.852          1\n"
     ]
    },
    {
     "name": "stderr",
     "output_type": "stream",
     "text": [
      "\n"
     ]
    },
    {
     "name": "stdout",
     "output_type": "stream",
     "text": [
      "\n",
      "      Epoch    GPU_mem       loss  Instances       Size\n"
     ]
    },
    {
     "name": "stderr",
     "output_type": "stream",
     "text": [
      "     39/100     0.394G    0.05884         13        224: 100%|██████████| 32/32 [00:01<00:00, 24.69it/s]\n",
      "               classes   top1_acc   top5_acc: 100%|██████████| 4/4 [00:00<00:00, 35.09it/s]"
     ]
    },
    {
     "name": "stdout",
     "output_type": "stream",
     "text": [
      "                   all      0.859          1\n"
     ]
    },
    {
     "name": "stderr",
     "output_type": "stream",
     "text": [
      "\n"
     ]
    },
    {
     "name": "stdout",
     "output_type": "stream",
     "text": [
      "\n",
      "      Epoch    GPU_mem       loss  Instances       Size\n"
     ]
    },
    {
     "name": "stderr",
     "output_type": "stream",
     "text": [
      "     40/100     0.394G    0.05311         13        224: 100%|██████████| 32/32 [00:01<00:00, 24.32it/s]\n",
      "               classes   top1_acc   top5_acc: 100%|██████████| 4/4 [00:00<00:00, 64.51it/s]"
     ]
    },
    {
     "name": "stdout",
     "output_type": "stream",
     "text": [
      "                   all      0.867          1\n"
     ]
    },
    {
     "name": "stderr",
     "output_type": "stream",
     "text": [
      "\n"
     ]
    },
    {
     "name": "stdout",
     "output_type": "stream",
     "text": [
      "\n",
      "      Epoch    GPU_mem       loss  Instances       Size\n"
     ]
    },
    {
     "name": "stderr",
     "output_type": "stream",
     "text": [
      "     41/100     0.394G    0.06495         13        224: 100%|██████████| 32/32 [00:01<00:00, 24.28it/s]\n",
      "               classes   top1_acc   top5_acc: 100%|██████████| 4/4 [00:00<00:00, 67.79it/s]"
     ]
    },
    {
     "name": "stdout",
     "output_type": "stream",
     "text": [
      "                   all      0.867          1\n"
     ]
    },
    {
     "name": "stderr",
     "output_type": "stream",
     "text": [
      "\n"
     ]
    },
    {
     "name": "stdout",
     "output_type": "stream",
     "text": [
      "\n",
      "      Epoch    GPU_mem       loss  Instances       Size\n"
     ]
    },
    {
     "name": "stderr",
     "output_type": "stream",
     "text": [
      "     42/100     0.394G     0.0347         13        224: 100%|██████████| 32/32 [00:01<00:00, 24.48it/s]\n",
      "               classes   top1_acc   top5_acc: 100%|██████████| 4/4 [00:00<00:00, 60.60it/s]"
     ]
    },
    {
     "name": "stdout",
     "output_type": "stream",
     "text": [
      "                   all      0.867          1\n"
     ]
    },
    {
     "name": "stderr",
     "output_type": "stream",
     "text": [
      "\n"
     ]
    },
    {
     "name": "stdout",
     "output_type": "stream",
     "text": [
      "\n",
      "      Epoch    GPU_mem       loss  Instances       Size\n"
     ]
    },
    {
     "name": "stderr",
     "output_type": "stream",
     "text": [
      "     43/100     0.394G    0.09675         13        224: 100%|██████████| 32/32 [00:01<00:00, 24.37it/s]\n",
      "               classes   top1_acc   top5_acc: 100%|██████████| 4/4 [00:00<00:00, 67.79it/s]"
     ]
    },
    {
     "name": "stdout",
     "output_type": "stream",
     "text": [
      "                   all      0.859          1\n"
     ]
    },
    {
     "name": "stderr",
     "output_type": "stream",
     "text": [
      "\n"
     ]
    },
    {
     "name": "stdout",
     "output_type": "stream",
     "text": [
      "\n",
      "      Epoch    GPU_mem       loss  Instances       Size\n"
     ]
    },
    {
     "name": "stderr",
     "output_type": "stream",
     "text": [
      "     44/100     0.394G     0.0577         13        224: 100%|██████████| 32/32 [00:01<00:00, 24.50it/s]\n",
      "               classes   top1_acc   top5_acc: 100%|██████████| 4/4 [00:00<00:00, 57.98it/s]"
     ]
    },
    {
     "name": "stdout",
     "output_type": "stream",
     "text": [
      "                   all      0.875          1\n"
     ]
    },
    {
     "name": "stderr",
     "output_type": "stream",
     "text": [
      "\n"
     ]
    },
    {
     "name": "stdout",
     "output_type": "stream",
     "text": [
      "\n",
      "      Epoch    GPU_mem       loss  Instances       Size\n"
     ]
    },
    {
     "name": "stderr",
     "output_type": "stream",
     "text": [
      "     45/100     0.394G    0.04654         13        224: 100%|██████████| 32/32 [00:01<00:00, 24.35it/s]\n",
      "               classes   top1_acc   top5_acc: 100%|██████████| 4/4 [00:00<00:00, 56.34it/s]"
     ]
    },
    {
     "name": "stdout",
     "output_type": "stream",
     "text": [
      "                   all      0.867          1\n"
     ]
    },
    {
     "name": "stderr",
     "output_type": "stream",
     "text": [
      "\n"
     ]
    },
    {
     "name": "stdout",
     "output_type": "stream",
     "text": [
      "\n",
      "      Epoch    GPU_mem       loss  Instances       Size\n"
     ]
    },
    {
     "name": "stderr",
     "output_type": "stream",
     "text": [
      "     46/100     0.394G    0.08104         13        224: 100%|██████████| 32/32 [00:01<00:00, 24.67it/s]\n",
      "               classes   top1_acc   top5_acc: 100%|██████████| 4/4 [00:00<00:00, 34.78it/s]"
     ]
    },
    {
     "name": "stdout",
     "output_type": "stream",
     "text": [
      "                   all      0.867          1\n"
     ]
    },
    {
     "name": "stderr",
     "output_type": "stream",
     "text": [
      "\n"
     ]
    },
    {
     "name": "stdout",
     "output_type": "stream",
     "text": [
      "\n",
      "      Epoch    GPU_mem       loss  Instances       Size\n"
     ]
    },
    {
     "name": "stderr",
     "output_type": "stream",
     "text": [
      "     47/100     0.394G    0.05159         13        224: 100%|██████████| 32/32 [00:01<00:00, 24.46it/s]\n",
      "               classes   top1_acc   top5_acc: 100%|██████████| 4/4 [00:00<00:00, 55.55it/s]"
     ]
    },
    {
     "name": "stdout",
     "output_type": "stream",
     "text": [
      "                   all      0.859          1\n"
     ]
    },
    {
     "name": "stderr",
     "output_type": "stream",
     "text": [
      "\n"
     ]
    },
    {
     "name": "stdout",
     "output_type": "stream",
     "text": [
      "\n",
      "      Epoch    GPU_mem       loss  Instances       Size\n"
     ]
    },
    {
     "name": "stderr",
     "output_type": "stream",
     "text": [
      "     48/100     0.394G    0.06201         13        224: 100%|██████████| 32/32 [00:01<00:00, 24.39it/s]\n",
      "               classes   top1_acc   top5_acc: 100%|██████████| 4/4 [00:00<00:00, 65.56it/s]\n"
     ]
    },
    {
     "name": "stdout",
     "output_type": "stream",
     "text": [
      "                   all      0.852          1\n",
      "\n",
      "      Epoch    GPU_mem       loss  Instances       Size\n"
     ]
    },
    {
     "name": "stderr",
     "output_type": "stream",
     "text": [
      "     49/100     0.394G    0.03995         13        224: 100%|██████████| 32/32 [00:01<00:00, 24.08it/s]\n",
      "               classes   top1_acc   top5_acc: 100%|██████████| 4/4 [00:00<00:00, 64.51it/s]"
     ]
    },
    {
     "name": "stdout",
     "output_type": "stream",
     "text": [
      "                   all      0.852          1\n"
     ]
    },
    {
     "name": "stderr",
     "output_type": "stream",
     "text": [
      "\n"
     ]
    },
    {
     "name": "stdout",
     "output_type": "stream",
     "text": [
      "\n",
      "      Epoch    GPU_mem       loss  Instances       Size\n"
     ]
    },
    {
     "name": "stderr",
     "output_type": "stream",
     "text": [
      "     50/100     0.394G    0.04873         13        224: 100%|██████████| 32/32 [00:01<00:00, 24.37it/s]\n",
      "               classes   top1_acc   top5_acc: 100%|██████████| 4/4 [00:00<00:00, 36.70it/s]"
     ]
    },
    {
     "name": "stdout",
     "output_type": "stream",
     "text": [
      "                   all      0.836          1\n"
     ]
    },
    {
     "name": "stderr",
     "output_type": "stream",
     "text": [
      "\n"
     ]
    },
    {
     "name": "stdout",
     "output_type": "stream",
     "text": [
      "\n",
      "      Epoch    GPU_mem       loss  Instances       Size\n"
     ]
    },
    {
     "name": "stderr",
     "output_type": "stream",
     "text": [
      "     51/100     0.394G    0.04084         13        224: 100%|██████████| 32/32 [00:01<00:00, 24.33it/s]\n",
      "               classes   top1_acc   top5_acc: 100%|██████████| 4/4 [00:00<00:00, 64.51it/s]"
     ]
    },
    {
     "name": "stdout",
     "output_type": "stream",
     "text": [
      "                   all      0.859          1\n"
     ]
    },
    {
     "name": "stderr",
     "output_type": "stream",
     "text": [
      "\n"
     ]
    },
    {
     "name": "stdout",
     "output_type": "stream",
     "text": [
      "\n",
      "      Epoch    GPU_mem       loss  Instances       Size\n"
     ]
    },
    {
     "name": "stderr",
     "output_type": "stream",
     "text": [
      "     52/100     0.394G    0.03054         13        224: 100%|██████████| 32/32 [00:01<00:00, 24.43it/s]\n",
      "               classes   top1_acc   top5_acc: 100%|██████████| 4/4 [00:00<00:00, 63.49it/s]"
     ]
    },
    {
     "name": "stdout",
     "output_type": "stream",
     "text": [
      "                   all      0.836          1\n"
     ]
    },
    {
     "name": "stderr",
     "output_type": "stream",
     "text": [
      "\n"
     ]
    },
    {
     "name": "stdout",
     "output_type": "stream",
     "text": [
      "\n",
      "      Epoch    GPU_mem       loss  Instances       Size\n"
     ]
    },
    {
     "name": "stderr",
     "output_type": "stream",
     "text": [
      "     53/100     0.394G    0.04654         13        224: 100%|██████████| 32/32 [00:01<00:00, 24.35it/s]\n",
      "               classes   top1_acc   top5_acc: 100%|██████████| 4/4 [00:00<00:00, 58.77it/s]"
     ]
    },
    {
     "name": "stdout",
     "output_type": "stream",
     "text": [
      "                   all      0.852          1\n"
     ]
    },
    {
     "name": "stderr",
     "output_type": "stream",
     "text": [
      "\n"
     ]
    },
    {
     "name": "stdout",
     "output_type": "stream",
     "text": [
      "\n",
      "      Epoch    GPU_mem       loss  Instances       Size\n"
     ]
    },
    {
     "name": "stderr",
     "output_type": "stream",
     "text": [
      "     54/100     0.394G     0.0457         13        224: 100%|██████████| 32/32 [00:01<00:00, 24.54it/s]\n",
      "               classes   top1_acc   top5_acc: 100%|██████████| 4/4 [00:00<00:00, 54.79it/s]"
     ]
    },
    {
     "name": "stdout",
     "output_type": "stream",
     "text": [
      "                   all      0.836          1\n"
     ]
    },
    {
     "name": "stderr",
     "output_type": "stream",
     "text": [
      "\n"
     ]
    },
    {
     "name": "stdout",
     "output_type": "stream",
     "text": [
      "\n",
      "      Epoch    GPU_mem       loss  Instances       Size\n"
     ]
    },
    {
     "name": "stderr",
     "output_type": "stream",
     "text": [
      "     55/100     0.394G    0.03867         13        224: 100%|██████████| 32/32 [00:01<00:00, 24.24it/s]\n",
      "               classes   top1_acc   top5_acc: 100%|██████████| 4/4 [00:00<00:00, 65.56it/s]"
     ]
    },
    {
     "name": "stdout",
     "output_type": "stream",
     "text": [
      "                   all      0.836          1\n"
     ]
    },
    {
     "name": "stderr",
     "output_type": "stream",
     "text": [
      "\n"
     ]
    },
    {
     "name": "stdout",
     "output_type": "stream",
     "text": [
      "\n",
      "      Epoch    GPU_mem       loss  Instances       Size\n"
     ]
    },
    {
     "name": "stderr",
     "output_type": "stream",
     "text": [
      "     56/100     0.394G    0.03755         13        224: 100%|██████████| 32/32 [00:01<00:00, 24.35it/s]\n",
      "               classes   top1_acc   top5_acc: 100%|██████████| 4/4 [00:00<00:00, 62.49it/s]\n"
     ]
    },
    {
     "name": "stdout",
     "output_type": "stream",
     "text": [
      "                   all      0.867          1\n",
      "\n",
      "      Epoch    GPU_mem       loss  Instances       Size\n"
     ]
    },
    {
     "name": "stderr",
     "output_type": "stream",
     "text": [
      "     57/100     0.394G    0.04921         13        224: 100%|██████████| 32/32 [00:01<00:00, 24.45it/s]\n",
      "               classes   top1_acc   top5_acc: 100%|██████████| 4/4 [00:00<00:00, 59.69it/s]\n"
     ]
    },
    {
     "name": "stdout",
     "output_type": "stream",
     "text": [
      "                   all      0.883          1\n",
      "\n",
      "      Epoch    GPU_mem       loss  Instances       Size\n"
     ]
    },
    {
     "name": "stderr",
     "output_type": "stream",
     "text": [
      "     58/100     0.394G    0.02693         13        224: 100%|██████████| 32/32 [00:01<00:00, 24.46it/s]\n",
      "               classes   top1_acc   top5_acc: 100%|██████████| 4/4 [00:00<00:00, 57.98it/s]"
     ]
    },
    {
     "name": "stdout",
     "output_type": "stream",
     "text": [
      "                   all      0.875          1\n"
     ]
    },
    {
     "name": "stderr",
     "output_type": "stream",
     "text": [
      "\n"
     ]
    },
    {
     "name": "stdout",
     "output_type": "stream",
     "text": [
      "\n",
      "      Epoch    GPU_mem       loss  Instances       Size\n"
     ]
    },
    {
     "name": "stderr",
     "output_type": "stream",
     "text": [
      "     59/100     0.394G    0.04395         13        224: 100%|██████████| 32/32 [00:01<00:00, 24.24it/s]\n",
      "               classes   top1_acc   top5_acc: 100%|██████████| 4/4 [00:00<00:00, 70.17it/s]\n"
     ]
    },
    {
     "name": "stdout",
     "output_type": "stream",
     "text": [
      "                   all      0.852          1\n",
      "\n",
      "      Epoch    GPU_mem       loss  Instances       Size\n"
     ]
    },
    {
     "name": "stderr",
     "output_type": "stream",
     "text": [
      "     60/100     0.394G    0.03107         13        224: 100%|██████████| 32/32 [00:01<00:00, 24.02it/s]\n",
      "               classes   top1_acc   top5_acc: 100%|██████████| 4/4 [00:00<00:00, 67.80it/s]"
     ]
    },
    {
     "name": "stdout",
     "output_type": "stream",
     "text": [
      "                   all      0.852          1\n"
     ]
    },
    {
     "name": "stderr",
     "output_type": "stream",
     "text": [
      "\n"
     ]
    },
    {
     "name": "stdout",
     "output_type": "stream",
     "text": [
      "\n",
      "      Epoch    GPU_mem       loss  Instances       Size\n"
     ]
    },
    {
     "name": "stderr",
     "output_type": "stream",
     "text": [
      "     61/100     0.394G     0.0495         13        224: 100%|██████████| 32/32 [00:01<00:00, 23.56it/s]\n",
      "               classes   top1_acc   top5_acc: 100%|██████████| 4/4 [00:00<00:00, 61.54it/s]"
     ]
    },
    {
     "name": "stdout",
     "output_type": "stream",
     "text": [
      "                   all      0.852          1\n"
     ]
    },
    {
     "name": "stderr",
     "output_type": "stream",
     "text": [
      "\n"
     ]
    },
    {
     "name": "stdout",
     "output_type": "stream",
     "text": [
      "\n",
      "      Epoch    GPU_mem       loss  Instances       Size\n"
     ]
    },
    {
     "name": "stderr",
     "output_type": "stream",
     "text": [
      "     62/100     0.394G     0.0486         13        224: 100%|██████████| 32/32 [00:01<00:00, 24.43it/s]\n",
      "               classes   top1_acc   top5_acc: 100%|██████████| 4/4 [00:00<00:00, 58.82it/s]"
     ]
    },
    {
     "name": "stdout",
     "output_type": "stream",
     "text": [
      "                   all      0.852          1\n"
     ]
    },
    {
     "name": "stderr",
     "output_type": "stream",
     "text": [
      "\n"
     ]
    },
    {
     "name": "stdout",
     "output_type": "stream",
     "text": [
      "\n",
      "      Epoch    GPU_mem       loss  Instances       Size\n"
     ]
    },
    {
     "name": "stderr",
     "output_type": "stream",
     "text": [
      "     63/100     0.394G    0.03315         13        224: 100%|██████████| 32/32 [00:01<00:00, 24.10it/s]\n",
      "               classes   top1_acc   top5_acc: 100%|██████████| 4/4 [00:00<00:00, 65.58it/s]"
     ]
    },
    {
     "name": "stdout",
     "output_type": "stream",
     "text": [
      "                   all      0.859          1\n"
     ]
    },
    {
     "name": "stderr",
     "output_type": "stream",
     "text": [
      "\n"
     ]
    },
    {
     "name": "stdout",
     "output_type": "stream",
     "text": [
      "\n",
      "      Epoch    GPU_mem       loss  Instances       Size\n"
     ]
    },
    {
     "name": "stderr",
     "output_type": "stream",
     "text": [
      "     64/100     0.394G    0.02573         13        224: 100%|██████████| 32/32 [00:01<00:00, 24.06it/s]\n",
      "               classes   top1_acc   top5_acc: 100%|██████████| 4/4 [00:00<00:00, 70.17it/s]"
     ]
    },
    {
     "name": "stdout",
     "output_type": "stream",
     "text": [
      "                   all      0.875          1\n"
     ]
    },
    {
     "name": "stderr",
     "output_type": "stream",
     "text": [
      "\n"
     ]
    },
    {
     "name": "stdout",
     "output_type": "stream",
     "text": [
      "\n",
      "      Epoch    GPU_mem       loss  Instances       Size\n"
     ]
    },
    {
     "name": "stderr",
     "output_type": "stream",
     "text": [
      "     65/100     0.394G    0.04838         13        224: 100%|██████████| 32/32 [00:01<00:00, 23.55it/s]\n",
      "               classes   top1_acc   top5_acc: 100%|██████████| 4/4 [00:00<00:00, 57.97it/s]"
     ]
    },
    {
     "name": "stdout",
     "output_type": "stream",
     "text": [
      "                   all      0.859          1\n"
     ]
    },
    {
     "name": "stderr",
     "output_type": "stream",
     "text": [
      "\n"
     ]
    },
    {
     "name": "stdout",
     "output_type": "stream",
     "text": [
      "\n",
      "      Epoch    GPU_mem       loss  Instances       Size\n"
     ]
    },
    {
     "name": "stderr",
     "output_type": "stream",
     "text": [
      "     66/100     0.394G    0.02676         13        224: 100%|██████████| 32/32 [00:01<00:00, 24.11it/s]\n",
      "               classes   top1_acc   top5_acc: 100%|██████████| 4/4 [00:00<00:00, 61.54it/s]"
     ]
    },
    {
     "name": "stdout",
     "output_type": "stream",
     "text": [
      "                   all      0.852          1\n"
     ]
    },
    {
     "name": "stderr",
     "output_type": "stream",
     "text": [
      "\n"
     ]
    },
    {
     "name": "stdout",
     "output_type": "stream",
     "text": [
      "\n",
      "      Epoch    GPU_mem       loss  Instances       Size\n"
     ]
    },
    {
     "name": "stderr",
     "output_type": "stream",
     "text": [
      "     67/100     0.394G    0.04734         13        224: 100%|██████████| 32/32 [00:01<00:00, 24.54it/s]\n",
      "               classes   top1_acc   top5_acc: 100%|██████████| 4/4 [00:00<00:00, 62.50it/s]"
     ]
    },
    {
     "name": "stdout",
     "output_type": "stream",
     "text": [
      "                   all      0.891          1\n"
     ]
    },
    {
     "name": "stderr",
     "output_type": "stream",
     "text": [
      "\n"
     ]
    },
    {
     "name": "stdout",
     "output_type": "stream",
     "text": [
      "\n",
      "      Epoch    GPU_mem       loss  Instances       Size\n"
     ]
    },
    {
     "name": "stderr",
     "output_type": "stream",
     "text": [
      "     68/100     0.394G    0.01718         13        224: 100%|██████████| 32/32 [00:01<00:00, 24.96it/s]\n",
      "               classes   top1_acc   top5_acc: 100%|██████████| 4/4 [00:00<00:00, 61.54it/s]"
     ]
    },
    {
     "name": "stdout",
     "output_type": "stream",
     "text": [
      "                   all      0.852          1\n"
     ]
    },
    {
     "name": "stderr",
     "output_type": "stream",
     "text": [
      "\n"
     ]
    },
    {
     "name": "stdout",
     "output_type": "stream",
     "text": [
      "\n",
      "      Epoch    GPU_mem       loss  Instances       Size\n"
     ]
    },
    {
     "name": "stderr",
     "output_type": "stream",
     "text": [
      "     69/100     0.394G    0.03097         13        224: 100%|██████████| 32/32 [00:01<00:00, 24.48it/s]\n",
      "               classes   top1_acc   top5_acc: 100%|██████████| 4/4 [00:00<00:00, 72.71it/s]"
     ]
    },
    {
     "name": "stdout",
     "output_type": "stream",
     "text": [
      "                   all      0.867          1\n"
     ]
    },
    {
     "name": "stderr",
     "output_type": "stream",
     "text": [
      "\n"
     ]
    },
    {
     "name": "stdout",
     "output_type": "stream",
     "text": [
      "\n",
      "      Epoch    GPU_mem       loss  Instances       Size\n"
     ]
    },
    {
     "name": "stderr",
     "output_type": "stream",
     "text": [
      "     70/100     0.394G    0.03795         13        224: 100%|██████████| 32/32 [00:01<00:00, 24.26it/s]\n",
      "               classes   top1_acc   top5_acc: 100%|██████████| 4/4 [00:00<00:00, 64.52it/s]"
     ]
    },
    {
     "name": "stdout",
     "output_type": "stream",
     "text": [
      "                   all      0.852          1\n"
     ]
    },
    {
     "name": "stderr",
     "output_type": "stream",
     "text": [
      "\n"
     ]
    },
    {
     "name": "stdout",
     "output_type": "stream",
     "text": [
      "\n",
      "      Epoch    GPU_mem       loss  Instances       Size\n"
     ]
    },
    {
     "name": "stderr",
     "output_type": "stream",
     "text": [
      "     71/100     0.394G    0.02305         13        224: 100%|██████████| 32/32 [00:01<00:00, 24.26it/s]\n",
      "               classes   top1_acc   top5_acc: 100%|██████████| 4/4 [00:00<00:00, 58.82it/s]\n"
     ]
    },
    {
     "name": "stdout",
     "output_type": "stream",
     "text": [
      "                   all      0.867          1\n",
      "\n",
      "      Epoch    GPU_mem       loss  Instances       Size\n"
     ]
    },
    {
     "name": "stderr",
     "output_type": "stream",
     "text": [
      "     72/100     0.394G    0.01594         13        224: 100%|██████████| 32/32 [00:01<00:00, 23.83it/s]\n",
      "               classes   top1_acc   top5_acc: 100%|██████████| 4/4 [00:00<00:00, 68.97it/s]"
     ]
    },
    {
     "name": "stdout",
     "output_type": "stream",
     "text": [
      "                   all      0.859          1\n"
     ]
    },
    {
     "name": "stderr",
     "output_type": "stream",
     "text": [
      "\n"
     ]
    },
    {
     "name": "stdout",
     "output_type": "stream",
     "text": [
      "\n",
      "      Epoch    GPU_mem       loss  Instances       Size\n"
     ]
    },
    {
     "name": "stderr",
     "output_type": "stream",
     "text": [
      "     73/100     0.394G    0.01672         13        224: 100%|██████████| 32/32 [00:01<00:00, 25.06it/s]\n",
      "               classes   top1_acc   top5_acc: 100%|██████████| 4/4 [00:00<00:00, 29.63it/s]"
     ]
    },
    {
     "name": "stdout",
     "output_type": "stream",
     "text": [
      "                   all      0.859          1\n"
     ]
    },
    {
     "name": "stderr",
     "output_type": "stream",
     "text": [
      "\n"
     ]
    },
    {
     "name": "stdout",
     "output_type": "stream",
     "text": [
      "\n",
      "      Epoch    GPU_mem       loss  Instances       Size\n"
     ]
    },
    {
     "name": "stderr",
     "output_type": "stream",
     "text": [
      "     74/100     0.394G    0.04646         13        224: 100%|██████████| 32/32 [00:01<00:00, 24.28it/s]\n",
      "               classes   top1_acc   top5_acc: 100%|██████████| 4/4 [00:00<00:00, 67.79it/s]"
     ]
    },
    {
     "name": "stdout",
     "output_type": "stream",
     "text": [
      "                   all      0.859          1\n"
     ]
    },
    {
     "name": "stderr",
     "output_type": "stream",
     "text": [
      "\n"
     ]
    },
    {
     "name": "stdout",
     "output_type": "stream",
     "text": [
      "\n",
      "      Epoch    GPU_mem       loss  Instances       Size\n"
     ]
    },
    {
     "name": "stderr",
     "output_type": "stream",
     "text": [
      "     75/100     0.394G    0.05795         13        224: 100%|██████████| 32/32 [00:01<00:00, 24.08it/s]\n",
      "               classes   top1_acc   top5_acc: 100%|██████████| 4/4 [00:00<00:00, 55.55it/s]"
     ]
    },
    {
     "name": "stdout",
     "output_type": "stream",
     "text": [
      "                   all      0.859          1\n"
     ]
    },
    {
     "name": "stderr",
     "output_type": "stream",
     "text": [
      "\n"
     ]
    },
    {
     "name": "stdout",
     "output_type": "stream",
     "text": [
      "\n",
      "      Epoch    GPU_mem       loss  Instances       Size\n"
     ]
    },
    {
     "name": "stderr",
     "output_type": "stream",
     "text": [
      "     76/100     0.394G    0.02553         13        224: 100%|██████████| 32/32 [00:01<00:00, 24.28it/s]\n",
      "               classes   top1_acc   top5_acc: 100%|██████████| 4/4 [00:00<00:00, 62.50it/s]"
     ]
    },
    {
     "name": "stdout",
     "output_type": "stream",
     "text": [
      "                   all      0.867          1\n"
     ]
    },
    {
     "name": "stderr",
     "output_type": "stream",
     "text": [
      "\n"
     ]
    },
    {
     "name": "stdout",
     "output_type": "stream",
     "text": [
      "\n",
      "      Epoch    GPU_mem       loss  Instances       Size\n"
     ]
    },
    {
     "name": "stderr",
     "output_type": "stream",
     "text": [
      "     77/100     0.394G    0.03604         13        224: 100%|██████████| 32/32 [00:01<00:00, 23.99it/s]\n",
      "               classes   top1_acc   top5_acc: 100%|██████████| 4/4 [00:00<00:00, 67.78it/s]"
     ]
    },
    {
     "name": "stdout",
     "output_type": "stream",
     "text": [
      "                   all      0.867          1\n"
     ]
    },
    {
     "name": "stderr",
     "output_type": "stream",
     "text": [
      "\n"
     ]
    },
    {
     "name": "stdout",
     "output_type": "stream",
     "text": [
      "\n",
      "      Epoch    GPU_mem       loss  Instances       Size\n"
     ]
    },
    {
     "name": "stderr",
     "output_type": "stream",
     "text": [
      "     78/100     0.394G    0.02501         13        224: 100%|██████████| 32/32 [00:01<00:00, 24.65it/s]\n",
      "               classes   top1_acc   top5_acc: 100%|██████████| 4/4 [00:00<00:00, 54.79it/s]\n"
     ]
    },
    {
     "name": "stdout",
     "output_type": "stream",
     "text": [
      "                   all      0.875          1\n",
      "\n",
      "      Epoch    GPU_mem       loss  Instances       Size\n"
     ]
    },
    {
     "name": "stderr",
     "output_type": "stream",
     "text": [
      "     79/100     0.394G    0.03264         13        224: 100%|██████████| 32/32 [00:01<00:00, 24.08it/s]\n",
      "               classes   top1_acc   top5_acc: 100%|██████████| 4/4 [00:00<00:00, 62.50it/s]"
     ]
    },
    {
     "name": "stdout",
     "output_type": "stream",
     "text": [
      "                   all      0.859          1\n"
     ]
    },
    {
     "name": "stderr",
     "output_type": "stream",
     "text": [
      "\n"
     ]
    },
    {
     "name": "stdout",
     "output_type": "stream",
     "text": [
      "\n",
      "      Epoch    GPU_mem       loss  Instances       Size\n"
     ]
    },
    {
     "name": "stderr",
     "output_type": "stream",
     "text": [
      "     80/100     0.394G    0.04045         13        224: 100%|██████████| 32/32 [00:01<00:00, 24.13it/s]\n",
      "               classes   top1_acc   top5_acc: 100%|██████████| 4/4 [00:00<00:00, 68.97it/s]"
     ]
    },
    {
     "name": "stdout",
     "output_type": "stream",
     "text": [
      "                   all      0.867          1\n"
     ]
    },
    {
     "name": "stderr",
     "output_type": "stream",
     "text": [
      "\n"
     ]
    },
    {
     "name": "stdout",
     "output_type": "stream",
     "text": [
      "\n",
      "      Epoch    GPU_mem       loss  Instances       Size\n"
     ]
    },
    {
     "name": "stderr",
     "output_type": "stream",
     "text": [
      "     81/100     0.394G     0.0227         13        224: 100%|██████████| 32/32 [00:01<00:00, 24.02it/s]\n",
      "               classes   top1_acc   top5_acc: 100%|██████████| 4/4 [00:00<00:00, 67.80it/s]"
     ]
    },
    {
     "name": "stdout",
     "output_type": "stream",
     "text": [
      "                   all      0.859          1\n"
     ]
    },
    {
     "name": "stderr",
     "output_type": "stream",
     "text": [
      "\n"
     ]
    },
    {
     "name": "stdout",
     "output_type": "stream",
     "text": [
      "\n",
      "      Epoch    GPU_mem       loss  Instances       Size\n"
     ]
    },
    {
     "name": "stderr",
     "output_type": "stream",
     "text": [
      "     82/100     0.394G    0.01957         13        224: 100%|██████████| 32/32 [00:01<00:00, 24.62it/s]\n",
      "               classes   top1_acc   top5_acc: 100%|██████████| 4/4 [00:00<00:00, 47.06it/s]"
     ]
    },
    {
     "name": "stdout",
     "output_type": "stream",
     "text": [
      "                   all      0.875          1\n"
     ]
    },
    {
     "name": "stderr",
     "output_type": "stream",
     "text": [
      "\n"
     ]
    },
    {
     "name": "stdout",
     "output_type": "stream",
     "text": [
      "\n",
      "      Epoch    GPU_mem       loss  Instances       Size\n"
     ]
    },
    {
     "name": "stderr",
     "output_type": "stream",
     "text": [
      "     83/100     0.394G    0.03029         13        224: 100%|██████████| 32/32 [00:01<00:00, 24.04it/s]\n",
      "               classes   top1_acc   top5_acc: 100%|██████████| 4/4 [00:00<00:00, 65.57it/s]"
     ]
    },
    {
     "name": "stdout",
     "output_type": "stream",
     "text": [
      "                   all      0.859          1\n"
     ]
    },
    {
     "name": "stderr",
     "output_type": "stream",
     "text": [
      "\n"
     ]
    },
    {
     "name": "stdout",
     "output_type": "stream",
     "text": [
      "\n",
      "      Epoch    GPU_mem       loss  Instances       Size\n"
     ]
    },
    {
     "name": "stderr",
     "output_type": "stream",
     "text": [
      "     84/100     0.394G    0.03338         13        224: 100%|██████████| 32/32 [00:01<00:00, 23.88it/s]\n",
      "               classes   top1_acc   top5_acc: 100%|██████████| 4/4 [00:00<00:00, 66.68it/s]"
     ]
    },
    {
     "name": "stdout",
     "output_type": "stream",
     "text": [
      "                   all      0.859          1\n"
     ]
    },
    {
     "name": "stderr",
     "output_type": "stream",
     "text": [
      "\n"
     ]
    },
    {
     "name": "stdout",
     "output_type": "stream",
     "text": [
      "\n",
      "      Epoch    GPU_mem       loss  Instances       Size\n"
     ]
    },
    {
     "name": "stderr",
     "output_type": "stream",
     "text": [
      "     85/100     0.394G    0.01508         13        224: 100%|██████████| 32/32 [00:01<00:00, 23.86it/s]\n",
      "               classes   top1_acc   top5_acc: 100%|██████████| 4/4 [00:00<00:00, 66.68it/s]"
     ]
    },
    {
     "name": "stdout",
     "output_type": "stream",
     "text": [
      "                   all      0.867          1\n"
     ]
    },
    {
     "name": "stderr",
     "output_type": "stream",
     "text": [
      "\n"
     ]
    },
    {
     "name": "stdout",
     "output_type": "stream",
     "text": [
      "\n",
      "      Epoch    GPU_mem       loss  Instances       Size\n"
     ]
    },
    {
     "name": "stderr",
     "output_type": "stream",
     "text": [
      "     86/100     0.394G    0.02482         13        224: 100%|██████████| 32/32 [00:01<00:00, 24.17it/s]\n",
      "               classes   top1_acc   top5_acc: 100%|██████████| 4/4 [00:00<00:00, 57.13it/s]"
     ]
    },
    {
     "name": "stdout",
     "output_type": "stream",
     "text": [
      "                   all      0.898          1\n"
     ]
    },
    {
     "name": "stderr",
     "output_type": "stream",
     "text": [
      "\n"
     ]
    },
    {
     "name": "stdout",
     "output_type": "stream",
     "text": [
      "\n",
      "      Epoch    GPU_mem       loss  Instances       Size\n"
     ]
    },
    {
     "name": "stderr",
     "output_type": "stream",
     "text": [
      "     87/100     0.394G    0.02742         13        224: 100%|██████████| 32/32 [00:01<00:00, 24.02it/s]\n",
      "               classes   top1_acc   top5_acc: 100%|██████████| 4/4 [00:00<00:00, 55.55it/s]"
     ]
    },
    {
     "name": "stdout",
     "output_type": "stream",
     "text": [
      "                   all      0.867          1\n"
     ]
    },
    {
     "name": "stderr",
     "output_type": "stream",
     "text": [
      "\n"
     ]
    },
    {
     "name": "stdout",
     "output_type": "stream",
     "text": [
      "\n",
      "      Epoch    GPU_mem       loss  Instances       Size\n"
     ]
    },
    {
     "name": "stderr",
     "output_type": "stream",
     "text": [
      "     88/100     0.394G    0.02174         13        224: 100%|██████████| 32/32 [00:01<00:00, 23.72it/s]\n",
      "               classes   top1_acc   top5_acc: 100%|██████████| 4/4 [00:00<00:00, 68.96it/s]\n"
     ]
    },
    {
     "name": "stdout",
     "output_type": "stream",
     "text": [
      "                   all      0.867          1\n",
      "\n",
      "      Epoch    GPU_mem       loss  Instances       Size\n"
     ]
    },
    {
     "name": "stderr",
     "output_type": "stream",
     "text": [
      "     89/100     0.394G    0.02468         13        224: 100%|██████████| 32/32 [00:01<00:00, 24.13it/s]\n",
      "               classes   top1_acc   top5_acc: 100%|██████████| 4/4 [00:00<00:00, 66.67it/s]"
     ]
    },
    {
     "name": "stdout",
     "output_type": "stream",
     "text": [
      "                   all      0.867          1\n"
     ]
    },
    {
     "name": "stderr",
     "output_type": "stream",
     "text": [
      "\n"
     ]
    },
    {
     "name": "stdout",
     "output_type": "stream",
     "text": [
      "\n",
      "      Epoch    GPU_mem       loss  Instances       Size\n"
     ]
    },
    {
     "name": "stderr",
     "output_type": "stream",
     "text": [
      "     90/100     0.394G    0.02697         13        224: 100%|██████████| 32/32 [00:01<00:00, 24.21it/s]\n",
      "               classes   top1_acc   top5_acc: 100%|██████████| 4/4 [00:00<00:00, 64.51it/s]"
     ]
    },
    {
     "name": "stdout",
     "output_type": "stream",
     "text": [
      "                   all      0.867          1\n"
     ]
    },
    {
     "name": "stderr",
     "output_type": "stream",
     "text": [
      "\n"
     ]
    },
    {
     "name": "stdout",
     "output_type": "stream",
     "text": [
      "\n",
      "      Epoch    GPU_mem       loss  Instances       Size\n"
     ]
    },
    {
     "name": "stderr",
     "output_type": "stream",
     "text": [
      "     91/100     0.394G    0.01017         13        224: 100%|██████████| 32/32 [00:01<00:00, 20.57it/s]\n",
      "               classes   top1_acc   top5_acc: 100%|██████████| 4/4 [00:00<00:00, 66.67it/s]"
     ]
    },
    {
     "name": "stdout",
     "output_type": "stream",
     "text": [
      "                   all      0.891          1\n"
     ]
    },
    {
     "name": "stderr",
     "output_type": "stream",
     "text": [
      "\n"
     ]
    },
    {
     "name": "stdout",
     "output_type": "stream",
     "text": [
      "\n",
      "      Epoch    GPU_mem       loss  Instances       Size\n"
     ]
    },
    {
     "name": "stderr",
     "output_type": "stream",
     "text": [
      "     92/100     0.394G    0.02866         13        224: 100%|██████████| 32/32 [00:01<00:00, 24.20it/s]\n",
      "               classes   top1_acc   top5_acc: 100%|██████████| 4/4 [00:00<00:00, 61.54it/s]"
     ]
    },
    {
     "name": "stdout",
     "output_type": "stream",
     "text": [
      "                   all      0.891          1\n"
     ]
    },
    {
     "name": "stderr",
     "output_type": "stream",
     "text": [
      "\n"
     ]
    },
    {
     "name": "stdout",
     "output_type": "stream",
     "text": [
      "\n",
      "      Epoch    GPU_mem       loss  Instances       Size\n"
     ]
    },
    {
     "name": "stderr",
     "output_type": "stream",
     "text": [
      "     93/100     0.394G     0.0354         13        224: 100%|██████████| 32/32 [00:01<00:00, 24.10it/s]\n",
      "               classes   top1_acc   top5_acc: 100%|██████████| 4/4 [00:00<00:00, 63.49it/s]"
     ]
    },
    {
     "name": "stdout",
     "output_type": "stream",
     "text": [
      "                   all      0.883          1\n"
     ]
    },
    {
     "name": "stderr",
     "output_type": "stream",
     "text": [
      "\n"
     ]
    },
    {
     "name": "stdout",
     "output_type": "stream",
     "text": [
      "\n",
      "      Epoch    GPU_mem       loss  Instances       Size\n"
     ]
    },
    {
     "name": "stderr",
     "output_type": "stream",
     "text": [
      "     94/100     0.394G    0.01889         13        224: 100%|██████████| 32/32 [00:01<00:00, 24.04it/s]\n",
      "               classes   top1_acc   top5_acc: 100%|██████████| 4/4 [00:00<00:00, 63.49it/s]"
     ]
    },
    {
     "name": "stdout",
     "output_type": "stream",
     "text": [
      "                   all      0.875          1\n"
     ]
    },
    {
     "name": "stderr",
     "output_type": "stream",
     "text": [
      "\n"
     ]
    },
    {
     "name": "stdout",
     "output_type": "stream",
     "text": [
      "\n",
      "      Epoch    GPU_mem       loss  Instances       Size\n"
     ]
    },
    {
     "name": "stderr",
     "output_type": "stream",
     "text": [
      "     95/100     0.394G    0.02429         13        224: 100%|██████████| 32/32 [00:01<00:00, 24.10it/s]\n",
      "               classes   top1_acc   top5_acc: 100%|██████████| 4/4 [00:00<00:00, 60.60it/s]"
     ]
    },
    {
     "name": "stdout",
     "output_type": "stream",
     "text": [
      "                   all      0.875          1\n"
     ]
    },
    {
     "name": "stderr",
     "output_type": "stream",
     "text": [
      "\n"
     ]
    },
    {
     "name": "stdout",
     "output_type": "stream",
     "text": [
      "\n",
      "      Epoch    GPU_mem       loss  Instances       Size\n"
     ]
    },
    {
     "name": "stderr",
     "output_type": "stream",
     "text": [
      "     96/100     0.394G     0.0229         13        224: 100%|██████████| 32/32 [00:01<00:00, 24.08it/s]\n",
      "               classes   top1_acc   top5_acc: 100%|██████████| 4/4 [00:00<00:00, 57.97it/s]"
     ]
    },
    {
     "name": "stdout",
     "output_type": "stream",
     "text": [
      "                   all      0.883          1\n"
     ]
    },
    {
     "name": "stderr",
     "output_type": "stream",
     "text": [
      "\n"
     ]
    },
    {
     "name": "stdout",
     "output_type": "stream",
     "text": [
      "\n",
      "      Epoch    GPU_mem       loss  Instances       Size\n"
     ]
    },
    {
     "name": "stderr",
     "output_type": "stream",
     "text": [
      "     97/100     0.394G    0.01841         13        224: 100%|██████████| 32/32 [00:01<00:00, 23.88it/s]\n",
      "               classes   top1_acc   top5_acc: 100%|██████████| 4/4 [00:00<00:00, 62.50it/s]"
     ]
    },
    {
     "name": "stdout",
     "output_type": "stream",
     "text": [
      "                   all      0.891          1\n"
     ]
    },
    {
     "name": "stderr",
     "output_type": "stream",
     "text": [
      "\n"
     ]
    },
    {
     "name": "stdout",
     "output_type": "stream",
     "text": [
      "\n",
      "      Epoch    GPU_mem       loss  Instances       Size\n"
     ]
    },
    {
     "name": "stderr",
     "output_type": "stream",
     "text": [
      "     98/100     0.394G     0.0258         13        224: 100%|██████████| 32/32 [00:01<00:00, 24.06it/s]\n",
      "               classes   top1_acc   top5_acc: 100%|██████████| 4/4 [00:00<00:00, 62.50it/s]"
     ]
    },
    {
     "name": "stdout",
     "output_type": "stream",
     "text": [
      "                   all      0.875          1\n"
     ]
    },
    {
     "name": "stderr",
     "output_type": "stream",
     "text": [
      "\n"
     ]
    },
    {
     "name": "stdout",
     "output_type": "stream",
     "text": [
      "\n",
      "      Epoch    GPU_mem       loss  Instances       Size\n"
     ]
    },
    {
     "name": "stderr",
     "output_type": "stream",
     "text": [
      "     99/100     0.394G    0.02055         13        224: 100%|██████████| 32/32 [00:01<00:00, 24.13it/s]\n",
      "               classes   top1_acc   top5_acc: 100%|██████████| 4/4 [00:00<00:00, 68.96it/s]"
     ]
    },
    {
     "name": "stdout",
     "output_type": "stream",
     "text": [
      "                   all      0.867          1\n"
     ]
    },
    {
     "name": "stderr",
     "output_type": "stream",
     "text": [
      "\n"
     ]
    },
    {
     "name": "stdout",
     "output_type": "stream",
     "text": [
      "\n",
      "      Epoch    GPU_mem       loss  Instances       Size\n"
     ]
    },
    {
     "name": "stderr",
     "output_type": "stream",
     "text": [
      "    100/100     0.394G    0.02054         13        224: 100%|██████████| 32/32 [00:01<00:00, 24.04it/s]\n",
      "               classes   top1_acc   top5_acc: 100%|██████████| 4/4 [00:00<00:00, 67.80it/s]"
     ]
    },
    {
     "name": "stdout",
     "output_type": "stream",
     "text": [
      "                   all      0.867          1\n"
     ]
    },
    {
     "name": "stderr",
     "output_type": "stream",
     "text": [
      "\n"
     ]
    },
    {
     "name": "stdout",
     "output_type": "stream",
     "text": [
      "\n",
      "100 epochs completed in 0.071 hours.\n",
      "Optimizer stripped from runs\\classify\\train\\weights\\last.pt, 3.0MB\n",
      "Optimizer stripped from runs\\classify\\train\\weights\\best.pt, 3.0MB\n",
      "\n",
      "Validating runs\\classify\\train\\weights\\best.pt...\n",
      "Ultralytics YOLOv8.1.16 🚀 Python-3.11.5 torch-2.1.0 CUDA:0 (NVIDIA GeForce RTX 2080, 8192MiB)\n",
      "YOLOv8n-cls summary (fused): 73 layers, 1437442 parameters, 0 gradients, 3.3 GFLOPs\n",
      "\u001b[34m\u001b[1mtrain:\u001b[0m D:\\Dados\\Weverson\\Yolo Jhonson\\ChildNotChild\\CHILDADULTDATASET\\fold_5\\train... found 509 images in 2 classes ✅ \n",
      "\u001b[34m\u001b[1mval:\u001b[0m D:\\Dados\\Weverson\\Yolo Jhonson\\ChildNotChild\\CHILDADULTDATASET\\fold_5\\val... found 128 images in 2 classes ✅ \n",
      "\u001b[34m\u001b[1mtest:\u001b[0m D:\\Dados\\Weverson\\Yolo Jhonson\\ChildNotChild\\CHILDADULTDATASET\\fold_5\\test... found 160 images in 2 classes ✅ \n"
     ]
    },
    {
     "name": "stderr",
     "output_type": "stream",
     "text": [
      "               classes   top1_acc   top5_acc: 100%|██████████| 4/4 [00:00<00:00, 29.41it/s]\n"
     ]
    },
    {
     "name": "stdout",
     "output_type": "stream",
     "text": [
      "                   all      0.891          1\n",
      "Speed: 0.1ms preprocess, 0.7ms inference, 0.0ms loss, 0.0ms postprocess per image\n",
      "Results saved to \u001b[1mruns\\classify\\train\u001b[0m\n",
      "Results saved to \u001b[1mruns\\classify\\train\u001b[0m\n"
     ]
    }
   ],
   "source": [
    "results = model.train(data='D:/Dados/Weverson/Yolo Jhonson/ChildNotChild/CHILDADULTDATASET/fold_5', epochs=100, imgsz=224)"
   ]
  },
  {
   "cell_type": "code",
   "execution_count": 5,
   "metadata": {},
   "outputs": [
    {
     "data": {
      "text/plain": [
       "0.890625"
      ]
     },
     "execution_count": 5,
     "metadata": {},
     "output_type": "execute_result"
    }
   ],
   "source": [
    "results.top1"
   ]
  },
  {
   "cell_type": "code",
   "execution_count": 6,
   "metadata": {},
   "outputs": [
    {
     "name": "stdout",
     "output_type": "stream",
     "text": [
      "Ultralytics YOLOv8.1.16 🚀 Python-3.11.5 torch-2.1.0 CUDA:0 (NVIDIA GeForce RTX 2080, 8192MiB)\n",
      "YOLOv8n-cls summary (fused): 73 layers, 1437442 parameters, 0 gradients, 3.3 GFLOPs\n",
      "\u001b[34m\u001b[1mtrain:\u001b[0m D:\\Dados\\Weverson\\Yolo Jhonson\\ChildNotChild\\CHILDADULTDATASET\\fold_5\\train... found 509 images in 2 classes ✅ \n",
      "\u001b[34m\u001b[1mval:\u001b[0m D:\\Dados\\Weverson\\Yolo Jhonson\\ChildNotChild\\CHILDADULTDATASET\\fold_5\\val... found 128 images in 2 classes ✅ \n",
      "\u001b[34m\u001b[1mtest:\u001b[0m D:\\Dados\\Weverson\\Yolo Jhonson\\ChildNotChild\\CHILDADULTDATASET\\fold_5\\test... found 160 images in 2 classes ✅ \n"
     ]
    },
    {
     "name": "stderr",
     "output_type": "stream",
     "text": [
      "\u001b[34m\u001b[1mval: \u001b[0mScanning D:\\Dados\\Weverson\\Yolo Jhonson\\ChildNotChild\\CHILDADULTDATASET\\fold_5\\val... 128 images, 0 corrupt: 100%|██████████| 128/128 [00:00<?, ?it/s]\n",
      "               classes   top1_acc   top5_acc: 100%|██████████| 8/8 [00:09<00:00,  1.18s/it]\n"
     ]
    },
    {
     "name": "stdout",
     "output_type": "stream",
     "text": [
      "                   all      0.891          1\n",
      "Speed: 0.2ms preprocess, 2.2ms inference, 0.0ms loss, 0.0ms postprocess per image\n",
      "Results saved to \u001b[1mruns\\classify\\train2\u001b[0m\n"
     ]
    }
   ],
   "source": [
    "metrics = model.val()"
   ]
  },
  {
   "cell_type": "code",
   "execution_count": 7,
   "metadata": {},
   "outputs": [
    {
     "data": {
      "text/plain": [
       "0.890625"
      ]
     },
     "execution_count": 7,
     "metadata": {},
     "output_type": "execute_result"
    }
   ],
   "source": [
    "metrics.top1 # top1 accuracy"
   ]
  },
  {
   "cell_type": "code",
   "execution_count": 8,
   "metadata": {},
   "outputs": [
    {
     "name": "stdout",
     "output_type": "stream",
     "text": [
      "\n",
      "image 1/1 D:\\Dados\\Weverson\\Yolo Jhonson\\ChildNotChild\\CHILDADULTDATASET\\fold_5\\test\\adults\\0_jpg.rf.2e261f3a3fd10d65ca7e6cf45d0eeecf.jpg: 224x224 adults 0.99, children 0.01, 5.0ms\n",
      "Speed: 5.0ms preprocess, 5.0ms inference, 0.0ms postprocess per image at shape (1, 3, 224, 224)\n",
      "\n",
      "image 1/1 D:\\Dados\\Weverson\\Yolo Jhonson\\ChildNotChild\\CHILDADULTDATASET\\fold_5\\test\\adults\\100_jpg.rf.836b8c0eb859a72cf08704ca07500737.jpg: 224x224 adults 1.00, children 0.00, 4.0ms\n",
      "Speed: 6.0ms preprocess, 4.0ms inference, 0.0ms postprocess per image at shape (1, 3, 224, 224)\n",
      "\n",
      "image 1/1 D:\\Dados\\Weverson\\Yolo Jhonson\\ChildNotChild\\CHILDADULTDATASET\\fold_5\\test\\adults\\101_jpg.rf.eae3016491a997465bbdcf0ad6c1613b.jpg: 224x224 children 0.72, adults 0.28, 5.0ms\n",
      "Speed: 7.0ms preprocess, 5.0ms inference, 0.0ms postprocess per image at shape (1, 3, 224, 224)\n",
      "\n",
      "image 1/1 D:\\Dados\\Weverson\\Yolo Jhonson\\ChildNotChild\\CHILDADULTDATASET\\fold_5\\test\\adults\\107_jpg.rf.d55652a45d8f117fbb2a903d4ec17de7.jpg: 224x224 children 1.00, adults 0.00, 6.0ms\n",
      "Speed: 7.0ms preprocess, 6.0ms inference, 0.0ms postprocess per image at shape (1, 3, 224, 224)\n",
      "\n",
      "image 1/1 D:\\Dados\\Weverson\\Yolo Jhonson\\ChildNotChild\\CHILDADULTDATASET\\fold_5\\test\\adults\\111_jpg.rf.ef5a824462617e1f8daeae8e79a00a41.jpg: 224x224 children 0.61, adults 0.39, 5.0ms\n",
      "Speed: 10.0ms preprocess, 5.0ms inference, 0.0ms postprocess per image at shape (1, 3, 224, 224)\n",
      "\n",
      "image 1/1 D:\\Dados\\Weverson\\Yolo Jhonson\\ChildNotChild\\CHILDADULTDATASET\\fold_5\\test\\adults\\121_jpg.rf.4c5bc2497bcd9c6a17fe867954cc5955.jpg: 224x224 children 0.93, adults 0.07, 5.0ms\n",
      "Speed: 13.0ms preprocess, 5.0ms inference, 0.0ms postprocess per image at shape (1, 3, 224, 224)\n",
      "\n",
      "image 1/1 D:\\Dados\\Weverson\\Yolo Jhonson\\ChildNotChild\\CHILDADULTDATASET\\fold_5\\test\\adults\\130_jpg.rf.c49923e7efc4e6cf95c21fb2afd6768f.jpg: 224x224 adults 1.00, children 0.00, 4.0ms\n",
      "Speed: 6.0ms preprocess, 4.0ms inference, 0.0ms postprocess per image at shape (1, 3, 224, 224)\n",
      "\n",
      "image 1/1 D:\\Dados\\Weverson\\Yolo Jhonson\\ChildNotChild\\CHILDADULTDATASET\\fold_5\\test\\adults\\134_jpg.rf.1c3fc292aac502d969482f7f69116e63.jpg: 224x224 adults 1.00, children 0.00, 6.0ms\n",
      "Speed: 6.0ms preprocess, 6.0ms inference, 0.0ms postprocess per image at shape (1, 3, 224, 224)\n",
      "\n",
      "image 1/1 D:\\Dados\\Weverson\\Yolo Jhonson\\ChildNotChild\\CHILDADULTDATASET\\fold_5\\test\\adults\\13_jpg.rf.923623e5dc3860143dce43760612ab65.jpg: 224x224 adults 0.97, children 0.03, 4.0ms\n",
      "Speed: 7.0ms preprocess, 4.0ms inference, 0.0ms postprocess per image at shape (1, 3, 224, 224)\n",
      "\n",
      "image 1/1 D:\\Dados\\Weverson\\Yolo Jhonson\\ChildNotChild\\CHILDADULTDATASET\\fold_5\\test\\adults\\140_jpg.rf.67a736c401286e1bb9be602045967395.jpg: 224x224 adults 1.00, children 0.00, 5.0ms\n",
      "Speed: 5.0ms preprocess, 5.0ms inference, 0.0ms postprocess per image at shape (1, 3, 224, 224)\n",
      "\n",
      "image 1/1 D:\\Dados\\Weverson\\Yolo Jhonson\\ChildNotChild\\CHILDADULTDATASET\\fold_5\\test\\adults\\143_jpg.rf.bb6b590093ad28248aa689c3afa28f7e.jpg: 224x224 adults 1.00, children 0.00, 9.0ms\n",
      "Speed: 5.0ms preprocess, 9.0ms inference, 0.0ms postprocess per image at shape (1, 3, 224, 224)\n",
      "\n",
      "image 1/1 D:\\Dados\\Weverson\\Yolo Jhonson\\ChildNotChild\\CHILDADULTDATASET\\fold_5\\test\\adults\\151_jpg.rf.0b5e4a5fd9a6b71c22ae5d9db9158fa5.jpg: 224x224 adults 1.00, children 0.00, 5.0ms\n",
      "Speed: 5.0ms preprocess, 5.0ms inference, 0.0ms postprocess per image at shape (1, 3, 224, 224)\n",
      "\n",
      "image 1/1 D:\\Dados\\Weverson\\Yolo Jhonson\\ChildNotChild\\CHILDADULTDATASET\\fold_5\\test\\adults\\154_jpg.rf.33fd6889566432e7e64a3a4a86e10c40.jpg: 224x224 adults 1.00, children 0.00, 4.0ms\n",
      "Speed: 5.0ms preprocess, 4.0ms inference, 1.0ms postprocess per image at shape (1, 3, 224, 224)\n",
      "\n",
      "image 1/1 D:\\Dados\\Weverson\\Yolo Jhonson\\ChildNotChild\\CHILDADULTDATASET\\fold_5\\test\\adults\\157_jpg.rf.a1170aea1c81f5171fb2da1a5df1b8cd.jpg: 224x224 adults 1.00, children 0.00, 8.0ms\n",
      "Speed: 5.0ms preprocess, 8.0ms inference, 0.0ms postprocess per image at shape (1, 3, 224, 224)\n",
      "\n",
      "image 1/1 D:\\Dados\\Weverson\\Yolo Jhonson\\ChildNotChild\\CHILDADULTDATASET\\fold_5\\test\\adults\\158_jpg.rf.4a321f8129fb70d9333d0f3e040ef969.jpg: 224x224 children 0.84, adults 0.16, 4.0ms\n",
      "Speed: 6.0ms preprocess, 4.0ms inference, 0.0ms postprocess per image at shape (1, 3, 224, 224)\n",
      "\n",
      "image 1/1 D:\\Dados\\Weverson\\Yolo Jhonson\\ChildNotChild\\CHILDADULTDATASET\\fold_5\\test\\adults\\163_jpg.rf.f117de0c86a396e8ed431ff22b30aad8.jpg: 224x224 adults 1.00, children 0.00, 5.0ms\n",
      "Speed: 5.0ms preprocess, 5.0ms inference, 0.0ms postprocess per image at shape (1, 3, 224, 224)\n",
      "\n",
      "image 1/1 D:\\Dados\\Weverson\\Yolo Jhonson\\ChildNotChild\\CHILDADULTDATASET\\fold_5\\test\\adults\\169_jpg.rf.b72b023686032b5bdd3459e0a20eec58.jpg: 224x224 adults 0.81, children 0.19, 5.0ms\n",
      "Speed: 6.0ms preprocess, 5.0ms inference, 0.0ms postprocess per image at shape (1, 3, 224, 224)\n",
      "\n",
      "image 1/1 D:\\Dados\\Weverson\\Yolo Jhonson\\ChildNotChild\\CHILDADULTDATASET\\fold_5\\test\\adults\\16_jpg.rf.a61943a67788075587ba7a6428dd9cde.jpg: 224x224 adults 1.00, children 0.00, 4.0ms\n",
      "Speed: 6.0ms preprocess, 4.0ms inference, 0.0ms postprocess per image at shape (1, 3, 224, 224)\n",
      "\n",
      "image 1/1 D:\\Dados\\Weverson\\Yolo Jhonson\\ChildNotChild\\CHILDADULTDATASET\\fold_5\\test\\adults\\170_jpg.rf.455a19df6480ceb9b64c59b274f535d8.jpg: 224x224 adults 0.98, children 0.02, 4.0ms\n",
      "Speed: 4.0ms preprocess, 4.0ms inference, 0.0ms postprocess per image at shape (1, 3, 224, 224)\n",
      "\n",
      "image 1/1 D:\\Dados\\Weverson\\Yolo Jhonson\\ChildNotChild\\CHILDADULTDATASET\\fold_5\\test\\adults\\177_jpg.rf.05d4136ea786ac55818bfd0915fcf34b.jpg: 224x224 children 0.73, adults 0.27, 4.0ms\n",
      "Speed: 5.0ms preprocess, 4.0ms inference, 0.0ms postprocess per image at shape (1, 3, 224, 224)\n",
      "\n",
      "image 1/1 D:\\Dados\\Weverson\\Yolo Jhonson\\ChildNotChild\\CHILDADULTDATASET\\fold_5\\test\\adults\\18_jpg.rf.64cf3682faafaaf6f196e39cf35101aa.jpg: 224x224 adults 1.00, children 0.00, 5.0ms\n",
      "Speed: 6.0ms preprocess, 5.0ms inference, 0.0ms postprocess per image at shape (1, 3, 224, 224)\n",
      "\n",
      "image 1/1 D:\\Dados\\Weverson\\Yolo Jhonson\\ChildNotChild\\CHILDADULTDATASET\\fold_5\\test\\adults\\190_jpg.rf.5cc6d4fc744f28d41fb59f3b95acf733.jpg: 224x224 children 1.00, adults 0.00, 4.0ms\n",
      "Speed: 5.0ms preprocess, 4.0ms inference, 0.0ms postprocess per image at shape (1, 3, 224, 224)\n",
      "\n",
      "image 1/1 D:\\Dados\\Weverson\\Yolo Jhonson\\ChildNotChild\\CHILDADULTDATASET\\fold_5\\test\\adults\\192_jpg.rf.6af4d9b5c27f0d3a6de4e45612a3ccd5.jpg: 224x224 adults 1.00, children 0.00, 4.0ms\n",
      "Speed: 5.0ms preprocess, 4.0ms inference, 0.0ms postprocess per image at shape (1, 3, 224, 224)\n",
      "\n",
      "image 1/1 D:\\Dados\\Weverson\\Yolo Jhonson\\ChildNotChild\\CHILDADULTDATASET\\fold_5\\test\\adults\\193_jpg.rf.183d8c86791af8d344b8b79b13fa3a02.jpg: 224x224 adults 1.00, children 0.00, 6.0ms\n",
      "Speed: 6.0ms preprocess, 6.0ms inference, 0.0ms postprocess per image at shape (1, 3, 224, 224)\n",
      "\n",
      "image 1/1 D:\\Dados\\Weverson\\Yolo Jhonson\\ChildNotChild\\CHILDADULTDATASET\\fold_5\\test\\adults\\198_jpg.rf.a6a8253d731539bf47b7c6a181f371ec.jpg: 224x224 children 1.00, adults 0.00, 4.0ms\n",
      "Speed: 6.0ms preprocess, 4.0ms inference, 0.0ms postprocess per image at shape (1, 3, 224, 224)\n",
      "\n",
      "image 1/1 D:\\Dados\\Weverson\\Yolo Jhonson\\ChildNotChild\\CHILDADULTDATASET\\fold_5\\test\\adults\\199_jpg.rf.78d9086f0126b6cee9e349cf1d4438a4.jpg: 224x224 children 0.91, adults 0.09, 4.0ms\n",
      "Speed: 5.0ms preprocess, 4.0ms inference, 0.0ms postprocess per image at shape (1, 3, 224, 224)\n",
      "\n",
      "image 1/1 D:\\Dados\\Weverson\\Yolo Jhonson\\ChildNotChild\\CHILDADULTDATASET\\fold_5\\test\\adults\\1_jpg.rf.b83be18b1a2b4fa4d7a470d54bf7c5fc.jpg: 224x224 adults 1.00, children 0.00, 7.0ms\n",
      "Speed: 6.0ms preprocess, 7.0ms inference, 0.0ms postprocess per image at shape (1, 3, 224, 224)\n",
      "\n",
      "image 1/1 D:\\Dados\\Weverson\\Yolo Jhonson\\ChildNotChild\\CHILDADULTDATASET\\fold_5\\test\\adults\\203_jpg.rf.b3f7415bbaedeb31baf969e05d6819cf.jpg: 224x224 adults 0.98, children 0.02, 5.0ms\n",
      "Speed: 26.0ms preprocess, 5.0ms inference, 0.0ms postprocess per image at shape (1, 3, 224, 224)\n",
      "\n",
      "image 1/1 D:\\Dados\\Weverson\\Yolo Jhonson\\ChildNotChild\\CHILDADULTDATASET\\fold_5\\test\\adults\\206_jpg.rf.8c447883e9ec9c1af14fd9f8312f1142.jpg: 224x224 adults 1.00, children 0.00, 9.0ms\n",
      "Speed: 8.0ms preprocess, 9.0ms inference, 0.0ms postprocess per image at shape (1, 3, 224, 224)\n",
      "\n",
      "image 1/1 D:\\Dados\\Weverson\\Yolo Jhonson\\ChildNotChild\\CHILDADULTDATASET\\fold_5\\test\\adults\\214_jpg.rf.579b715ecc12ddc05c4b18fa39b4a1a2.jpg: 224x224 adults 1.00, children 0.00, 12.0ms\n",
      "Speed: 5.0ms preprocess, 12.0ms inference, 0.0ms postprocess per image at shape (1, 3, 224, 224)\n",
      "\n",
      "image 1/1 D:\\Dados\\Weverson\\Yolo Jhonson\\ChildNotChild\\CHILDADULTDATASET\\fold_5\\test\\adults\\219_jpg.rf.f5328a57d853d0b9c9ed392e32ff69e4.jpg: 224x224 adults 0.70, children 0.30, 5.0ms\n",
      "Speed: 5.0ms preprocess, 5.0ms inference, 0.0ms postprocess per image at shape (1, 3, 224, 224)\n",
      "\n",
      "image 1/1 D:\\Dados\\Weverson\\Yolo Jhonson\\ChildNotChild\\CHILDADULTDATASET\\fold_5\\test\\adults\\21_jpg.rf.4dcdc8ee3b492b83b4f06dcd1ff9c221.jpg: 224x224 adults 1.00, children 0.00, 8.0ms\n",
      "Speed: 7.0ms preprocess, 8.0ms inference, 0.0ms postprocess per image at shape (1, 3, 224, 224)\n",
      "\n",
      "image 1/1 D:\\Dados\\Weverson\\Yolo Jhonson\\ChildNotChild\\CHILDADULTDATASET\\fold_5\\test\\adults\\220_jpg.rf.5b402a4be403170ca8b45ad520edb31b.jpg: 224x224 adults 0.97, children 0.03, 4.0ms\n",
      "Speed: 6.0ms preprocess, 4.0ms inference, 0.0ms postprocess per image at shape (1, 3, 224, 224)\n",
      "\n",
      "image 1/1 D:\\Dados\\Weverson\\Yolo Jhonson\\ChildNotChild\\CHILDADULTDATASET\\fold_5\\test\\adults\\231_jpg.rf.2b3b044ecbdfba64e2a584df90cdb0c1.jpg: 224x224 adults 1.00, children 0.00, 9.0ms\n",
      "Speed: 6.0ms preprocess, 9.0ms inference, 0.0ms postprocess per image at shape (1, 3, 224, 224)\n",
      "\n",
      "image 1/1 D:\\Dados\\Weverson\\Yolo Jhonson\\ChildNotChild\\CHILDADULTDATASET\\fold_5\\test\\adults\\234_jpg.rf.8fd5666e4793262697eac8d153bc6611.jpg: 224x224 children 1.00, adults 0.00, 7.0ms\n",
      "Speed: 6.0ms preprocess, 7.0ms inference, 0.0ms postprocess per image at shape (1, 3, 224, 224)\n",
      "\n",
      "image 1/1 D:\\Dados\\Weverson\\Yolo Jhonson\\ChildNotChild\\CHILDADULTDATASET\\fold_5\\test\\adults\\239_jpg.rf.7bd31d71481866a29ce408257199f968.jpg: 224x224 adults 0.99, children 0.01, 5.0ms\n",
      "Speed: 6.0ms preprocess, 5.0ms inference, 1.0ms postprocess per image at shape (1, 3, 224, 224)\n",
      "\n",
      "image 1/1 D:\\Dados\\Weverson\\Yolo Jhonson\\ChildNotChild\\CHILDADULTDATASET\\fold_5\\test\\adults\\246_jpg.rf.f48b1473ddd00ac7d4ce942256fb9b0d.jpg: 224x224 adults 0.99, children 0.01, 4.0ms\n",
      "Speed: 6.0ms preprocess, 4.0ms inference, 1.0ms postprocess per image at shape (1, 3, 224, 224)\n",
      "\n",
      "image 1/1 D:\\Dados\\Weverson\\Yolo Jhonson\\ChildNotChild\\CHILDADULTDATASET\\fold_5\\test\\adults\\248_jpg.rf.6dafd7aecd5ece8eea427cff76ad4673.jpg: 224x224 adults 0.61, children 0.39, 8.0ms\n",
      "Speed: 5.0ms preprocess, 8.0ms inference, 0.0ms postprocess per image at shape (1, 3, 224, 224)\n",
      "\n",
      "image 1/1 D:\\Dados\\Weverson\\Yolo Jhonson\\ChildNotChild\\CHILDADULTDATASET\\fold_5\\test\\adults\\24_jpg.rf.51368952fd4243cec01fd95d2fbaf4b5.jpg: 224x224 adults 1.00, children 0.00, 4.0ms\n",
      "Speed: 6.0ms preprocess, 4.0ms inference, 0.0ms postprocess per image at shape (1, 3, 224, 224)\n",
      "\n",
      "image 1/1 D:\\Dados\\Weverson\\Yolo Jhonson\\ChildNotChild\\CHILDADULTDATASET\\fold_5\\test\\adults\\250_jpg.rf.de6ef453e6b21f107cf4a6dd16d183ca.jpg: 224x224 adults 1.00, children 0.00, 10.0ms\n",
      "Speed: 6.0ms preprocess, 10.0ms inference, 0.0ms postprocess per image at shape (1, 3, 224, 224)\n",
      "\n",
      "image 1/1 D:\\Dados\\Weverson\\Yolo Jhonson\\ChildNotChild\\CHILDADULTDATASET\\fold_5\\test\\adults\\257_jpg.rf.0fa15b27ae7a60b027a1aa2f06b39522.jpg: 224x224 adults 1.00, children 0.00, 5.0ms\n",
      "Speed: 6.0ms preprocess, 5.0ms inference, 0.0ms postprocess per image at shape (1, 3, 224, 224)\n",
      "\n",
      "image 1/1 D:\\Dados\\Weverson\\Yolo Jhonson\\ChildNotChild\\CHILDADULTDATASET\\fold_5\\test\\adults\\260_jpg.rf.6012d2a28783f8730901942f64ee1f3b.jpg: 224x224 adults 1.00, children 0.00, 8.0ms\n",
      "Speed: 6.0ms preprocess, 8.0ms inference, 0.0ms postprocess per image at shape (1, 3, 224, 224)\n",
      "\n",
      "image 1/1 D:\\Dados\\Weverson\\Yolo Jhonson\\ChildNotChild\\CHILDADULTDATASET\\fold_5\\test\\adults\\262_jpg.rf.439654d257a46779ca903032100942a6.jpg: 224x224 adults 0.99, children 0.01, 5.0ms\n",
      "Speed: 6.0ms preprocess, 5.0ms inference, 0.0ms postprocess per image at shape (1, 3, 224, 224)\n",
      "\n",
      "image 1/1 D:\\Dados\\Weverson\\Yolo Jhonson\\ChildNotChild\\CHILDADULTDATASET\\fold_5\\test\\adults\\268_jpg.rf.60829bf5e2bbebe9e7331ad659a69c68.jpg: 224x224 adults 1.00, children 0.00, 4.0ms\n",
      "Speed: 6.0ms preprocess, 4.0ms inference, 0.0ms postprocess per image at shape (1, 3, 224, 224)\n",
      "\n",
      "image 1/1 D:\\Dados\\Weverson\\Yolo Jhonson\\ChildNotChild\\CHILDADULTDATASET\\fold_5\\test\\adults\\280_jpg.rf.769efa68f0335ec521982e96c29a2c8e.jpg: 224x224 adults 1.00, children 0.00, 4.0ms\n",
      "Speed: 6.0ms preprocess, 4.0ms inference, 0.0ms postprocess per image at shape (1, 3, 224, 224)\n",
      "\n",
      "image 1/1 D:\\Dados\\Weverson\\Yolo Jhonson\\ChildNotChild\\CHILDADULTDATASET\\fold_5\\test\\adults\\281_jpg.rf.dcf15ff7fef5908b46475ffb1da03eec.jpg: 224x224 adults 1.00, children 0.00, 4.0ms\n",
      "Speed: 6.0ms preprocess, 4.0ms inference, 0.0ms postprocess per image at shape (1, 3, 224, 224)\n",
      "\n",
      "image 1/1 D:\\Dados\\Weverson\\Yolo Jhonson\\ChildNotChild\\CHILDADULTDATASET\\fold_5\\test\\adults\\288_jpg.rf.d902a7b2c314c6dea0742403e5b1451b.jpg: 224x224 children 0.58, adults 0.42, 6.0ms\n",
      "Speed: 6.0ms preprocess, 6.0ms inference, 0.0ms postprocess per image at shape (1, 3, 224, 224)\n",
      "\n",
      "image 1/1 D:\\Dados\\Weverson\\Yolo Jhonson\\ChildNotChild\\CHILDADULTDATASET\\fold_5\\test\\adults\\292_jpg.rf.6d3c5d68b9ae2aabae63c8b8a97acfb2.jpg: 224x224 adults 1.00, children 0.00, 4.0ms\n",
      "Speed: 6.0ms preprocess, 4.0ms inference, 1.0ms postprocess per image at shape (1, 3, 224, 224)\n",
      "\n",
      "image 1/1 D:\\Dados\\Weverson\\Yolo Jhonson\\ChildNotChild\\CHILDADULTDATASET\\fold_5\\test\\adults\\293_jpg.rf.930ff797682504587fc4c8e8404c3aac.jpg: 224x224 adults 1.00, children 0.00, 7.0ms\n",
      "Speed: 5.0ms preprocess, 7.0ms inference, 0.0ms postprocess per image at shape (1, 3, 224, 224)\n",
      "\n",
      "image 1/1 D:\\Dados\\Weverson\\Yolo Jhonson\\ChildNotChild\\CHILDADULTDATASET\\fold_5\\test\\adults\\300_jpg.rf.22ab42b665f944e6024aaceea972aa8e.jpg: 224x224 adults 1.00, children 0.00, 4.0ms\n",
      "Speed: 6.0ms preprocess, 4.0ms inference, 0.0ms postprocess per image at shape (1, 3, 224, 224)\n",
      "\n",
      "image 1/1 D:\\Dados\\Weverson\\Yolo Jhonson\\ChildNotChild\\CHILDADULTDATASET\\fold_5\\test\\adults\\310_jpg.rf.2296f47558aa3d10708ae88f47ab7287.jpg: 224x224 adults 1.00, children 0.00, 5.0ms\n",
      "Speed: 12.0ms preprocess, 5.0ms inference, 0.0ms postprocess per image at shape (1, 3, 224, 224)\n",
      "\n",
      "image 1/1 D:\\Dados\\Weverson\\Yolo Jhonson\\ChildNotChild\\CHILDADULTDATASET\\fold_5\\test\\adults\\314_jpg.rf.f395d5cb6129d58269cc229a5a08c20a.jpg: 224x224 adults 1.00, children 0.00, 7.0ms\n",
      "Speed: 7.0ms preprocess, 7.0ms inference, 0.0ms postprocess per image at shape (1, 3, 224, 224)\n",
      "\n",
      "image 1/1 D:\\Dados\\Weverson\\Yolo Jhonson\\ChildNotChild\\CHILDADULTDATASET\\fold_5\\test\\adults\\318_jpg.rf.7437c414e8aabacefb35e36fc7c45518.jpg: 224x224 adults 1.00, children 0.00, 4.0ms\n",
      "Speed: 6.0ms preprocess, 4.0ms inference, 0.0ms postprocess per image at shape (1, 3, 224, 224)\n",
      "\n",
      "image 1/1 D:\\Dados\\Weverson\\Yolo Jhonson\\ChildNotChild\\CHILDADULTDATASET\\fold_5\\test\\adults\\325_jpg.rf.3dc65363d338c4d90095ed2185fd63cf.jpg: 224x224 adults 1.00, children 0.00, 4.0ms\n",
      "Speed: 6.0ms preprocess, 4.0ms inference, 0.0ms postprocess per image at shape (1, 3, 224, 224)\n",
      "\n",
      "image 1/1 D:\\Dados\\Weverson\\Yolo Jhonson\\ChildNotChild\\CHILDADULTDATASET\\fold_5\\test\\adults\\326_jpg.rf.20b2e4959d0b2883eb0b051cab93acf8.jpg: 224x224 children 0.83, adults 0.17, 8.0ms\n",
      "Speed: 5.0ms preprocess, 8.0ms inference, 0.0ms postprocess per image at shape (1, 3, 224, 224)\n",
      "\n",
      "image 1/1 D:\\Dados\\Weverson\\Yolo Jhonson\\ChildNotChild\\CHILDADULTDATASET\\fold_5\\test\\adults\\331_jpg.rf.e08f1073f8aa704a9298e17db54a7eb6.jpg: 224x224 children 0.90, adults 0.10, 4.0ms\n",
      "Speed: 6.0ms preprocess, 4.0ms inference, 0.0ms postprocess per image at shape (1, 3, 224, 224)\n",
      "\n",
      "image 1/1 D:\\Dados\\Weverson\\Yolo Jhonson\\ChildNotChild\\CHILDADULTDATASET\\fold_5\\test\\adults\\337_jpg.rf.3d475f559690e2d70f0eaa2f668b4c6d.jpg: 224x224 adults 1.00, children 0.00, 5.0ms\n",
      "Speed: 5.0ms preprocess, 5.0ms inference, 0.0ms postprocess per image at shape (1, 3, 224, 224)\n",
      "\n",
      "image 1/1 D:\\Dados\\Weverson\\Yolo Jhonson\\ChildNotChild\\CHILDADULTDATASET\\fold_5\\test\\adults\\346_jpg.rf.82a909479ae6cd333285c62644fa9a7c.jpg: 224x224 adults 1.00, children 0.00, 4.0ms\n",
      "Speed: 6.0ms preprocess, 4.0ms inference, 0.0ms postprocess per image at shape (1, 3, 224, 224)\n",
      "\n",
      "image 1/1 D:\\Dados\\Weverson\\Yolo Jhonson\\ChildNotChild\\CHILDADULTDATASET\\fold_5\\test\\adults\\349_jpg.rf.d32bf2dd902c1198db3902bf25113f1d.jpg: 224x224 children 0.91, adults 0.09, 3.0ms\n",
      "Speed: 6.0ms preprocess, 3.0ms inference, 0.0ms postprocess per image at shape (1, 3, 224, 224)\n",
      "\n",
      "image 1/1 D:\\Dados\\Weverson\\Yolo Jhonson\\ChildNotChild\\CHILDADULTDATASET\\fold_5\\test\\adults\\351_jpg.rf.5d805824e4ebac5e39e54dace9e99b5e.jpg: 224x224 adults 1.00, children 0.00, 5.0ms\n",
      "Speed: 5.0ms preprocess, 5.0ms inference, 0.0ms postprocess per image at shape (1, 3, 224, 224)\n",
      "\n",
      "image 1/1 D:\\Dados\\Weverson\\Yolo Jhonson\\ChildNotChild\\CHILDADULTDATASET\\fold_5\\test\\adults\\355_jpg.rf.fb941333eab5d8b7668b1fc801ebcbd0.jpg: 224x224 adults 1.00, children 0.00, 5.0ms\n",
      "Speed: 5.0ms preprocess, 5.0ms inference, 0.0ms postprocess per image at shape (1, 3, 224, 224)\n",
      "\n",
      "image 1/1 D:\\Dados\\Weverson\\Yolo Jhonson\\ChildNotChild\\CHILDADULTDATASET\\fold_5\\test\\adults\\358_jpg.rf.9e9c1d04666609980b36c2115b1944ac.jpg: 224x224 adults 1.00, children 0.00, 5.0ms\n",
      "Speed: 5.0ms preprocess, 5.0ms inference, 0.0ms postprocess per image at shape (1, 3, 224, 224)\n",
      "\n",
      "image 1/1 D:\\Dados\\Weverson\\Yolo Jhonson\\ChildNotChild\\CHILDADULTDATASET\\fold_5\\test\\adults\\361_jpg.rf.b0db08e3509085b41689b1882f93c97f.jpg: 224x224 adults 1.00, children 0.00, 7.0ms\n",
      "Speed: 5.0ms preprocess, 7.0ms inference, 0.0ms postprocess per image at shape (1, 3, 224, 224)\n",
      "\n",
      "image 1/1 D:\\Dados\\Weverson\\Yolo Jhonson\\ChildNotChild\\CHILDADULTDATASET\\fold_5\\test\\adults\\367_jpg.rf.54e315cca1d40bdeb81ec2b8b1596631.jpg: 224x224 adults 0.99, children 0.01, 5.0ms\n",
      "Speed: 5.0ms preprocess, 5.0ms inference, 0.0ms postprocess per image at shape (1, 3, 224, 224)\n",
      "\n",
      "image 1/1 D:\\Dados\\Weverson\\Yolo Jhonson\\ChildNotChild\\CHILDADULTDATASET\\fold_5\\test\\adults\\368_jpg.rf.f554d5ae0a20d62e5c21395dfde3ed52.jpg: 224x224 adults 1.00, children 0.00, 4.0ms\n",
      "Speed: 6.0ms preprocess, 4.0ms inference, 0.0ms postprocess per image at shape (1, 3, 224, 224)\n",
      "\n",
      "image 1/1 D:\\Dados\\Weverson\\Yolo Jhonson\\ChildNotChild\\CHILDADULTDATASET\\fold_5\\test\\adults\\382_jpg.rf.e61578d7b512d1028ca48223bad7dbb7.jpg: 224x224 adults 0.65, children 0.35, 6.0ms\n",
      "Speed: 5.0ms preprocess, 6.0ms inference, 1.0ms postprocess per image at shape (1, 3, 224, 224)\n",
      "\n",
      "image 1/1 D:\\Dados\\Weverson\\Yolo Jhonson\\ChildNotChild\\CHILDADULTDATASET\\fold_5\\test\\adults\\386_jpg.rf.3211980119c067528205c0c9f0135723.jpg: 224x224 adults 0.65, children 0.35, 4.0ms\n",
      "Speed: 5.0ms preprocess, 4.0ms inference, 0.0ms postprocess per image at shape (1, 3, 224, 224)\n",
      "\n",
      "image 1/1 D:\\Dados\\Weverson\\Yolo Jhonson\\ChildNotChild\\CHILDADULTDATASET\\fold_5\\test\\adults\\38_jpg.rf.fa7f9a2d23c1b610d71d4afc21779283.jpg: 224x224 adults 1.00, children 0.00, 8.0ms\n",
      "Speed: 5.0ms preprocess, 8.0ms inference, 0.0ms postprocess per image at shape (1, 3, 224, 224)\n",
      "\n",
      "image 1/1 D:\\Dados\\Weverson\\Yolo Jhonson\\ChildNotChild\\CHILDADULTDATASET\\fold_5\\test\\adults\\397_jpg.rf.7b1641c46def417a4db9e49aa7cb081d.jpg: 224x224 adults 1.00, children 0.00, 4.0ms\n",
      "Speed: 6.0ms preprocess, 4.0ms inference, 1.0ms postprocess per image at shape (1, 3, 224, 224)\n",
      "\n",
      "image 1/1 D:\\Dados\\Weverson\\Yolo Jhonson\\ChildNotChild\\CHILDADULTDATASET\\fold_5\\test\\adults\\40_jpg.rf.8d3dedde5edde8a9251bc19d379310ae.jpg: 224x224 adults 1.00, children 0.00, 5.0ms\n",
      "Speed: 6.0ms preprocess, 5.0ms inference, 0.0ms postprocess per image at shape (1, 3, 224, 224)\n",
      "\n",
      "image 1/1 D:\\Dados\\Weverson\\Yolo Jhonson\\ChildNotChild\\CHILDADULTDATASET\\fold_5\\test\\adults\\42_jpg.rf.db4d17cd8582ff75bcd6b6898c8f0c54.jpg: 224x224 children 0.75, adults 0.25, 8.0ms\n",
      "Speed: 6.0ms preprocess, 8.0ms inference, 0.0ms postprocess per image at shape (1, 3, 224, 224)\n",
      "\n",
      "image 1/1 D:\\Dados\\Weverson\\Yolo Jhonson\\ChildNotChild\\CHILDADULTDATASET\\fold_5\\test\\adults\\54_jpg.rf.cc5580e04d177d370bcb44ca665fe60c.jpg: 224x224 adults 1.00, children 0.00, 4.0ms\n",
      "Speed: 5.0ms preprocess, 4.0ms inference, 0.0ms postprocess per image at shape (1, 3, 224, 224)\n",
      "\n",
      "image 1/1 D:\\Dados\\Weverson\\Yolo Jhonson\\ChildNotChild\\CHILDADULTDATASET\\fold_5\\test\\adults\\64_jpg.rf.ef36bcacf32c59ea9e4464952f25cd3c.jpg: 224x224 children 0.95, adults 0.05, 7.0ms\n",
      "Speed: 5.0ms preprocess, 7.0ms inference, 0.0ms postprocess per image at shape (1, 3, 224, 224)\n",
      "\n",
      "image 1/1 D:\\Dados\\Weverson\\Yolo Jhonson\\ChildNotChild\\CHILDADULTDATASET\\fold_5\\test\\adults\\68_jpg.rf.6cf3f097621969362db49c3e08886d3d.jpg: 224x224 adults 1.00, children 0.00, 4.0ms\n",
      "Speed: 6.0ms preprocess, 4.0ms inference, 0.0ms postprocess per image at shape (1, 3, 224, 224)\n",
      "\n",
      "image 1/1 D:\\Dados\\Weverson\\Yolo Jhonson\\ChildNotChild\\CHILDADULTDATASET\\fold_5\\test\\adults\\69_jpg.rf.b28d388c51a20ad09f4eb6709e1d5741.jpg: 224x224 adults 1.00, children 0.00, 4.0ms\n",
      "Speed: 6.0ms preprocess, 4.0ms inference, 0.0ms postprocess per image at shape (1, 3, 224, 224)\n",
      "\n",
      "image 1/1 D:\\Dados\\Weverson\\Yolo Jhonson\\ChildNotChild\\CHILDADULTDATASET\\fold_5\\test\\adults\\78_jpg.rf.a3ae3044610eda6b0c30baaf3aeed5e4.jpg: 224x224 adults 1.00, children 0.00, 4.0ms\n",
      "Speed: 6.0ms preprocess, 4.0ms inference, 0.0ms postprocess per image at shape (1, 3, 224, 224)\n",
      "\n",
      "image 1/1 D:\\Dados\\Weverson\\Yolo Jhonson\\ChildNotChild\\CHILDADULTDATASET\\fold_5\\test\\adults\\81_jpg.rf.d56ccf5412f8a6422d6342a33e997d13.jpg: 224x224 adults 1.00, children 0.00, 5.0ms\n",
      "Speed: 28.0ms preprocess, 5.0ms inference, 1.0ms postprocess per image at shape (1, 3, 224, 224)\n",
      "\n",
      "image 1/1 D:\\Dados\\Weverson\\Yolo Jhonson\\ChildNotChild\\CHILDADULTDATASET\\fold_5\\test\\adults\\85_jpg.rf.29a95a28797607529a60f792da39c731.jpg: 224x224 adults 1.00, children 0.00, 4.0ms\n",
      "Speed: 7.0ms preprocess, 4.0ms inference, 0.0ms postprocess per image at shape (1, 3, 224, 224)\n",
      "\n",
      "image 1/1 D:\\Dados\\Weverson\\Yolo Jhonson\\ChildNotChild\\CHILDADULTDATASET\\fold_5\\test\\adults\\92_jpg.rf.85b8b9a13af2c429017f0a8fe141deb1.jpg: 224x224 adults 1.00, children 0.00, 4.0ms\n",
      "Speed: 7.0ms preprocess, 4.0ms inference, 0.0ms postprocess per image at shape (1, 3, 224, 224)\n",
      "\n",
      "image 1/1 D:\\Dados\\Weverson\\Yolo Jhonson\\ChildNotChild\\CHILDADULTDATASET\\fold_5\\test\\adults\\94_jpg.rf.450c610b22da4ac642278c76a074ca42.jpg: 224x224 adults 1.00, children 0.00, 4.0ms\n",
      "Speed: 6.0ms preprocess, 4.0ms inference, 0.0ms postprocess per image at shape (1, 3, 224, 224)\n",
      "\n",
      "image 1/1 D:\\Dados\\Weverson\\Yolo Jhonson\\ChildNotChild\\CHILDADULTDATASET\\fold_5\\test\\children\\0_jpg.rf.cf23e4feac1f3ace12e6713c78e1d922.jpg: 224x224 children 1.00, adults 0.00, 7.0ms\n",
      "Speed: 6.0ms preprocess, 7.0ms inference, 0.0ms postprocess per image at shape (1, 3, 224, 224)\n",
      "\n",
      "image 1/1 D:\\Dados\\Weverson\\Yolo Jhonson\\ChildNotChild\\CHILDADULTDATASET\\fold_5\\test\\children\\105_jpg.rf.030b95b6a4e9a3202055cada5d4ebede.jpg: 224x224 children 0.97, adults 0.03, 4.0ms\n",
      "Speed: 6.0ms preprocess, 4.0ms inference, 0.0ms postprocess per image at shape (1, 3, 224, 224)\n",
      "\n",
      "image 1/1 D:\\Dados\\Weverson\\Yolo Jhonson\\ChildNotChild\\CHILDADULTDATASET\\fold_5\\test\\children\\109_jpg.rf.b84dc88a38c93c92cfa6918edce7fe2a.jpg: 224x224 children 1.00, adults 0.00, 5.0ms\n",
      "Speed: 6.0ms preprocess, 5.0ms inference, 0.0ms postprocess per image at shape (1, 3, 224, 224)\n",
      "\n",
      "image 1/1 D:\\Dados\\Weverson\\Yolo Jhonson\\ChildNotChild\\CHILDADULTDATASET\\fold_5\\test\\children\\115_jpg.rf.7be165bb799ce31c117c673317be9cf3.jpg: 224x224 children 1.00, adults 0.00, 4.0ms\n",
      "Speed: 6.0ms preprocess, 4.0ms inference, 0.0ms postprocess per image at shape (1, 3, 224, 224)\n",
      "\n",
      "image 1/1 D:\\Dados\\Weverson\\Yolo Jhonson\\ChildNotChild\\CHILDADULTDATASET\\fold_5\\test\\children\\122_jpg.rf.ad6308dc005b69e5096dbdcbc86ccddf.jpg: 224x224 children 1.00, adults 0.00, 4.0ms\n",
      "Speed: 5.0ms preprocess, 4.0ms inference, 0.0ms postprocess per image at shape (1, 3, 224, 224)\n",
      "\n",
      "image 1/1 D:\\Dados\\Weverson\\Yolo Jhonson\\ChildNotChild\\CHILDADULTDATASET\\fold_5\\test\\children\\125_jpg.rf.94aa04c153b88ffc3628a971dddd0229.jpg: 224x224 children 1.00, adults 0.00, 6.0ms\n",
      "Speed: 6.0ms preprocess, 6.0ms inference, 0.0ms postprocess per image at shape (1, 3, 224, 224)\n",
      "\n",
      "image 1/1 D:\\Dados\\Weverson\\Yolo Jhonson\\ChildNotChild\\CHILDADULTDATASET\\fold_5\\test\\children\\12_jpg.rf.0c9f2ea7501d4243d6b5fbd1244a4f11.jpg: 224x224 children 1.00, adults 0.00, 4.0ms\n",
      "Speed: 5.0ms preprocess, 4.0ms inference, 0.0ms postprocess per image at shape (1, 3, 224, 224)\n",
      "\n",
      "image 1/1 D:\\Dados\\Weverson\\Yolo Jhonson\\ChildNotChild\\CHILDADULTDATASET\\fold_5\\test\\children\\130_jpg.rf.9e56e0d364190ab6f2cb03842369e59c.jpg: 224x224 adults 0.99, children 0.01, 5.0ms\n",
      "Speed: 6.0ms preprocess, 5.0ms inference, 0.0ms postprocess per image at shape (1, 3, 224, 224)\n",
      "\n",
      "image 1/1 D:\\Dados\\Weverson\\Yolo Jhonson\\ChildNotChild\\CHILDADULTDATASET\\fold_5\\test\\children\\133_jpg.rf.d22928c1599d4aab46ba8406170307c2.jpg: 224x224 children 1.00, adults 0.00, 7.0ms\n",
      "Speed: 6.0ms preprocess, 7.0ms inference, 0.0ms postprocess per image at shape (1, 3, 224, 224)\n",
      "\n",
      "image 1/1 D:\\Dados\\Weverson\\Yolo Jhonson\\ChildNotChild\\CHILDADULTDATASET\\fold_5\\test\\children\\137_jpg.rf.c9839611f47893722e24314ef5a66ebc.jpg: 224x224 children 1.00, adults 0.00, 5.0ms\n",
      "Speed: 5.9ms preprocess, 5.0ms inference, 0.0ms postprocess per image at shape (1, 3, 224, 224)\n",
      "\n",
      "image 1/1 D:\\Dados\\Weverson\\Yolo Jhonson\\ChildNotChild\\CHILDADULTDATASET\\fold_5\\test\\children\\140_jpg.rf.ed65840c6677783c9ce108b77072be42.jpg: 224x224 children 1.00, adults 0.00, 7.0ms\n",
      "Speed: 6.0ms preprocess, 7.0ms inference, 0.0ms postprocess per image at shape (1, 3, 224, 224)\n",
      "\n",
      "image 1/1 D:\\Dados\\Weverson\\Yolo Jhonson\\ChildNotChild\\CHILDADULTDATASET\\fold_5\\test\\children\\147_jpg.rf.8317d0e49786a639162be73dd814b412.jpg: 224x224 children 0.80, adults 0.20, 5.0ms\n",
      "Speed: 6.0ms preprocess, 5.0ms inference, 0.0ms postprocess per image at shape (1, 3, 224, 224)\n",
      "\n",
      "image 1/1 D:\\Dados\\Weverson\\Yolo Jhonson\\ChildNotChild\\CHILDADULTDATASET\\fold_5\\test\\children\\150_jpg.rf.b521252ca9d690db0410f6870f8a1f39.jpg: 224x224 children 1.00, adults 0.00, 7.0ms\n",
      "Speed: 6.0ms preprocess, 7.0ms inference, 0.0ms postprocess per image at shape (1, 3, 224, 224)\n",
      "\n",
      "image 1/1 D:\\Dados\\Weverson\\Yolo Jhonson\\ChildNotChild\\CHILDADULTDATASET\\fold_5\\test\\children\\158_jpg.rf.0bf76f79072b451906dd385debae6283.jpg: 224x224 adults 0.96, children 0.04, 5.0ms\n",
      "Speed: 6.0ms preprocess, 5.0ms inference, 0.0ms postprocess per image at shape (1, 3, 224, 224)\n",
      "\n",
      "image 1/1 D:\\Dados\\Weverson\\Yolo Jhonson\\ChildNotChild\\CHILDADULTDATASET\\fold_5\\test\\children\\15_jpg.rf.7a20a8397ad366fcc4c30a09126e9e91.jpg: 224x224 children 1.00, adults 0.00, 7.0ms\n",
      "Speed: 6.0ms preprocess, 7.0ms inference, 0.0ms postprocess per image at shape (1, 3, 224, 224)\n",
      "\n",
      "image 1/1 D:\\Dados\\Weverson\\Yolo Jhonson\\ChildNotChild\\CHILDADULTDATASET\\fold_5\\test\\children\\16_jpg.rf.4134d55bb41b278d180e0ddc24f6cccf.jpg: 224x224 adults 0.95, children 0.05, 4.0ms\n",
      "Speed: 6.0ms preprocess, 4.0ms inference, 0.0ms postprocess per image at shape (1, 3, 224, 224)\n",
      "\n",
      "image 1/1 D:\\Dados\\Weverson\\Yolo Jhonson\\ChildNotChild\\CHILDADULTDATASET\\fold_5\\test\\children\\172_jpg.rf.7d0cd66e4865f2438fac44e9010b2945.jpg: 224x224 children 1.00, adults 0.00, 5.0ms\n",
      "Speed: 6.0ms preprocess, 5.0ms inference, 0.0ms postprocess per image at shape (1, 3, 224, 224)\n",
      "\n",
      "image 1/1 D:\\Dados\\Weverson\\Yolo Jhonson\\ChildNotChild\\CHILDADULTDATASET\\fold_5\\test\\children\\173_jpg.rf.155b8b3240467763de6bfb69cf571db9.jpg: 224x224 children 1.00, adults 0.00, 6.0ms\n",
      "Speed: 10.0ms preprocess, 6.0ms inference, 0.0ms postprocess per image at shape (1, 3, 224, 224)\n",
      "\n",
      "image 1/1 D:\\Dados\\Weverson\\Yolo Jhonson\\ChildNotChild\\CHILDADULTDATASET\\fold_5\\test\\children\\189_jpg.rf.e40ad34ef216fed95fca516ceb0375e3.jpg: 224x224 children 1.00, adults 0.00, 5.0ms\n",
      "Speed: 6.0ms preprocess, 5.0ms inference, 0.0ms postprocess per image at shape (1, 3, 224, 224)\n",
      "\n",
      "image 1/1 D:\\Dados\\Weverson\\Yolo Jhonson\\ChildNotChild\\CHILDADULTDATASET\\fold_5\\test\\children\\18_jpg.rf.5099cca4a4316168bf9aae3dc5997302.jpg: 224x224 children 0.95, adults 0.05, 7.0ms\n",
      "Speed: 5.0ms preprocess, 7.0ms inference, 0.0ms postprocess per image at shape (1, 3, 224, 224)\n",
      "\n",
      "image 1/1 D:\\Dados\\Weverson\\Yolo Jhonson\\ChildNotChild\\CHILDADULTDATASET\\fold_5\\test\\children\\191_jpg.rf.d7b88fa89e3dd856ee49625f2b83c0a2.jpg: 224x224 children 0.99, adults 0.01, 4.0ms\n",
      "Speed: 6.0ms preprocess, 4.0ms inference, 0.0ms postprocess per image at shape (1, 3, 224, 224)\n",
      "\n",
      "image 1/1 D:\\Dados\\Weverson\\Yolo Jhonson\\ChildNotChild\\CHILDADULTDATASET\\fold_5\\test\\children\\192_jpg.rf.0d374dcc78bb5bd7407c28bc77f4660c.jpg: 224x224 adults 0.97, children 0.03, 4.0ms\n",
      "Speed: 6.0ms preprocess, 4.0ms inference, 0.0ms postprocess per image at shape (1, 3, 224, 224)\n",
      "\n",
      "image 1/1 D:\\Dados\\Weverson\\Yolo Jhonson\\ChildNotChild\\CHILDADULTDATASET\\fold_5\\test\\children\\196_jpg.rf.0e1ef000b5a1d4094b37d02189128dfe.jpg: 224x224 adults 0.51, children 0.49, 8.0ms\n",
      "Speed: 5.0ms preprocess, 8.0ms inference, 0.0ms postprocess per image at shape (1, 3, 224, 224)\n",
      "\n",
      "image 1/1 D:\\Dados\\Weverson\\Yolo Jhonson\\ChildNotChild\\CHILDADULTDATASET\\fold_5\\test\\children\\197_jpg.rf.3355f57ff25c4b156d124572121f01a1.jpg: 224x224 children 1.00, adults 0.00, 5.0ms\n",
      "Speed: 6.0ms preprocess, 5.0ms inference, 0.0ms postprocess per image at shape (1, 3, 224, 224)\n",
      "\n",
      "image 1/1 D:\\Dados\\Weverson\\Yolo Jhonson\\ChildNotChild\\CHILDADULTDATASET\\fold_5\\test\\children\\198_jpg.rf.16fce0da3450992600515575530ac516.jpg: 224x224 children 1.00, adults 0.00, 8.0ms\n",
      "Speed: 5.0ms preprocess, 8.0ms inference, 0.0ms postprocess per image at shape (1, 3, 224, 224)\n",
      "\n",
      "image 1/1 D:\\Dados\\Weverson\\Yolo Jhonson\\ChildNotChild\\CHILDADULTDATASET\\fold_5\\test\\children\\201_jpg.rf.7fb3829bc0bb30e1a4c0778b28d41863.jpg: 224x224 children 1.00, adults 0.00, 4.0ms\n",
      "Speed: 6.0ms preprocess, 4.0ms inference, 0.0ms postprocess per image at shape (1, 3, 224, 224)\n",
      "\n",
      "image 1/1 D:\\Dados\\Weverson\\Yolo Jhonson\\ChildNotChild\\CHILDADULTDATASET\\fold_5\\test\\children\\203_jpg.rf.044c98851c09a2fc32ab6ef22b97e7de.jpg: 224x224 children 0.91, adults 0.09, 4.0ms\n",
      "Speed: 6.0ms preprocess, 4.0ms inference, 0.0ms postprocess per image at shape (1, 3, 224, 224)\n",
      "\n",
      "image 1/1 D:\\Dados\\Weverson\\Yolo Jhonson\\ChildNotChild\\CHILDADULTDATASET\\fold_5\\test\\children\\213_jpg.rf.8d8bb3b37ddbdaa2ddec50a5d7e02602.jpg: 224x224 children 0.99, adults 0.01, 7.0ms\n",
      "Speed: 5.0ms preprocess, 7.0ms inference, 1.0ms postprocess per image at shape (1, 3, 224, 224)\n",
      "\n",
      "image 1/1 D:\\Dados\\Weverson\\Yolo Jhonson\\ChildNotChild\\CHILDADULTDATASET\\fold_5\\test\\children\\214_jpg.rf.04ff40b7d06c3bc9b20f6a145deff52e.jpg: 224x224 children 0.90, adults 0.10, 4.0ms\n",
      "Speed: 6.0ms preprocess, 4.0ms inference, 0.0ms postprocess per image at shape (1, 3, 224, 224)\n",
      "\n",
      "image 1/1 D:\\Dados\\Weverson\\Yolo Jhonson\\ChildNotChild\\CHILDADULTDATASET\\fold_5\\test\\children\\216_jpg.rf.f5f4775f17a90899aa5db59c8676e8b1.jpg: 224x224 children 0.77, adults 0.23, 5.0ms\n",
      "Speed: 6.0ms preprocess, 5.0ms inference, 0.0ms postprocess per image at shape (1, 3, 224, 224)\n",
      "\n",
      "image 1/1 D:\\Dados\\Weverson\\Yolo Jhonson\\ChildNotChild\\CHILDADULTDATASET\\fold_5\\test\\children\\221_jpg.rf.4a4e71389849ad219eeaa5508b50b5d8.jpg: 224x224 adults 0.68, children 0.32, 5.0ms\n",
      "Speed: 5.0ms preprocess, 5.0ms inference, 0.0ms postprocess per image at shape (1, 3, 224, 224)\n",
      "\n",
      "image 1/1 D:\\Dados\\Weverson\\Yolo Jhonson\\ChildNotChild\\CHILDADULTDATASET\\fold_5\\test\\children\\224_jpg.rf.b3884a4d52c92b7b46b06f41c17e12c6.jpg: 224x224 children 1.00, adults 0.00, 4.0ms\n",
      "Speed: 6.0ms preprocess, 4.0ms inference, 0.0ms postprocess per image at shape (1, 3, 224, 224)\n",
      "\n",
      "image 1/1 D:\\Dados\\Weverson\\Yolo Jhonson\\ChildNotChild\\CHILDADULTDATASET\\fold_5\\test\\children\\226_jpg.rf.12f01fe9eb7d2b58a82d0d1fd998ec35.jpg: 224x224 children 1.00, adults 0.00, 9.0ms\n",
      "Speed: 26.0ms preprocess, 9.0ms inference, 1.0ms postprocess per image at shape (1, 3, 224, 224)\n",
      "\n",
      "image 1/1 D:\\Dados\\Weverson\\Yolo Jhonson\\ChildNotChild\\CHILDADULTDATASET\\fold_5\\test\\children\\235_jpg.rf.0eb9b0261087ef61a4598b830bda48b4.jpg: 224x224 children 0.89, adults 0.11, 5.0ms\n",
      "Speed: 6.0ms preprocess, 5.0ms inference, 0.0ms postprocess per image at shape (1, 3, 224, 224)\n",
      "\n",
      "image 1/1 D:\\Dados\\Weverson\\Yolo Jhonson\\ChildNotChild\\CHILDADULTDATASET\\fold_5\\test\\children\\236_jpg.rf.1c56cdb7dc5bebecfaeafeec76305465.jpg: 224x224 children 1.00, adults 0.00, 8.0ms\n",
      "Speed: 6.0ms preprocess, 8.0ms inference, 0.0ms postprocess per image at shape (1, 3, 224, 224)\n",
      "\n",
      "image 1/1 D:\\Dados\\Weverson\\Yolo Jhonson\\ChildNotChild\\CHILDADULTDATASET\\fold_5\\test\\children\\238_jpg.rf.9bec086e74fc19f60611c0b7325d84e2.jpg: 224x224 children 1.00, adults 0.00, 4.0ms\n",
      "Speed: 6.0ms preprocess, 4.0ms inference, 0.0ms postprocess per image at shape (1, 3, 224, 224)\n",
      "\n",
      "image 1/1 D:\\Dados\\Weverson\\Yolo Jhonson\\ChildNotChild\\CHILDADULTDATASET\\fold_5\\test\\children\\248_jpg.rf.05b81ff3d948af36d92e5ea7dc5b6162.jpg: 224x224 children 0.99, adults 0.01, 7.0ms\n",
      "Speed: 5.0ms preprocess, 7.0ms inference, 0.0ms postprocess per image at shape (1, 3, 224, 224)\n",
      "\n",
      "image 1/1 D:\\Dados\\Weverson\\Yolo Jhonson\\ChildNotChild\\CHILDADULTDATASET\\fold_5\\test\\children\\24_jpg.rf.bfd8d3167787cf046e7b936cdf942785.jpg: 224x224 children 1.00, adults 0.00, 5.0ms\n",
      "Speed: 5.0ms preprocess, 5.0ms inference, 0.0ms postprocess per image at shape (1, 3, 224, 224)\n",
      "\n",
      "image 1/1 D:\\Dados\\Weverson\\Yolo Jhonson\\ChildNotChild\\CHILDADULTDATASET\\fold_5\\test\\children\\256_jpg.rf.5efe57ccb9a6d003673a69aeb0d49f99.jpg: 224x224 adults 0.65, children 0.35, 4.0ms\n",
      "Speed: 6.0ms preprocess, 4.0ms inference, 0.0ms postprocess per image at shape (1, 3, 224, 224)\n",
      "\n",
      "image 1/1 D:\\Dados\\Weverson\\Yolo Jhonson\\ChildNotChild\\CHILDADULTDATASET\\fold_5\\test\\children\\265_jpg.rf.0170d6abe6cc7c4ac08c5193d50c5156.jpg: 224x224 children 1.00, adults 0.00, 8.0ms\n",
      "Speed: 6.0ms preprocess, 8.0ms inference, 0.0ms postprocess per image at shape (1, 3, 224, 224)\n",
      "\n",
      "image 1/1 D:\\Dados\\Weverson\\Yolo Jhonson\\ChildNotChild\\CHILDADULTDATASET\\fold_5\\test\\children\\266_jpg.rf.33f7e083ac83bc0dd40166f0e280109e.jpg: 224x224 children 1.00, adults 0.00, 5.0ms\n",
      "Speed: 6.0ms preprocess, 5.0ms inference, 0.0ms postprocess per image at shape (1, 3, 224, 224)\n",
      "\n",
      "image 1/1 D:\\Dados\\Weverson\\Yolo Jhonson\\ChildNotChild\\CHILDADULTDATASET\\fold_5\\test\\children\\274_jpg.rf.e11d48841fbad9140206def1db79511f.jpg: 224x224 adults 1.00, children 0.00, 8.0ms\n",
      "Speed: 6.0ms preprocess, 8.0ms inference, 0.0ms postprocess per image at shape (1, 3, 224, 224)\n",
      "\n",
      "image 1/1 D:\\Dados\\Weverson\\Yolo Jhonson\\ChildNotChild\\CHILDADULTDATASET\\fold_5\\test\\children\\278_jpg.rf.2562f0042f0242d4801c575d9103229f.jpg: 224x224 children 1.00, adults 0.00, 4.0ms\n",
      "Speed: 6.0ms preprocess, 4.0ms inference, 1.0ms postprocess per image at shape (1, 3, 224, 224)\n",
      "\n",
      "image 1/1 D:\\Dados\\Weverson\\Yolo Jhonson\\ChildNotChild\\CHILDADULTDATASET\\fold_5\\test\\children\\279_jpg.rf.9ad43dbc88534ab3258910d1c27dde37.jpg: 224x224 adults 0.86, children 0.14, 9.0ms\n",
      "Speed: 5.0ms preprocess, 9.0ms inference, 0.0ms postprocess per image at shape (1, 3, 224, 224)\n",
      "\n",
      "image 1/1 D:\\Dados\\Weverson\\Yolo Jhonson\\ChildNotChild\\CHILDADULTDATASET\\fold_5\\test\\children\\285_jpg.rf.418d747ce2e9e2782e1e28b647d73836.jpg: 224x224 adults 0.54, children 0.46, 4.0ms\n",
      "Speed: 6.0ms preprocess, 4.0ms inference, 0.0ms postprocess per image at shape (1, 3, 224, 224)\n",
      "\n",
      "image 1/1 D:\\Dados\\Weverson\\Yolo Jhonson\\ChildNotChild\\CHILDADULTDATASET\\fold_5\\test\\children\\289_jpg.rf.a55875bac869264d847ef07b132f0c61.jpg: 224x224 children 0.99, adults 0.01, 8.0ms\n",
      "Speed: 6.0ms preprocess, 8.0ms inference, 0.0ms postprocess per image at shape (1, 3, 224, 224)\n",
      "\n",
      "image 1/1 D:\\Dados\\Weverson\\Yolo Jhonson\\ChildNotChild\\CHILDADULTDATASET\\fold_5\\test\\children\\294_jpg.rf.7cda7d771c7419459de59bc0779ca2be.jpg: 224x224 children 1.00, adults 0.00, 7.0ms\n",
      "Speed: 33.0ms preprocess, 7.0ms inference, 0.0ms postprocess per image at shape (1, 3, 224, 224)\n",
      "\n",
      "image 1/1 D:\\Dados\\Weverson\\Yolo Jhonson\\ChildNotChild\\CHILDADULTDATASET\\fold_5\\test\\children\\296_jpg.rf.59ff6ff59380fa70728e2826ba97f8e9.jpg: 224x224 children 1.00, adults 0.00, 10.0ms\n",
      "Speed: 8.0ms preprocess, 10.0ms inference, 0.0ms postprocess per image at shape (1, 3, 224, 224)\n",
      "\n",
      "image 1/1 D:\\Dados\\Weverson\\Yolo Jhonson\\ChildNotChild\\CHILDADULTDATASET\\fold_5\\test\\children\\310_jpg.rf.50e687ac968444fc656458040e341abc.jpg: 224x224 children 1.00, adults 0.00, 8.0ms\n",
      "Speed: 5.0ms preprocess, 8.0ms inference, 0.0ms postprocess per image at shape (1, 3, 224, 224)\n",
      "\n",
      "image 1/1 D:\\Dados\\Weverson\\Yolo Jhonson\\ChildNotChild\\CHILDADULTDATASET\\fold_5\\test\\children\\314_jpg.rf.92598fb2358599fdcddd9a4e0fc49ddb.jpg: 224x224 children 1.00, adults 0.00, 4.0ms\n",
      "Speed: 6.0ms preprocess, 4.0ms inference, 0.0ms postprocess per image at shape (1, 3, 224, 224)\n",
      "\n",
      "image 1/1 D:\\Dados\\Weverson\\Yolo Jhonson\\ChildNotChild\\CHILDADULTDATASET\\fold_5\\test\\children\\316_jpg.rf.4222f2cdb3ef244796920db426109b4c.jpg: 224x224 adults 0.72, children 0.28, 4.0ms\n",
      "Speed: 5.0ms preprocess, 4.0ms inference, 0.0ms postprocess per image at shape (1, 3, 224, 224)\n",
      "\n",
      "image 1/1 D:\\Dados\\Weverson\\Yolo Jhonson\\ChildNotChild\\CHILDADULTDATASET\\fold_5\\test\\children\\318_jpg.rf.a67c2e95f1b5dcb7d38c178dea30da71.jpg: 224x224 children 1.00, adults 0.00, 8.0ms\n",
      "Speed: 5.0ms preprocess, 8.0ms inference, 0.0ms postprocess per image at shape (1, 3, 224, 224)\n",
      "\n",
      "image 1/1 D:\\Dados\\Weverson\\Yolo Jhonson\\ChildNotChild\\CHILDADULTDATASET\\fold_5\\test\\children\\325_jpg.rf.898a490742b972fe13fcc2bf73d9c7a6.jpg: 224x224 children 1.00, adults 0.00, 5.0ms\n",
      "Speed: 7.0ms preprocess, 5.0ms inference, 0.0ms postprocess per image at shape (1, 3, 224, 224)\n",
      "\n",
      "image 1/1 D:\\Dados\\Weverson\\Yolo Jhonson\\ChildNotChild\\CHILDADULTDATASET\\fold_5\\test\\children\\327_jpg.rf.42ece5f95335a9b7a44bd1a09c2f632c.jpg: 224x224 children 1.00, adults 0.00, 7.0ms\n",
      "Speed: 5.0ms preprocess, 7.0ms inference, 0.0ms postprocess per image at shape (1, 3, 224, 224)\n",
      "\n",
      "image 1/1 D:\\Dados\\Weverson\\Yolo Jhonson\\ChildNotChild\\CHILDADULTDATASET\\fold_5\\test\\children\\348_jpg.rf.cc22bdc1f93ac3c81414aa130d4d2c1b.jpg: 224x224 children 1.00, adults 0.00, 6.0ms\n",
      "Speed: 6.0ms preprocess, 6.0ms inference, 0.0ms postprocess per image at shape (1, 3, 224, 224)\n",
      "\n",
      "image 1/1 D:\\Dados\\Weverson\\Yolo Jhonson\\ChildNotChild\\CHILDADULTDATASET\\fold_5\\test\\children\\34_jpg.rf.ed6e1a6803431396394d78eeefe87e06.jpg: 224x224 children 1.00, adults 0.00, 8.0ms\n",
      "Speed: 5.0ms preprocess, 8.0ms inference, 0.0ms postprocess per image at shape (1, 3, 224, 224)\n",
      "\n",
      "image 1/1 D:\\Dados\\Weverson\\Yolo Jhonson\\ChildNotChild\\CHILDADULTDATASET\\fold_5\\test\\children\\351_jpg.rf.3308a1814f8b10df2acceb309e74f64f.jpg: 224x224 children 1.00, adults 0.00, 4.0ms\n",
      "Speed: 7.0ms preprocess, 4.0ms inference, 0.0ms postprocess per image at shape (1, 3, 224, 224)\n",
      "\n",
      "image 1/1 D:\\Dados\\Weverson\\Yolo Jhonson\\ChildNotChild\\CHILDADULTDATASET\\fold_5\\test\\children\\357_jpg.rf.9bd923b89792db87f5817a7a8b8656a4.jpg: 224x224 children 1.00, adults 0.00, 7.0ms\n",
      "Speed: 6.0ms preprocess, 7.0ms inference, 0.0ms postprocess per image at shape (1, 3, 224, 224)\n",
      "\n",
      "image 1/1 D:\\Dados\\Weverson\\Yolo Jhonson\\ChildNotChild\\CHILDADULTDATASET\\fold_5\\test\\children\\35_jpg.rf.17130061625791ffb8a2f6d15b29369c.jpg: 224x224 children 0.99, adults 0.01, 4.0ms\n",
      "Speed: 6.0ms preprocess, 4.0ms inference, 0.0ms postprocess per image at shape (1, 3, 224, 224)\n",
      "\n",
      "image 1/1 D:\\Dados\\Weverson\\Yolo Jhonson\\ChildNotChild\\CHILDADULTDATASET\\fold_5\\test\\children\\369_jpg.rf.9be96fb04862057e6e26e4868afdd3a3.jpg: 224x224 children 1.00, adults 0.00, 5.0ms\n",
      "Speed: 6.0ms preprocess, 5.0ms inference, 0.0ms postprocess per image at shape (1, 3, 224, 224)\n",
      "\n",
      "image 1/1 D:\\Dados\\Weverson\\Yolo Jhonson\\ChildNotChild\\CHILDADULTDATASET\\fold_5\\test\\children\\372_jpg.rf.71ac038d8699c09f65e62556045778f2.jpg: 224x224 children 1.00, adults 0.00, 4.0ms\n",
      "Speed: 6.0ms preprocess, 4.0ms inference, 0.0ms postprocess per image at shape (1, 3, 224, 224)\n",
      "\n",
      "image 1/1 D:\\Dados\\Weverson\\Yolo Jhonson\\ChildNotChild\\CHILDADULTDATASET\\fold_5\\test\\children\\373_jpg.rf.21f5f9180e57151707fca8648de17936.jpg: 224x224 children 1.00, adults 0.00, 4.0ms\n",
      "Speed: 6.0ms preprocess, 4.0ms inference, 1.0ms postprocess per image at shape (1, 3, 224, 224)\n",
      "\n",
      "image 1/1 D:\\Dados\\Weverson\\Yolo Jhonson\\ChildNotChild\\CHILDADULTDATASET\\fold_5\\test\\children\\374_jpg.rf.4a7847a9d2d1edc02f28cd8f9af31e1d.jpg: 224x224 adults 0.98, children 0.02, 7.0ms\n",
      "Speed: 6.0ms preprocess, 7.0ms inference, 0.0ms postprocess per image at shape (1, 3, 224, 224)\n",
      "\n",
      "image 1/1 D:\\Dados\\Weverson\\Yolo Jhonson\\ChildNotChild\\CHILDADULTDATASET\\fold_5\\test\\children\\389_jpg.rf.f163934bd8f1273ee63143509db914c5.jpg: 224x224 children 0.95, adults 0.05, 4.0ms\n",
      "Speed: 7.0ms preprocess, 4.0ms inference, 0.0ms postprocess per image at shape (1, 3, 224, 224)\n",
      "\n",
      "image 1/1 D:\\Dados\\Weverson\\Yolo Jhonson\\ChildNotChild\\CHILDADULTDATASET\\fold_5\\test\\children\\393_jpg.rf.ae3276d08aec7bacd4c4f0e7accfb809.jpg: 224x224 children 1.00, adults 0.00, 4.0ms\n",
      "Speed: 6.0ms preprocess, 4.0ms inference, 0.0ms postprocess per image at shape (1, 3, 224, 224)\n",
      "\n",
      "image 1/1 D:\\Dados\\Weverson\\Yolo Jhonson\\ChildNotChild\\CHILDADULTDATASET\\fold_5\\test\\children\\398_jpg.rf.249abe9c1546d3112744eaba20a12ce3.jpg: 224x224 children 0.97, adults 0.03, 5.0ms\n",
      "Speed: 10.0ms preprocess, 5.0ms inference, 0.0ms postprocess per image at shape (1, 3, 224, 224)\n",
      "\n",
      "image 1/1 D:\\Dados\\Weverson\\Yolo Jhonson\\ChildNotChild\\CHILDADULTDATASET\\fold_5\\test\\children\\41_jpg.rf.eb1271a438a15db582186a1d4cd96aec.jpg: 224x224 children 1.00, adults 0.00, 6.0ms\n",
      "Speed: 6.0ms preprocess, 6.0ms inference, 0.0ms postprocess per image at shape (1, 3, 224, 224)\n",
      "\n",
      "image 1/1 D:\\Dados\\Weverson\\Yolo Jhonson\\ChildNotChild\\CHILDADULTDATASET\\fold_5\\test\\children\\42_jpg.rf.6fb4a27dcd545d09206ccdc592f742a0.jpg: 224x224 children 1.00, adults 0.00, 4.0ms\n",
      "Speed: 6.0ms preprocess, 4.0ms inference, 0.0ms postprocess per image at shape (1, 3, 224, 224)\n",
      "\n",
      "image 1/1 D:\\Dados\\Weverson\\Yolo Jhonson\\ChildNotChild\\CHILDADULTDATASET\\fold_5\\test\\children\\43_jpg.rf.b1cf72b70dc5bfe5380566cb1336a875.jpg: 224x224 children 0.81, adults 0.19, 4.0ms\n",
      "Speed: 5.0ms preprocess, 4.0ms inference, 0.0ms postprocess per image at shape (1, 3, 224, 224)\n",
      "\n",
      "image 1/1 D:\\Dados\\Weverson\\Yolo Jhonson\\ChildNotChild\\CHILDADULTDATASET\\fold_5\\test\\children\\49_jpg.rf.beee3ab2e16926fd5d011cd98a943074.jpg: 224x224 children 0.96, adults 0.04, 6.0ms\n",
      "Speed: 6.0ms preprocess, 6.0ms inference, 0.0ms postprocess per image at shape (1, 3, 224, 224)\n",
      "\n",
      "image 1/1 D:\\Dados\\Weverson\\Yolo Jhonson\\ChildNotChild\\CHILDADULTDATASET\\fold_5\\test\\children\\53_jpg.rf.fb6751fda1295d0eb993b2f69555d3ed.jpg: 224x224 adults 1.00, children 0.00, 4.0ms\n",
      "Speed: 5.0ms preprocess, 4.0ms inference, 0.0ms postprocess per image at shape (1, 3, 224, 224)\n",
      "\n",
      "image 1/1 D:\\Dados\\Weverson\\Yolo Jhonson\\ChildNotChild\\CHILDADULTDATASET\\fold_5\\test\\children\\55_jpg.rf.d39cc819beda4e64c87b6bf175f37238.jpg: 224x224 children 1.00, adults 0.00, 4.0ms\n",
      "Speed: 6.0ms preprocess, 4.0ms inference, 0.0ms postprocess per image at shape (1, 3, 224, 224)\n",
      "\n",
      "image 1/1 D:\\Dados\\Weverson\\Yolo Jhonson\\ChildNotChild\\CHILDADULTDATASET\\fold_5\\test\\children\\68_jpg.rf.a48407a9b9e437994d7d0b95e53bbaf4.jpg: 224x224 children 0.99, adults 0.01, 8.0ms\n",
      "Speed: 5.0ms preprocess, 8.0ms inference, 0.0ms postprocess per image at shape (1, 3, 224, 224)\n",
      "\n",
      "image 1/1 D:\\Dados\\Weverson\\Yolo Jhonson\\ChildNotChild\\CHILDADULTDATASET\\fold_5\\test\\children\\69_jpg.rf.de345e499b82941d11848bab56ca172c.jpg: 224x224 children 1.00, adults 0.00, 4.0ms\n",
      "Speed: 5.0ms preprocess, 4.0ms inference, 0.0ms postprocess per image at shape (1, 3, 224, 224)\n",
      "\n",
      "image 1/1 D:\\Dados\\Weverson\\Yolo Jhonson\\ChildNotChild\\CHILDADULTDATASET\\fold_5\\test\\children\\72_jpg.rf.7cc9016cbbaa5a9ee338e96def5ef150.jpg: 224x224 children 1.00, adults 0.00, 7.0ms\n",
      "Speed: 6.0ms preprocess, 7.0ms inference, 0.0ms postprocess per image at shape (1, 3, 224, 224)\n",
      "\n",
      "image 1/1 D:\\Dados\\Weverson\\Yolo Jhonson\\ChildNotChild\\CHILDADULTDATASET\\fold_5\\test\\children\\85_jpg.rf.1ee17821f2419d6e6b13fc9a92618b6e.jpg: 224x224 children 1.00, adults 0.00, 4.0ms\n",
      "Speed: 4.8ms preprocess, 4.0ms inference, 0.0ms postprocess per image at shape (1, 3, 224, 224)\n",
      "\n",
      "image 1/1 D:\\Dados\\Weverson\\Yolo Jhonson\\ChildNotChild\\CHILDADULTDATASET\\fold_5\\test\\children\\87_jpg.rf.70688c0eb376eac85d310b764da2fa70.jpg: 224x224 children 1.00, adults 0.00, 4.0ms\n",
      "Speed: 5.0ms preprocess, 4.0ms inference, 0.0ms postprocess per image at shape (1, 3, 224, 224)\n",
      "\n",
      "image 1/1 D:\\Dados\\Weverson\\Yolo Jhonson\\ChildNotChild\\CHILDADULTDATASET\\fold_5\\test\\children\\88_jpg.rf.b6e420970fbc7625d02325d1b1d78732.jpg: 224x224 children 1.00, adults 0.00, 9.0ms\n",
      "Speed: 5.0ms preprocess, 9.0ms inference, 0.0ms postprocess per image at shape (1, 3, 224, 224)\n",
      "\n",
      "image 1/1 D:\\Dados\\Weverson\\Yolo Jhonson\\ChildNotChild\\CHILDADULTDATASET\\fold_5\\test\\children\\89_jpg.rf.b840f233944606804bd7cc25cc6af4ba.jpg: 224x224 adults 0.93, children 0.07, 4.0ms\n",
      "Speed: 6.0ms preprocess, 4.0ms inference, 0.0ms postprocess per image at shape (1, 3, 224, 224)\n",
      "\n",
      "image 1/1 D:\\Dados\\Weverson\\Yolo Jhonson\\ChildNotChild\\CHILDADULTDATASET\\fold_5\\test\\children\\93_jpg.rf.1e135420849db796f3e6038f07f3dbd3.jpg: 224x224 children 0.99, adults 0.01, 7.0ms\n",
      "Speed: 6.0ms preprocess, 7.0ms inference, 0.0ms postprocess per image at shape (1, 3, 224, 224)\n"
     ]
    }
   ],
   "source": [
    "import os\n",
    "from sklearn.metrics import accuracy_score, precision_score, recall_score, f1_score\n",
    "\n",
    "folder_path = \"D:/Dados/Weverson/Yolo Jhonson/ChildNotChild/CHILDADULTDATASET/fold_5/test\"\n",
    "classes = [\"adults\", \"children\"]\n",
    "label_dict = {'adults': 0, 'children': 1}\n",
    "\n",
    "y_true = []\n",
    "y_pred = []\n",
    "\n",
    "for folder in classes:\n",
    "    filenames = os.listdir(folder_path + '/' + folder)\n",
    "    for filename in filenames:\n",
    "        file_path = os.path.join(folder_path + '/' + folder, filename)\n",
    "        img_pred = model.predict(file_path)        \n",
    "        y_true.append(label_dict[folder])\n",
    "        y_pred.append(img_pred[0].probs.top1)\n",
    "\n",
    "\n",
    "accuracy = accuracy_score(y_true, y_pred)\n",
    "precision = precision_score(y_true, y_pred, average='macro')\n",
    "recall = recall_score(y_true, y_pred, average='macro')\n",
    "f1 = f1_score(y_true, y_pred, average='macro')\n",
    "\n",
    "with open(f'D:/Dados/Weverson/Yolo Jhonson/ChildNotChild/CHILDADULTDATASET/fold_5/yolo_test_results.txt', 'w') as f:\n",
    "    f.write(f\"Accuracy: {accuracy}\\n\")\n",
    "    f.write(f\"Precision: {precision}\\n\")\n",
    "    f.write(f\"Recall: {recall}\\n\")\n",
    "    f.write(f\"F1 Score: {f1}\\n\")"
   ]
  },
  {
   "cell_type": "code",
   "execution_count": 9,
   "metadata": {},
   "outputs": [
    {
     "ename": "NameError",
     "evalue": "name 'wrfsdfscsdfswfsfsfsfs' is not defined",
     "output_type": "error",
     "traceback": [
      "\u001b[1;31m---------------------------------------------------------------------------\u001b[0m",
      "\u001b[1;31mNameError\u001b[0m                                 Traceback (most recent call last)",
      "Cell \u001b[1;32mIn[9], line 1\u001b[0m\n\u001b[1;32m----> 1\u001b[0m \u001b[43mwrfsdfscsdfswfsfsfsfs\u001b[49m\n",
      "\u001b[1;31mNameError\u001b[0m: name 'wrfsdfscsdfswfsfsfsfs' is not defined"
     ]
    }
   ],
   "source": [
    "wrfsdfscsdfswfsfsfsfs"
   ]
  },
  {
   "cell_type": "code",
   "execution_count": 7,
   "metadata": {},
   "outputs": [
    {
     "name": "stdout",
     "output_type": "stream",
     "text": [
      "Accuracy: 0.890625\n",
      "Precision: 0.9310344827586207\n",
      "Recall: 0.84375\n",
      "F1 Score: 0.8852459016393444\n"
     ]
    }
   ],
   "source": [
    "from sklearn.metrics import confusion_matrix\n",
    "import numpy as np\n",
    "\n",
    "def calculate_metrics(confusion_matrix):\n",
    "    # True Positives\n",
    "    TP = confusion_matrix[0][0]\n",
    "    # True Negatives\n",
    "    TN = confusion_matrix[1][1]\n",
    "    # False Positives\n",
    "    FP = confusion_matrix[0][1]\n",
    "    # False Negatives\n",
    "    FN = confusion_matrix[1][0]\n",
    "\n",
    "    # Calculate accuracy, precision, recall, and F1 score\n",
    "    accuracy = (TP + TN) / (TP + TN + FP + FN)\n",
    "    precision = TP / (TP + FP)\n",
    "    recall = TP / (TP + FN)\n",
    "    f1_score = 2 * (precision * recall) / (precision + recall)\n",
    "\n",
    "    return accuracy, precision, recall, f1_score\n",
    "\n",
    "# Example usage:\n",
    "confusion_mat = np.array([[54, 4], [10, 60]])\n",
    "accuracy, precision, recall, f1_score = calculate_metrics(confusion_mat)\n",
    "\n",
    "print(f\"Accuracy: {accuracy}\")\n",
    "print(f\"Precision: {precision}\")\n",
    "print(f\"Recall: {recall}\")\n",
    "print(f\"F1 Score: {f1_score}\")\n",
    "\n",
    "with open(f'D:/Dados/Weverson/Yolo Jhonson/ChildNotChild/CHILDADULTDATASET/fold_6/yolo_train_results.txt', 'w') as f:\n",
    "    f.write(f\"Accuracy: {accuracy}\\n\")\n",
    "    f.write(f\"Precision: {precision}\\n\")\n",
    "    f.write(f\"Recall: {recall}\\n\")\n",
    "    f.write(f\"F1 Score: {f1_score}\\n\")"
   ]
  },
  {
   "cell_type": "code",
   "execution_count": 8,
   "metadata": {},
   "outputs": [],
   "source": [
    "accuracy_list_test = [0.8375, 0.85625, 0.875, 0.8125, 0.8125]\n",
    "precision_list_test = [0.8377110694183865, 0.8563056727613689, 0.8759398496240601, 0.8132832080200502, 0.8126954346466542]\n",
    "recall_list_test = [0.8374999999999999, 0.85625, 0.875, 0.8125, 0.8125]\n",
    "f1_list_test = [0.8374746054070948, 0.8562443845462714, 0.8749218261413383, 0.8123827392120074, 0.8124706985466479]\n",
    "\n",
    "accuracy_list_train = [0.8984375, 0.921875, 0.8984375, 0.8671875, 0.890625]\n",
    "precision_list_train = [0.8695652173913043, 0.95, 0.8923076923076924, 0.8615384615384616, 0.9310344827586207]\n",
    "recall_list_train = [0.9375, 0.890625, 0.90625, 0.875, 0.84375]\n",
    "f1_list_train = [0.9022556390977444, 0.9193548387096774, 0.8992248062015504, 0.8682170542635659, 0.8852459016393444]\n",
    "\n",
    "with open(f'D:/Dados/Weverson/Yolo Jhonson/ChildNotChild/CHILDADULTDATASET/yolo_mean_test_results.txt', 'w') as f:\n",
    "    f.write(f\"Accuracy: {np.mean(accuracy_list_test)} +- {np.std(accuracy_list_test)}\\n\")\n",
    "    f.write(f\"Precision: {np.mean(precision_list_test)} +- {np.std(precision_list_test)}\\n\")\n",
    "    f.write(f\"Recall: {np.mean(recall_list_test)} +- {np.std(recall_list_test)}\\n\")\n",
    "    f.write(f\"F1 Score: {np.mean(f1_list_test)} +- {np.std(f1_list_test)}\\n\")\n",
    "\n",
    "with open(f'D:/Dados/Weverson/Yolo Jhonson/ChildNotChild/CHILDADULTDATASET/yolo_mean_train_results.txt', 'w') as f:\n",
    "    f.write(f\"Accuracy: {np.mean(accuracy_list_train)} +- {np.std(accuracy_list_train)}\\n\")\n",
    "    f.write(f\"Precision: {np.mean(precision_list_train)} +- {np.std(precision_list_train)}\\n\")\n",
    "    f.write(f\"Recall: {np.mean(recall_list_train)} +- {np.std(recall_list_train)}\\n\")\n",
    "    f.write(f\"F1 Score: {np.mean(f1_list_train)} +- {np.std(f1_list_train)}\\n\")"
   ]
  },
  {
   "cell_type": "code",
   "execution_count": null,
   "metadata": {},
   "outputs": [
    {
     "name": "stdout",
     "output_type": "stream",
     "text": [
      "\n",
      "image 1/1 D:\\Dados\\Weverson\\Yolo Jhonson\\ChildNotChild\\CHILDADULTDATASET\\fold_1\\test\\adults\\0_jpg.rf.2e261f3a3fd10d65ca7e6cf45d0eeecf.jpg: 224x224 adults 1.00, children 0.00, 20.0ms\n",
      "Speed: 8.0ms preprocess, 20.0ms inference, 0.0ms postprocess per image at shape (1, 3, 224, 224)\n"
     ]
    },
    {
     "data": {
      "text/plain": [
       "0"
      ]
     },
     "execution_count": 30,
     "metadata": {},
     "output_type": "execute_result"
    }
   ],
   "source": [
    "test_res = model.predict('D:/Dados/Weverson/Yolo Jhonson/ChildNotChild/CHILDADULTDATASET/fold_1/test/adults/0_jpg.rf.2e261f3a3fd10d65ca7e6cf45d0eeecf.jpg')\n",
    "test_res[0].probs.top1"
   ]
  }
 ],
 "metadata": {
  "kernelspec": {
   "display_name": "webisd",
   "language": "python",
   "name": "python3"
  },
  "language_info": {
   "codemirror_mode": {
    "name": "ipython",
    "version": 3
   },
   "file_extension": ".py",
   "mimetype": "text/x-python",
   "name": "python",
   "nbconvert_exporter": "python",
   "pygments_lexer": "ipython3",
   "version": "3.11.5"
  }
 },
 "nbformat": 4,
 "nbformat_minor": 2
}
