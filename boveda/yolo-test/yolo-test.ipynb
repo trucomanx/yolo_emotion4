{
 "cells": [
  {
   "cell_type": "code",
   "execution_count": 1,
   "metadata": {},
   "outputs": [],
   "source": [
    "from ultralytics import YOLO"
   ]
  },
  {
   "cell_type": "code",
   "execution_count": 2,
   "metadata": {},
   "outputs": [],
   "source": [
    "import os\n",
    "\n",
    "os.makedirs('output/models',exist_ok=True)"
   ]
  },
  {
   "cell_type": "markdown",
   "metadata": {},
   "source": [
    "# Deteção"
   ]
  },
  {
   "cell_type": "code",
   "execution_count": 3,
   "metadata": {},
   "outputs": [],
   "source": [
    "#https://docs.ultralytics.com/tasks/detect/#models\n",
    "model = YOLO('output/models/yolov8n.pt') # Download *.pt in output/models"
   ]
  },
  {
   "cell_type": "code",
   "execution_count": 4,
   "metadata": {},
   "outputs": [
    {
     "name": "stdout",
     "output_type": "stream",
     "text": [
      "\n",
      "image 1/1 /media/fernando/Expansion/CODE/PESQUISA/programs-tese/SYSTEM-TRAINING/yolo_emotion4/boveda/yolo-test/bus.jpg: 640x480 4 persons, 1 bus, 1 stop sign, 24.2ms\n",
      "Speed: 3.8ms preprocess, 24.2ms inference, 123.5ms postprocess per image at shape (1, 3, 640, 480)\n",
      "Results saved to \u001b[1mruns/detect/predict2\u001b[0m\n",
      "1 label saved to runs/detect/predict2/labels\n"
     ]
    }
   ],
   "source": [
    "results = model('bus.jpg',save=True,save_txt=True,save_conf=True);\n",
    "for result in results:\n",
    "    #boxes=result.boxes\n",
    "    result.save(filename='output/result-det.png')"
   ]
  },
  {
   "cell_type": "markdown",
   "metadata": {},
   "source": [
    "# Segmentação\n"
   ]
  },
  {
   "cell_type": "code",
   "execution_count": 5,
   "metadata": {},
   "outputs": [],
   "source": [
    "#https://docs.ultralytics.com/tasks/detect/#models\n",
    "model = YOLO('output/models/yolov8n-seg.pt') # Download *.pt in output/models"
   ]
  },
  {
   "cell_type": "code",
   "execution_count": 6,
   "metadata": {},
   "outputs": [
    {
     "name": "stdout",
     "output_type": "stream",
     "text": [
      "\n",
      "image 1/1 /media/fernando/Expansion/CODE/PESQUISA/programs-tese/SYSTEM-TRAINING/yolo_emotion4/boveda/yolo-test/bus.jpg: 640x480 4 persons, 1 bus, 1 skateboard, 21.2ms\n",
      "Speed: 2.4ms preprocess, 21.2ms inference, 6.3ms postprocess per image at shape (1, 3, 640, 480)\n",
      "Results saved to \u001b[1mruns/segment/predict\u001b[0m\n",
      "1 label saved to runs/segment/predict/labels\n"
     ]
    }
   ],
   "source": [
    "results = model('bus.jpg',save=True,save_txt=True,save_conf=True);\n",
    "for result in results:\n",
    "    #masks=result.masks\n",
    "    result.save(filename='output/result-seg.png')"
   ]
  },
  {
   "cell_type": "markdown",
   "metadata": {},
   "source": [
    "# Pose"
   ]
  },
  {
   "cell_type": "code",
   "execution_count": 7,
   "metadata": {},
   "outputs": [
    {
     "name": "stdout",
     "output_type": "stream",
     "text": [
      "Downloading https://github.com/ultralytics/assets/releases/download/v8.2.0/yolov8n-pose.pt to 'output/models/yolov8n-pose.pt'...\n"
     ]
    },
    {
     "data": {
      "application/vnd.jupyter.widget-view+json": {
       "model_id": "adcb543ea1ef40408325ff90fe94fe44",
       "version_major": 2,
       "version_minor": 0
      },
      "text/plain": [
       "  0%|          | 0.00/6.51M [00:00<?, ?B/s]"
      ]
     },
     "metadata": {},
     "output_type": "display_data"
    }
   ],
   "source": [
    "#https://docs.ultralytics.com/tasks/detect/#models\n",
    "model = YOLO('output/models/yolov8n-pose.pt') # Download *.pt in output/models"
   ]
  },
  {
   "cell_type": "code",
   "execution_count": 8,
   "metadata": {},
   "outputs": [
    {
     "name": "stdout",
     "output_type": "stream",
     "text": [
      "\n",
      "image 1/1 /media/fernando/Expansion/CODE/PESQUISA/programs-tese/SYSTEM-TRAINING/yolo_emotion4/boveda/yolo-test/bus.jpg: 640x480 4 persons, 17.2ms\n",
      "Speed: 2.1ms preprocess, 17.2ms inference, 3.6ms postprocess per image at shape (1, 3, 640, 480)\n",
      "Results saved to \u001b[1mruns/pose/predict\u001b[0m\n",
      "1 label saved to runs/pose/predict/labels\n"
     ]
    }
   ],
   "source": [
    "results = model('bus.jpg',save=True,save_txt=True,save_conf=True);\n",
    "for result in results:\n",
    "    #keypoints=result.keypoints\n",
    "    result.save(filename='output/result-pose.png')"
   ]
  },
  {
   "cell_type": "markdown",
   "metadata": {},
   "source": [
    "# Classification"
   ]
  },
  {
   "cell_type": "code",
   "execution_count": 9,
   "metadata": {},
   "outputs": [
    {
     "name": "stdout",
     "output_type": "stream",
     "text": [
      "Downloading https://github.com/ultralytics/assets/releases/download/v8.2.0/yolov8n-cls.pt to 'output/models/yolov8n-cls.pt'...\n"
     ]
    },
    {
     "data": {
      "application/vnd.jupyter.widget-view+json": {
       "model_id": "e60f4231cdc549628a5f48d06d11c614",
       "version_major": 2,
       "version_minor": 0
      },
      "text/plain": [
       "  0%|          | 0.00/5.30M [00:00<?, ?B/s]"
      ]
     },
     "metadata": {},
     "output_type": "display_data"
    }
   ],
   "source": [
    "#https://docs.ultralytics.com/tasks/detect/#models\n",
    "model = YOLO('output/models/yolov8n-cls.pt') # Download *.pt in output/models"
   ]
  },
  {
   "cell_type": "code",
   "execution_count": 10,
   "metadata": {},
   "outputs": [
    {
     "name": "stdout",
     "output_type": "stream",
     "text": [
      "\n",
      "image 1/1 /media/fernando/Expansion/CODE/PESQUISA/programs-tese/SYSTEM-TRAINING/yolo_emotion4/boveda/yolo-test/bus.jpg: 224x224 minibus 0.54, police_van 0.24, trolleybus 0.06, golfcart 0.02, streetcar 0.02, 4.4ms\n",
      "Speed: 21.3ms preprocess, 4.4ms inference, 0.1ms postprocess per image at shape (1, 3, 224, 224)\n",
      "Results saved to \u001b[1mruns/classify/predict\u001b[0m\n",
      "1 label saved to runs/classify/predict/labels\n"
     ]
    },
    {
     "name": "stderr",
     "output_type": "stream",
     "text": [
      "/home/fernando/.local/lib/python3.8/site-packages/torchvision/transforms/transforms.py:332: UserWarning: Argument interpolation should be of type InterpolationMode instead of int. Please, use InterpolationMode enum.\n",
      "  warnings.warn(\n"
     ]
    }
   ],
   "source": [
    "results = model('bus.jpg',save=True,save_txt=True,save_conf=True);\n",
    "for result in results:\n",
    "    #probs=result.probs\n",
    "    result.save(filename='output/result-cls.png')"
   ]
  },
  {
   "cell_type": "markdown",
   "metadata": {},
   "source": [
    "# OBB"
   ]
  },
  {
   "cell_type": "code",
   "execution_count": 11,
   "metadata": {},
   "outputs": [
    {
     "name": "stdout",
     "output_type": "stream",
     "text": [
      "Downloading https://github.com/ultralytics/assets/releases/download/v8.2.0/yolov8n-obb.pt to 'output/models/yolov8n-obb.pt'...\n"
     ]
    },
    {
     "data": {
      "application/vnd.jupyter.widget-view+json": {
       "model_id": "4d53f3896e6043f18c4514392f5ccdc5",
       "version_major": 2,
       "version_minor": 0
      },
      "text/plain": [
       "  0%|          | 0.00/6.24M [00:00<?, ?B/s]"
      ]
     },
     "metadata": {},
     "output_type": "display_data"
    }
   ],
   "source": [
    "#https://docs.ultralytics.com/tasks/detect/#models\n",
    "model = YOLO('output/models/yolov8n-obb.pt') # Download *.pt in output/models"
   ]
  },
  {
   "cell_type": "code",
   "execution_count": 12,
   "metadata": {},
   "outputs": [
    {
     "name": "stdout",
     "output_type": "stream",
     "text": [
      "\n",
      "image 1/1 /media/fernando/Expansion/CODE/PESQUISA/programs-tese/SYSTEM-TRAINING/yolo_emotion4/boveda/yolo-test/bus.jpg: 1024x768 38.4ms\n",
      "Speed: 5.2ms preprocess, 38.4ms inference, 6.9ms postprocess per image at shape (1, 3, 1024, 768)\n",
      "Results saved to \u001b[1mruns/obb/predict\u001b[0m\n",
      "1 label saved to runs/obb/predict/labels\n"
     ]
    }
   ],
   "source": [
    "results = model('bus.jpg',save=True,save_txt=True,save_conf=True);\n",
    "for result in results:\n",
    "    #\n",
    "    result.save(filename='output/result-obb.png')"
   ]
  },
  {
   "cell_type": "markdown",
   "metadata": {},
   "source": [
    "# Testing CLS"
   ]
  },
  {
   "cell_type": "code",
   "execution_count": 15,
   "metadata": {},
   "outputs": [
    {
     "name": "stdout",
     "output_type": "stream",
     "text": [
      "\n",
      "image 1/1 /media/fernando/Expansion/CODE/PESQUISA/programs-tese/SYSTEM-TRAINING/yolo_emotion4/boveda/yolo-test/bus.jpg: 224x224 minibus 0.54, police_van 0.24, trolleybus 0.06, golfcart 0.02, streetcar 0.02, 3.6ms\n",
      "Speed: 6.5ms preprocess, 3.6ms inference, 0.1ms postprocess per image at shape (1, 3, 224, 224)\n",
      "Results saved to \u001b[1mruns/classify/predict4\u001b[0m\n",
      "1 label saved to runs/classify/predict4/labels\n",
      "PROBS\n",
      "torch.Size([1000])\n",
      "END\n"
     ]
    },
    {
     "name": "stderr",
     "output_type": "stream",
     "text": [
      "/home/fernando/.local/lib/python3.8/site-packages/torchvision/transforms/transforms.py:332: UserWarning: Argument interpolation should be of type InterpolationMode instead of int. Please, use InterpolationMode enum.\n",
      "  warnings.warn(\n"
     ]
    }
   ],
   "source": [
    "model = YOLO('output/models/yolov8n-cls.pt') # Download *.pt in output/models\n",
    "results = model('bus.jpg',save=True,save_txt=True,save_conf=True);\n",
    "for result in results:\n",
    "    probs=result.probs\n",
    "    print('PROBS')\n",
    "    print(probs.data.shape)\n",
    "    print('END')\n",
    "    result.save(filename='output/result-cls.png')"
   ]
  },
  {
   "cell_type": "code",
   "execution_count": 17,
   "metadata": {},
   "outputs": [
    {
     "name": "stdout",
     "output_type": "stream",
     "text": [
      "ultralytics.engine.results.Probs object with attributes:\n",
      "\n",
      "data: tensor([1.2406e-08, 2.6841e-07, 4.3289e-05, 6.0048e-06, 3.8984e-05, 1.1361e-06, 1.9882e-07, 4.8868e-06, 3.4368e-08, 1.8475e-06, 1.6144e-09, 2.1578e-08, 3.2268e-07, 5.4272e-10, 1.5328e-05, 8.0444e-09, 6.1773e-09, 1.2639e-05, 1.3218e-06, 9.1780e-09, 1.9062e-10, 9.1053e-09, 8.2253e-07, 6.9553e-08, 5.0361e-08, 2.6874e-08,\n",
      "        1.2460e-08, 1.1650e-08, 1.0276e-08, 1.1152e-06, 6.8643e-09, 7.0475e-09, 4.2124e-08, 6.6990e-06, 3.6316e-05, 1.2337e-08, 2.7736e-07, 7.2303e-08, 5.1885e-09, 2.1677e-06, 2.2349e-08, 7.8658e-08, 6.0241e-07, 2.8653e-07, 2.9273e-08, 1.7498e-06, 3.8191e-08, 4.0130e-09, 3.0575e-07, 3.3788e-08, 6.6310e-07, 4.3473e-05,\n",
      "        1.3571e-07, 1.7258e-08, 2.6373e-07, 2.3154e-08, 4.6762e-08, 2.1801e-08, 1.9327e-08, 2.9597e-08, 2.5085e-06, 3.2232e-06, 1.6072e-06, 3.1921e-07, 8.2687e-08, 1.4717e-05, 4.3826e-09, 2.3635e-06, 2.1364e-08, 1.4411e-07, 8.2528e-09, 3.9611e-07, 9.2008e-08, 3.9951e-07, 4.5113e-08, 1.8609e-08, 2.5754e-06, 5.0713e-07,\n",
      "        3.0325e-06, 1.0826e-07, 2.9793e-07, 7.8333e-09, 7.2611e-08, 2.2977e-08, 1.3344e-06, 5.2818e-08, 2.8114e-08, 2.9631e-07, 1.0094e-06, 1.1444e-06, 1.8839e-07, 4.6309e-08, 1.6185e-08, 1.6871e-06, 2.3571e-07, 7.8079e-09, 1.1150e-06, 5.6939e-09, 2.7192e-09, 1.6175e-07, 9.5569e-07, 1.8999e-06, 7.3162e-08, 1.0564e-08,\n",
      "        7.7405e-08, 2.3560e-06, 2.2363e-07, 8.5330e-08, 3.7428e-08, 1.4110e-07, 5.0492e-09, 1.2690e-07, 3.8670e-06, 6.3365e-08, 1.8827e-08, 3.0815e-10, 2.6446e-09, 7.8534e-08, 2.5495e-06, 3.9331e-07, 2.1639e-08, 1.8244e-06, 2.8388e-08, 1.1445e-05, 1.6403e-05, 1.4137e-07, 1.3218e-06, 4.6864e-09, 1.5826e-08, 1.0851e-08,\n",
      "        3.1344e-09, 1.1187e-07, 2.1115e-07, 1.5416e-09, 1.0899e-06, 2.2789e-08, 7.3889e-07, 3.0537e-08, 2.5806e-09, 1.3562e-07, 3.4441e-09, 1.5293e-10, 1.1390e-08, 1.9788e-09, 7.3647e-07, 5.7272e-08, 2.8699e-07, 3.9395e-07, 2.4552e-04, 3.4209e-07, 7.2843e-05, 1.1403e-05, 1.5236e-06, 1.7811e-07, 2.0483e-06, 2.1787e-07,\n",
      "        1.3055e-06, 9.0264e-07, 1.5273e-06, 3.7361e-06, 1.2940e-05, 5.1238e-06, 3.2120e-06, 9.1116e-06, 4.0789e-06, 8.1068e-06, 1.5886e-07, 7.6117e-08, 4.8603e-06, 1.9987e-05, 3.6809e-04, 1.5670e-05, 4.6359e-06, 2.7854e-05, 2.7935e-06, 7.1929e-07, 1.5374e-05, 1.5824e-04, 2.0762e-05, 5.1875e-06, 2.2207e-06, 3.1941e-06,\n",
      "        1.1123e-06, 3.6453e-06, 1.6618e-06, 4.0014e-06, 1.2242e-05, 2.7804e-06, 5.1185e-06, 1.9859e-06, 1.6518e-07, 5.8035e-06, 6.4465e-06, 2.5823e-05, 7.6240e-07, 6.5354e-05, 2.9990e-06, 9.3322e-06, 5.5963e-06, 2.7773e-05, 1.8864e-06, 4.3369e-06, 4.6307e-06, 2.3032e-05, 3.0197e-07, 1.5091e-04, 1.3870e-05, 1.8511e-05,\n",
      "        1.0346e-04, 1.2229e-05, 1.0414e-06, 5.7640e-05, 3.8965e-05, 2.2686e-05, 8.3677e-06, 7.4871e-06, 5.3974e-06, 3.8579e-05, 2.3776e-06, 1.4904e-06, 8.9493e-07, 3.2710e-06, 9.0765e-06, 4.2537e-05, 2.7771e-05, 1.7479e-05, 5.3977e-05, 4.0359e-06, 9.5286e-06, 4.0508e-05, 4.4146e-06, 2.6531e-05, 3.6745e-04, 1.7031e-05,\n",
      "        2.0764e-05, 1.4200e-05, 4.2386e-06, 3.5897e-06, 1.1889e-04, 3.9532e-06, 1.2929e-05, 6.0090e-06, 1.4370e-06, 1.0723e-05, 2.4671e-04, 1.0348e-05, 7.3706e-05, 1.4847e-05, 2.8184e-06, 1.5758e-06, 6.6459e-07, 4.7305e-05, 9.1485e-07, 1.7674e-06, 4.6413e-05, 4.1428e-05, 2.2422e-04, 6.8273e-06, 2.2648e-05, 6.5682e-07,\n",
      "        6.9568e-06, 4.6195e-06, 5.8192e-07, 2.8938e-06, 1.9643e-05, 7.1299e-06, 9.4262e-06, 6.3180e-05, 6.0194e-06, 2.0587e-06, 1.1026e-06, 6.5080e-07, 1.3278e-06, 1.5878e-06, 8.6582e-10, 4.1440e-08, 1.5467e-06, 8.6759e-09, 1.8403e-09, 1.5438e-08, 3.9925e-08, 2.1737e-06, 8.5094e-07, 1.2290e-07, 2.7070e-06, 2.7521e-06,\n",
      "        1.1750e-07, 2.3383e-08, 4.0559e-08, 2.7461e-08, 1.6784e-08, 1.1597e-07, 3.1376e-07, 1.3055e-07, 1.7052e-07, 1.3240e-06, 2.2744e-07, 5.0634e-07, 3.8545e-08, 1.1182e-06, 6.7042e-09, 1.4473e-08, 1.2366e-07, 5.7209e-08, 5.2472e-09, 4.1868e-07, 1.3589e-06, 1.2841e-08, 5.7116e-08, 1.3673e-06, 7.5344e-08, 2.4872e-07,\n",
      "        6.9463e-07, 4.4680e-07, 3.2777e-07, 6.5728e-08, 1.1459e-07, 1.2941e-08, 2.0548e-08, 8.8746e-08, 3.2875e-08, 1.9754e-08, 6.6926e-10, 3.7491e-09, 3.6469e-08, 1.2247e-09, 3.3347e-09, 2.3254e-06, 1.9609e-08, 6.9677e-06, 3.7179e-08, 1.5786e-07, 3.7977e-08, 8.8319e-09, 3.6561e-07, 1.6325e-09, 2.3941e-07, 3.3920e-07,\n",
      "        7.3789e-07, 2.3688e-07, 3.0539e-06, 2.4271e-06, 4.5499e-07, 5.6957e-07, 4.3206e-07, 1.2912e-05, 1.1076e-06, 3.3340e-06, 1.1297e-05, 3.0561e-06, 7.8637e-07, 5.0352e-10, 2.3137e-09, 2.3940e-08, 3.6742e-06, 9.4394e-05, 2.0468e-06, 1.3957e-07, 1.9933e-06, 6.7613e-07, 8.7806e-06, 3.2172e-07, 6.3131e-08, 2.1262e-07,\n",
      "        6.5028e-08, 3.3746e-08, 1.0419e-06, 5.8280e-06, 1.2175e-08, 5.9523e-07, 1.8621e-08, 2.7074e-07, 8.0006e-06, 8.4070e-07, 4.7476e-08, 1.2354e-08, 1.9690e-08, 4.8647e-08, 4.2538e-08, 1.7625e-07, 2.6335e-07, 1.4495e-07, 1.4915e-08, 1.0864e-07, 5.1408e-09, 7.5053e-06, 4.8170e-06, 1.3612e-08, 7.4241e-07, 1.1461e-06,\n",
      "        9.2164e-07, 3.3893e-05, 3.5841e-08, 2.0589e-08, 2.3757e-05, 6.6131e-06, 2.8293e-08, 8.7861e-07, 6.1705e-06, 2.0046e-06, 1.2276e-04, 1.7787e-05, 1.3412e-05, 5.8363e-05, 2.0554e-04, 5.4797e-06, 2.5326e-07, 1.4640e-02, 1.9534e-03, 9.4942e-06, 1.1124e-07, 1.5743e-06, 1.5928e-04, 8.7698e-06, 6.8672e-06, 2.6377e-06,\n",
      "        6.6016e-06, 9.8226e-05, 2.0447e-06, 5.9092e-06, 5.4615e-06, 7.9805e-06, 5.1384e-06, 3.0347e-06, 6.6677e-06, 2.9482e-08, 3.9161e-07, 2.6332e-05, 1.5864e-04, 6.8027e-06, 4.2690e-05, 6.2217e-07, 8.8770e-06, 2.1964e-06, 1.9806e-06, 2.1774e-07, 5.0983e-04, 1.6062e-07, 9.7370e-08, 1.1312e-04, 9.2932e-07, 2.1536e-07,\n",
      "        2.8451e-06, 8.8584e-08, 2.2023e-05, 3.2569e-06, 5.5503e-06, 6.2967e-06, 5.9394e-08, 4.7300e-06, 2.5262e-04, 2.1719e-06, 5.4351e-05, 7.0622e-07, 2.4555e-05, 1.4655e-05, 1.4985e-05, 1.0811e-04, 4.7773e-06, 8.2947e-07, 2.2180e-06, 7.9492e-07, 2.4689e-04, 1.1760e-05, 3.4328e-07, 8.1397e-06, 7.5719e-04, 2.0821e-06,\n",
      "        5.8126e-04, 1.2917e-05, 6.3145e-07, 2.6336e-06, 6.6820e-05, 2.3250e-07, 8.0286e-07, 2.5109e-05, 1.9582e-06, 2.5731e-06, 2.5671e-04, 5.3729e-05, 2.0993e-04, 3.5660e-07, 3.0038e-06, 1.8673e-07, 3.2168e-04, 2.0230e-07, 1.2108e-06, 6.9482e-05, 1.0502e-05, 4.4253e-06, 5.9654e-07, 3.6185e-05, 7.9181e-06, 5.0267e-08,\n",
      "        2.7166e-06, 8.2766e-07, 8.4530e-08, 1.5944e-07, 1.6011e-05, 1.1538e-06, 8.8701e-08, 5.3994e-06, 2.9044e-05, 9.0302e-08, 4.1802e-07, 3.2200e-07, 1.3659e-06, 2.2314e-07, 2.6429e-06, 2.7563e-05, 2.4213e-06, 6.2785e-06, 2.4172e-06, 4.2597e-06, 7.1558e-06, 8.4286e-05, 1.9753e-07, 1.4156e-05, 5.8184e-04, 8.7795e-05,\n",
      "        6.7965e-06, 4.8900e-07, 2.3344e-06, 7.7527e-04, 1.0003e-07, 1.4677e-07, 7.7456e-06, 6.1132e-07, 5.5468e-07, 1.5813e-06, 8.0975e-06, 3.2163e-05, 2.2523e-06, 2.8402e-08, 3.3509e-06, 3.5795e-07, 1.3761e-05, 4.7674e-06, 1.9224e-06, 3.1238e-06, 2.7633e-06, 3.4439e-05, 5.5360e-06, 8.8434e-05, 2.2017e-07, 4.2078e-06,\n",
      "        4.3140e-06, 8.7835e-05, 2.1842e-06, 4.2227e-08, 6.9539e-09, 4.7020e-08, 9.6770e-05, 2.1816e-06, 2.3136e-07, 6.1122e-05, 2.6744e-07, 1.2269e-05, 4.3229e-05, 3.4920e-05, 4.1855e-05, 8.0525e-04, 5.4406e-06, 2.5493e-07, 1.1298e-07, 3.2136e-07, 3.1240e-06, 6.5527e-07, 1.7923e-04, 9.3501e-03, 1.1523e-05, 9.3393e-05,\n",
      "        7.4993e-07, 3.9043e-06, 3.2287e-07, 1.9861e-02, 9.4823e-07, 1.6538e-06, 3.3938e-06, 2.7870e-06, 2.1018e-06, 4.6056e-06, 4.9517e-05, 2.6470e-06, 1.8910e-07, 5.1518e-06, 1.0823e-05, 2.5340e-05, 4.4928e-07, 4.4125e-06, 1.0734e-06, 1.2548e-05, 5.6847e-08, 8.2377e-06, 5.0782e-06, 9.8647e-06, 6.8083e-06, 5.7634e-08,\n",
      "        2.6563e-06, 4.2148e-06, 2.4155e-06, 3.7501e-06, 1.1741e-05, 2.8452e-04, 2.4818e-07, 7.3861e-05, 6.8955e-06, 2.2491e-07, 1.2076e-04, 5.5228e-03, 2.2362e-05, 4.5070e-06, 1.6367e-02, 4.1530e-06, 3.5678e-06, 1.6147e-05, 2.5716e-05, 5.3984e-05, 2.3556e-07, 4.6083e-07, 1.9874e-05, 1.5509e-05, 3.3599e-07, 1.6948e-08,\n",
      "        7.7441e-06, 2.8502e-06, 1.5698e-07, 9.2499e-04, 3.3574e-05, 7.8700e-07, 2.7814e-06, 2.0269e-06, 1.5063e-05, 3.4310e-08, 1.6483e-05, 1.3058e-07, 6.2415e-06, 2.0576e-05, 1.9770e-05, 1.5840e-06, 1.9513e-07, 2.5061e-05, 9.3465e-06, 2.7262e-06, 2.1543e-07, 2.2890e-06, 5.4399e-06, 4.7799e-07, 4.1530e-08, 5.3350e-08,\n",
      "        2.2127e-06, 2.7892e-06, 2.6727e-03, 5.9523e-07, 5.3503e-01, 1.7035e-03, 5.5624e-03, 7.0319e-05, 4.2789e-08, 1.7131e-07, 5.4551e-04, 6.9214e-03, 2.7538e-06, 2.0432e-07, 2.4757e-05, 5.1762e-05, 1.7780e-07, 1.7211e-04, 2.9591e-06, 1.0803e-06, 2.2545e-05, 7.8431e-06, 7.0837e-06, 1.3170e-06, 3.7537e-07, 2.1321e-03,\n",
      "        2.5011e-06, 1.1265e-06, 9.9547e-05, 7.7853e-09, 1.5360e-06, 1.6365e-06, 3.0327e-06, 1.2335e-05, 7.0211e-06, 1.1111e-06, 1.7005e-07, 3.0813e-08, 3.1986e-06, 3.9307e-07, 1.1254e-04, 5.9757e-06, 1.8213e-07, 7.5949e-05, 5.1994e-07, 5.8690e-07, 4.7234e-06, 1.4927e-06, 9.7460e-06, 2.4411e-05, 1.0286e-05, 3.6892e-05,\n",
      "        7.5230e-06, 6.5319e-05, 2.7044e-05, 1.7057e-03, 1.9112e-05, 5.1258e-04, 2.6239e-06, 3.5301e-07, 1.5992e-07, 3.8213e-07, 2.1842e-08, 3.8846e-06, 1.2589e-07, 1.7994e-06, 7.4171e-07, 5.1017e-05, 4.2559e-06, 2.8382e-06, 3.0101e-07, 5.0397e-06, 1.4424e-04, 2.3079e-07, 5.1673e-06, 1.2387e-06, 1.3662e-08, 1.9732e-04,\n",
      "        4.9574e-06, 6.1519e-08, 1.4329e-05, 3.0725e-05, 1.8720e-06, 8.5121e-05, 2.4208e-01, 7.8483e-05, 1.8324e-06, 5.1381e-06, 6.6770e-07, 3.8595e-07, 2.1418e-05, 8.6749e-07, 1.2273e-05, 3.2136e-06, 6.0039e-04, 2.1254e-06, 9.6075e-06, 3.5282e-05, 5.0071e-08, 5.6036e-07, 1.7998e-06, 5.0479e-04, 5.6236e-04, 5.3135e-07,\n",
      "        1.9660e-06, 5.7477e-07, 1.6569e-05, 1.8202e-02, 3.6710e-05, 3.2634e-06, 6.7937e-06, 6.2672e-06, 3.3680e-06, 1.3970e-06, 3.7338e-06, 7.3135e-06, 1.1408e-05, 5.5771e-06, 2.2524e-05, 1.2993e-06, 8.1412e-06, 3.2651e-06, 1.2814e-06, 7.3546e-08, 4.8782e-06, 9.4087e-06, 9.3893e-06, 1.6755e-06, 4.2313e-06, 4.5150e-03,\n",
      "        4.9830e-07, 2.0847e-06, 1.0266e-05, 9.4455e-07, 3.5816e-06, 3.4529e-05, 1.2877e-06, 3.2387e-06, 4.0122e-06, 8.3314e-08, 8.7740e-06, 9.3376e-04, 6.8625e-04, 3.6298e-06, 3.9134e-07, 7.0292e-05, 4.0375e-06, 2.1065e-06, 7.2632e-09, 1.1036e-04, 1.4159e-07, 5.4760e-05, 6.4649e-06, 2.4005e-05, 7.5969e-07, 2.6579e-04,\n",
      "        2.6340e-06, 1.0796e-05, 1.0708e-04, 9.5552e-08, 5.8719e-07, 3.1808e-07, 4.3259e-05, 1.0732e-06, 7.0962e-06, 4.5651e-07, 1.5637e-06, 5.4455e-06, 6.4608e-06, 6.9935e-05, 2.6582e-06, 4.4618e-06, 1.3152e-05, 2.5229e-06, 7.5646e-06, 8.2795e-08, 3.6929e-06, 4.2519e-06, 2.1396e-07, 1.9288e-02, 7.4357e-04, 8.2275e-07,\n",
      "        1.7027e-07, 8.6767e-06, 1.6405e-05, 1.3925e-05, 5.4404e-05, 3.9730e-05, 2.9615e-05, 3.3138e-06, 5.4184e-05, 3.8611e-06, 4.7078e-05, 2.4672e-04, 1.4275e-07, 3.3219e-07, 1.5722e-07, 1.0520e-05, 1.3037e-07, 5.9608e-07, 2.4263e-06, 2.6239e-05, 4.0853e-05, 1.1106e-06, 6.6034e-07, 8.6580e-08, 1.1299e-05, 1.5748e-06,\n",
      "        1.7169e-07, 2.5152e-06, 9.1598e-06, 4.4407e-06, 1.1381e-04, 2.1926e-06, 1.1957e-04, 1.2486e-05, 1.3191e-04, 1.0761e-03, 8.7778e-06, 6.0723e-05, 2.4490e-04, 1.0571e-04, 3.1681e-04, 7.2284e-07, 5.8338e-02, 2.9396e-05, 1.0633e-06, 2.1640e-04, 1.2736e-07, 1.5611e-03, 1.2525e-04, 2.6508e-06, 1.2776e-04, 4.1702e-07,\n",
      "        5.4091e-08, 2.1052e-06, 1.1039e-04, 2.1724e-06, 3.0402e-06, 2.4221e-05, 1.8823e-04, 7.2192e-09, 2.0133e-07, 3.0156e-07, 8.7003e-07, 5.1245e-04, 5.2525e-08, 3.7219e-05, 6.5127e-05, 3.5165e-05, 4.5993e-06, 9.9610e-09, 3.4515e-05, 1.1905e-05, 2.1599e-06, 1.2410e-07, 2.4863e-07, 3.2728e-07, 2.3245e-03, 6.3689e-08,\n",
      "        1.7410e-06, 1.9332e-06, 5.9455e-07, 8.7224e-07, 6.1078e-08, 1.5091e-03, 7.6229e-06, 3.1800e-06, 2.0672e-06, 1.4646e-04, 3.0443e-05, 4.4844e-07, 2.2143e-07, 5.0146e-08, 1.7039e-06, 1.1728e-09, 3.1656e-09, 3.2040e-09, 6.6983e-07, 1.3087e-03, 4.2090e-07, 7.7253e-07, 4.5100e-05, 3.1267e-08, 8.5748e-07, 1.2177e-08,\n",
      "        9.4392e-07, 3.7479e-07, 5.3387e-06, 1.1936e-07, 2.2216e-09, 1.3793e-09, 2.8537e-08, 3.3658e-07, 9.8609e-08, 7.7401e-09, 5.6768e-08, 1.3844e-07, 7.6431e-06, 2.6386e-07, 3.9702e-06, 5.1090e-08, 1.4971e-06, 6.5125e-07, 3.3913e-05, 4.3933e-06, 4.0097e-07, 9.5451e-08, 6.9275e-06, 1.7385e-08, 3.5627e-07, 4.8033e-07,\n",
      "        1.4168e-08, 5.8264e-08, 3.9488e-09, 1.2860e-07, 8.4164e-08, 1.8361e-08, 2.2507e-07, 1.0101e-08, 1.3096e-05, 6.0138e-05, 6.5901e-07, 2.5098e-06, 3.0664e-07, 4.2531e-06, 1.0966e-06, 2.8785e-04, 2.9495e-06, 1.1834e-07, 2.5190e-06, 4.7154e-05, 2.7472e-04, 7.1131e-06, 7.3223e-08, 9.5536e-09, 1.3094e-09, 2.1422e-06,\n",
      "        2.1895e-07, 1.4029e-07, 1.3476e-07, 1.7717e-09, 6.9106e-09, 2.7775e-10, 3.1174e-09, 3.4081e-09, 2.3049e-07, 4.8447e-09, 1.4538e-06, 7.7145e-05], device='cuda:0')\n",
      "orig_shape: None\n",
      "shape: torch.Size([1000])\n",
      "top1: 654\n",
      "top1conf: tensor(0.5350, device='cuda:0')\n",
      "top5: [654, 734, 874, 575, 829]\n",
      "top5conf: tensor([0.5350, 0.2421, 0.0583, 0.0199, 0.0193], device='cuda:0')\n"
     ]
    }
   ],
   "source": [
    "print(probs)"
   ]
  },
  {
   "cell_type": "code",
   "execution_count": null,
   "metadata": {},
   "outputs": [],
   "source": []
  }
 ],
 "metadata": {
  "kernelspec": {
   "display_name": "Python 3",
   "language": "python",
   "name": "python3"
  },
  "language_info": {
   "codemirror_mode": {
    "name": "ipython",
    "version": 3
   },
   "file_extension": ".py",
   "mimetype": "text/x-python",
   "name": "python",
   "nbconvert_exporter": "python",
   "pygments_lexer": "ipython3",
   "version": "3.8.10"
  }
 },
 "nbformat": 4,
 "nbformat_minor": 4
}
