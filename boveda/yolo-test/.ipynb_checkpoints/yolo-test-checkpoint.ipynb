{
 "cells": [
  {
   "cell_type": "code",
   "execution_count": 1,
   "metadata": {},
   "outputs": [],
   "source": [
    "from ultralytics import YOLO"
   ]
  },
  {
   "cell_type": "code",
   "execution_count": 2,
   "metadata": {},
   "outputs": [],
   "source": [
    "import os\n",
    "\n",
    "os.makedirs('output/models',exist_ok=True)"
   ]
  },
  {
   "cell_type": "markdown",
   "metadata": {},
   "source": [
    "# Deteção"
   ]
  },
  {
   "cell_type": "code",
   "execution_count": 3,
   "metadata": {},
   "outputs": [
    {
     "name": "stdout",
     "output_type": "stream",
     "text": [
      "Downloading https://github.com/ultralytics/assets/releases/download/v8.2.0/yolov8n.pt to 'output/models/yolov8n.pt'...\n"
     ]
    },
    {
     "data": {
      "application/vnd.jupyter.widget-view+json": {
       "model_id": "7306669134914972928f8fae514a84d9",
       "version_major": 2,
       "version_minor": 0
      },
      "text/plain": [
       "  0%|          | 0.00/6.23M [00:00<?, ?B/s]"
      ]
     },
     "metadata": {},
     "output_type": "display_data"
    }
   ],
   "source": [
    "#https://docs.ultralytics.com/tasks/detect/#models\n",
    "model = YOLO('output/models/yolov8n.pt') # Download *.pt in output/models"
   ]
  },
  {
   "cell_type": "code",
   "execution_count": 4,
   "metadata": {},
   "outputs": [
    {
     "name": "stdout",
     "output_type": "stream",
     "text": [
      "\n",
      "image 1/1 /media/fernando/Expansion/CODE/PESQUISA/programs-tese/SYSTEM-TRAINING/YOLO/yolo-test/bus.jpg: 640x480 4 persons, 1 bus, 1 stop sign, 19.0ms\n",
      "Speed: 3.0ms preprocess, 19.0ms inference, 76.8ms postprocess per image at shape (1, 3, 640, 480)\n",
      "Results saved to \u001b[1mruns/detect/predict\u001b[0m\n",
      "1 label saved to runs/detect/predict/labels\n"
     ]
    }
   ],
   "source": [
    "results = model('bus.jpg',save=True,save_txt=True,save_conf=True);\n",
    "for result in results:\n",
    "    #boxes=result.boxes\n",
    "    result.save(filename='output/result-det.png')"
   ]
  },
  {
   "cell_type": "markdown",
   "metadata": {},
   "source": [
    "# Segmentação\n"
   ]
  },
  {
   "cell_type": "code",
   "execution_count": 5,
   "metadata": {},
   "outputs": [
    {
     "name": "stdout",
     "output_type": "stream",
     "text": [
      "Downloading https://github.com/ultralytics/assets/releases/download/v8.2.0/yolov8n-seg.pt to 'output/models/yolov8n-seg.pt'...\n"
     ]
    },
    {
     "data": {
      "application/vnd.jupyter.widget-view+json": {
       "model_id": "152a523b7813476db27e57594a4e57f2",
       "version_major": 2,
       "version_minor": 0
      },
      "text/plain": [
       "  0%|          | 0.00/6.73M [00:00<?, ?B/s]"
      ]
     },
     "metadata": {},
     "output_type": "display_data"
    }
   ],
   "source": [
    "#https://docs.ultralytics.com/tasks/detect/#models\n",
    "model = YOLO('output/models/yolov8n-seg.pt') # Download *.pt in output/models"
   ]
  },
  {
   "cell_type": "code",
   "execution_count": 6,
   "metadata": {},
   "outputs": [
    {
     "name": "stdout",
     "output_type": "stream",
     "text": [
      "\n",
      "image 1/1 /media/fernando/Expansion/CODE/PESQUISA/programs-tese/SYSTEM-TRAINING/YOLO/yolo-test/bus.jpg: 640x480 4 persons, 1 bus, 1 skateboard, 30.2ms\n",
      "Speed: 3.4ms preprocess, 30.2ms inference, 2.5ms postprocess per image at shape (1, 3, 640, 480)\n",
      "Results saved to \u001b[1mruns/segment/predict\u001b[0m\n",
      "1 label saved to runs/segment/predict/labels\n"
     ]
    }
   ],
   "source": [
    "results = model('bus.jpg',save=True,save_txt=True,save_conf=True);\n",
    "for result in results:\n",
    "    #masks=result.masks\n",
    "    result.save(filename='output/result-seg.png')"
   ]
  },
  {
   "cell_type": "markdown",
   "metadata": {},
   "source": [
    "# Pose"
   ]
  },
  {
   "cell_type": "code",
   "execution_count": 7,
   "metadata": {},
   "outputs": [
    {
     "name": "stdout",
     "output_type": "stream",
     "text": [
      "Downloading https://github.com/ultralytics/assets/releases/download/v8.2.0/yolov8n-pose.pt to 'output/models/yolov8n-pose.pt'...\n"
     ]
    },
    {
     "data": {
      "application/vnd.jupyter.widget-view+json": {
       "model_id": "75228779acc849179d346d848fd6ddac",
       "version_major": 2,
       "version_minor": 0
      },
      "text/plain": [
       "  0%|          | 0.00/6.51M [00:00<?, ?B/s]"
      ]
     },
     "metadata": {},
     "output_type": "display_data"
    }
   ],
   "source": [
    "#https://docs.ultralytics.com/tasks/detect/#models\n",
    "model = YOLO('output/models/yolov8n-pose.pt') # Download *.pt in output/models"
   ]
  },
  {
   "cell_type": "code",
   "execution_count": 8,
   "metadata": {},
   "outputs": [
    {
     "name": "stdout",
     "output_type": "stream",
     "text": [
      "\n",
      "image 1/1 /media/fernando/Expansion/CODE/PESQUISA/programs-tese/SYSTEM-TRAINING/YOLO/yolo-test/bus.jpg: 640x480 4 persons, 19.5ms\n",
      "Speed: 2.7ms preprocess, 19.5ms inference, 1.1ms postprocess per image at shape (1, 3, 640, 480)\n",
      "Results saved to \u001b[1mruns/pose/predict\u001b[0m\n",
      "1 label saved to runs/pose/predict/labels\n"
     ]
    }
   ],
   "source": [
    "results = model('bus.jpg',save=True,save_txt=True,save_conf=True);\n",
    "for result in results:\n",
    "    #keypoints=result.keypoints\n",
    "    result.save(filename='output/result-pose.png')"
   ]
  },
  {
   "cell_type": "markdown",
   "metadata": {},
   "source": [
    "# Classification"
   ]
  },
  {
   "cell_type": "code",
   "execution_count": 9,
   "metadata": {},
   "outputs": [
    {
     "name": "stdout",
     "output_type": "stream",
     "text": [
      "Downloading https://github.com/ultralytics/assets/releases/download/v8.2.0/yolov8n-cls.pt to 'output/models/yolov8n-cls.pt'...\n"
     ]
    },
    {
     "data": {
      "application/vnd.jupyter.widget-view+json": {
       "model_id": "d3bbafd807194206b42ffff57695998e",
       "version_major": 2,
       "version_minor": 0
      },
      "text/plain": [
       "  0%|          | 0.00/5.30M [00:00<?, ?B/s]"
      ]
     },
     "metadata": {},
     "output_type": "display_data"
    }
   ],
   "source": [
    "#https://docs.ultralytics.com/tasks/detect/#models\n",
    "model = YOLO('output/models/yolov8n-cls.pt') # Download *.pt in output/models"
   ]
  },
  {
   "cell_type": "code",
   "execution_count": 10,
   "metadata": {},
   "outputs": [
    {
     "name": "stdout",
     "output_type": "stream",
     "text": [
      "\n",
      "image 1/1 /media/fernando/Expansion/CODE/PESQUISA/programs-tese/SYSTEM-TRAINING/YOLO/yolo-test/bus.jpg: 224x224 minibus 0.54, police_van 0.24, trolleybus 0.06, golfcart 0.02, streetcar 0.02, 2.7ms\n",
      "Speed: 10.3ms preprocess, 2.7ms inference, 0.1ms postprocess per image at shape (1, 3, 224, 224)\n",
      "Results saved to \u001b[1mruns/classify/predict\u001b[0m\n",
      "1 label saved to runs/classify/predict/labels\n"
     ]
    },
    {
     "name": "stderr",
     "output_type": "stream",
     "text": [
      "/home/fernando/.local/lib/python3.8/site-packages/torchvision/transforms/transforms.py:332: UserWarning: Argument interpolation should be of type InterpolationMode instead of int. Please, use InterpolationMode enum.\n",
      "  warnings.warn(\n"
     ]
    }
   ],
   "source": [
    "results = model('bus.jpg',save=True,save_txt=True,save_conf=True);\n",
    "for result in results:\n",
    "    #probs=result.probs\n",
    "    result.save(filename='output/result-cls.png')"
   ]
  },
  {
   "cell_type": "markdown",
   "metadata": {},
   "source": [
    "# OBB"
   ]
  },
  {
   "cell_type": "code",
   "execution_count": 11,
   "metadata": {},
   "outputs": [
    {
     "name": "stdout",
     "output_type": "stream",
     "text": [
      "Downloading https://github.com/ultralytics/assets/releases/download/v8.2.0/yolov8n-obb.pt to 'output/models/yolov8n-obb.pt'...\n"
     ]
    },
    {
     "data": {
      "application/vnd.jupyter.widget-view+json": {
       "model_id": "535923a4a1434badb350b3a79f5f9f20",
       "version_major": 2,
       "version_minor": 0
      },
      "text/plain": [
       "  0%|          | 0.00/6.24M [00:00<?, ?B/s]"
      ]
     },
     "metadata": {},
     "output_type": "display_data"
    }
   ],
   "source": [
    "#https://docs.ultralytics.com/tasks/detect/#models\n",
    "model = YOLO('output/models/yolov8n-obb.pt') # Download *.pt in output/models"
   ]
  },
  {
   "cell_type": "code",
   "execution_count": 12,
   "metadata": {},
   "outputs": [
    {
     "name": "stdout",
     "output_type": "stream",
     "text": [
      "\n",
      "image 1/1 /media/fernando/Expansion/CODE/PESQUISA/programs-tese/SYSTEM-TRAINING/YOLO/yolo-test/bus.jpg: 1024x768 38.9ms\n",
      "Speed: 7.7ms preprocess, 38.9ms inference, 1.7ms postprocess per image at shape (1, 3, 1024, 768)\n",
      "Results saved to \u001b[1mruns/obb/predict\u001b[0m\n",
      "1 label saved to runs/obb/predict/labels\n"
     ]
    }
   ],
   "source": [
    "results = model('bus.jpg',save=True,save_txt=True,save_conf=True);\n",
    "for result in results:\n",
    "    #\n",
    "    result.save(filename='output/result-obb.png')"
   ]
  },
  {
   "cell_type": "code",
   "execution_count": null,
   "metadata": {},
   "outputs": [],
   "source": []
  }
 ],
 "metadata": {
  "kernelspec": {
   "display_name": "Python 3",
   "language": "python",
   "name": "python3"
  },
  "language_info": {
   "codemirror_mode": {
    "name": "ipython",
    "version": 3
   },
   "file_extension": ".py",
   "mimetype": "text/x-python",
   "name": "python",
   "nbconvert_exporter": "python",
   "pygments_lexer": "ipython3",
   "version": "3.8.10"
  }
 },
 "nbformat": 4,
 "nbformat_minor": 4
}
